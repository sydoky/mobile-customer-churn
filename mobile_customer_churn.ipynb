{
  "nbformat": 4,
  "nbformat_minor": 0,
  "metadata": {
    "colab": {
      "name": "mobile customer churn.ipynb",
      "provenance": [],
      "authorship_tag": "ABX9TyO+BrXWIQE/WpmFIRtejyzK",
      "include_colab_link": true
    },
    "kernelspec": {
      "name": "python3",
      "display_name": "Python 3"
    },
    "language_info": {
      "name": "python"
    }
  },
  "cells": [
    {
      "cell_type": "markdown",
      "metadata": {
        "id": "view-in-github",
        "colab_type": "text"
      },
      "source": [
        "<a href=\"https://colab.research.google.com/github/sydoky/mobile-customer-churn/blob/main/mobile_customer_churn.ipynb\" target=\"_parent\"><img src=\"https://colab.research.google.com/assets/colab-badge.svg\" alt=\"Open In Colab\"/></a>"
      ]
    },
    {
      "cell_type": "markdown",
      "metadata": {
        "id": "KODaP7qsz_o4"
      },
      "source": [
        "# **Mobile Customer Churn**\n",
        "In this Portfolio task you will work with some (fake but realistic) data on Mobile Customer Churn. Churn is where a customer leaves the mobile provider. The goal is to build a simple predictive model to predict churn from available features.\n",
        "\n",
        "The data was generated (by Hume Winzar at Macquarie) based on a real dataset provided by Optus. The data is simulated but the column headings are the same. (Note that I'm not sure if all of the real relationships in this data are preserved so you need to be cautious in interpreting the results of your analysis here).\n",
        "\n",
        "The data is provided in file MobileCustomerChurn.csv and column headings are defined in a file MobileChurnDataDictionary.csv (store these in the files folder in your project).\n",
        "\n",
        "Your high level goal in this notebook is to try to build and evaluate a predictive model for churn - predict the value of the CHURN_IND field in the data from some of the other fields. Note that the three RECON fields should not be used as they indicate whether the customer reconnected after having churned\n"
      ]
    },
    {
      "cell_type": "code",
      "metadata": {
        "id": "RkY1LasSvqtW"
      },
      "source": [
        "import pandas as pd\n",
        "import numpy as np\n",
        "import matplotlib.pyplot as plt\n",
        "import seaborn as sns\n",
        "\n",
        "%matplotlib inline\n",
        "\n",
        "from sklearn.linear_model import LogisticRegression\n",
        "from sklearn.neighbors import KNeighborsClassifier\n",
        "from sklearn.ensemble import RandomForestClassifier\n",
        "from sklearn.svm import LinearSVC\n",
        "\n",
        "from sklearn.model_selection import train_test_split, cross_val_score\n",
        "from sklearn.model_selection import RandomizedSearchCV,GridSearchCV\n",
        "from sklearn.metrics import confusion_matrix, classification_report\n",
        "from sklearn.metrics import precision_score, recall_score, f1_score\n",
        "from sklearn.metrics import plot_roc_curve"
      ],
      "execution_count": 1,
      "outputs": []
    },
    {
      "cell_type": "code",
      "metadata": {
        "id": "q5UB6hVXwJ41"
      },
      "source": [
        "df=pd.read_csv(\"/content/MobileCustomerChurn.csv\")"
      ],
      "execution_count": 2,
      "outputs": []
    },
    {
      "cell_type": "code",
      "metadata": {
        "colab": {
          "base_uri": "https://localhost:8080/",
          "height": 434
        },
        "id": "kY22MFywwPns",
        "outputId": "17b3db6c-28b7-4282-d0af-cbe9aeaff5bf"
      },
      "source": [
        "df"
      ],
      "execution_count": 3,
      "outputs": [
        {
          "output_type": "execute_result",
          "data": {
            "text/html": [
              "<div>\n",
              "<style scoped>\n",
              "    .dataframe tbody tr th:only-of-type {\n",
              "        vertical-align: middle;\n",
              "    }\n",
              "\n",
              "    .dataframe tbody tr th {\n",
              "        vertical-align: top;\n",
              "    }\n",
              "\n",
              "    .dataframe thead th {\n",
              "        text-align: right;\n",
              "    }\n",
              "</style>\n",
              "<table border=\"1\" class=\"dataframe\">\n",
              "  <thead>\n",
              "    <tr style=\"text-align: right;\">\n",
              "      <th></th>\n",
              "      <th>INDEX</th>\n",
              "      <th>CUST_ID</th>\n",
              "      <th>ACCOUNT_TENURE</th>\n",
              "      <th>ACCT_CNT_SERVICES</th>\n",
              "      <th>AGE</th>\n",
              "      <th>CFU</th>\n",
              "      <th>SERVICE_TENURE</th>\n",
              "      <th>PLAN_ACCESS_FEE</th>\n",
              "      <th>BYO_PLAN_STATUS</th>\n",
              "      <th>PLAN_TENURE</th>\n",
              "      <th>MONTHS_OF_CONTRACT_REMAINING</th>\n",
              "      <th>LAST_FX_CONTRACT_DURATION</th>\n",
              "      <th>CONTRACT_STATUS</th>\n",
              "      <th>PREV_CONTRACT_DURATION</th>\n",
              "      <th>HANDSET_USED_BRAND</th>\n",
              "      <th>CHURN_IND</th>\n",
              "      <th>MONTHLY_SPEND</th>\n",
              "      <th>COUNTRY_METRO_REGION</th>\n",
              "      <th>STATE</th>\n",
              "      <th>RECON_SMS_NEXT_MTH</th>\n",
              "      <th>RECON_TELE_NEXT_MTH</th>\n",
              "      <th>RECON_EMAIL_NEXT_MTH</th>\n",
              "    </tr>\n",
              "  </thead>\n",
              "  <tbody>\n",
              "    <tr>\n",
              "      <th>0</th>\n",
              "      <td>1</td>\n",
              "      <td>1</td>\n",
              "      <td>46</td>\n",
              "      <td>1</td>\n",
              "      <td>30</td>\n",
              "      <td>CONSUMER</td>\n",
              "      <td>46</td>\n",
              "      <td>54.54</td>\n",
              "      <td>NON BYO</td>\n",
              "      <td>15</td>\n",
              "      <td>0</td>\n",
              "      <td>24</td>\n",
              "      <td>OFF-CONTRACT</td>\n",
              "      <td>24</td>\n",
              "      <td>SAMSUNG</td>\n",
              "      <td>1</td>\n",
              "      <td>61.40</td>\n",
              "      <td>COUNTRY</td>\n",
              "      <td>WA</td>\n",
              "      <td>NaN</td>\n",
              "      <td>NaN</td>\n",
              "      <td>NaN</td>\n",
              "    </tr>\n",
              "    <tr>\n",
              "      <th>1</th>\n",
              "      <td>2</td>\n",
              "      <td>2</td>\n",
              "      <td>60</td>\n",
              "      <td>3</td>\n",
              "      <td>55</td>\n",
              "      <td>CONSUMER</td>\n",
              "      <td>59</td>\n",
              "      <td>54.54</td>\n",
              "      <td>NON BYO</td>\n",
              "      <td>5</td>\n",
              "      <td>0</td>\n",
              "      <td>24</td>\n",
              "      <td>OFF-CONTRACT</td>\n",
              "      <td>24</td>\n",
              "      <td>APPLE</td>\n",
              "      <td>1</td>\n",
              "      <td>54.54</td>\n",
              "      <td>METRO</td>\n",
              "      <td>NSW</td>\n",
              "      <td>NaN</td>\n",
              "      <td>NaN</td>\n",
              "      <td>NaN</td>\n",
              "    </tr>\n",
              "    <tr>\n",
              "      <th>2</th>\n",
              "      <td>3</td>\n",
              "      <td>5</td>\n",
              "      <td>65</td>\n",
              "      <td>1</td>\n",
              "      <td>29</td>\n",
              "      <td>CONSUMER</td>\n",
              "      <td>65</td>\n",
              "      <td>40.90</td>\n",
              "      <td>BYO</td>\n",
              "      <td>15</td>\n",
              "      <td>0</td>\n",
              "      <td>12</td>\n",
              "      <td>OFF-CONTRACT</td>\n",
              "      <td>12</td>\n",
              "      <td>APPLE</td>\n",
              "      <td>1</td>\n",
              "      <td>2.50</td>\n",
              "      <td>COUNTRY</td>\n",
              "      <td>WA</td>\n",
              "      <td>NaN</td>\n",
              "      <td>NaN</td>\n",
              "      <td>NaN</td>\n",
              "    </tr>\n",
              "    <tr>\n",
              "      <th>3</th>\n",
              "      <td>4</td>\n",
              "      <td>6</td>\n",
              "      <td>31</td>\n",
              "      <td>1</td>\n",
              "      <td>51</td>\n",
              "      <td>CONSUMER</td>\n",
              "      <td>31</td>\n",
              "      <td>31.81</td>\n",
              "      <td>NON BYO</td>\n",
              "      <td>31</td>\n",
              "      <td>0</td>\n",
              "      <td>24</td>\n",
              "      <td>OFF-CONTRACT</td>\n",
              "      <td>24</td>\n",
              "      <td>APPLE</td>\n",
              "      <td>1</td>\n",
              "      <td>6.48</td>\n",
              "      <td>COUNTRY</td>\n",
              "      <td>VIC</td>\n",
              "      <td>NaN</td>\n",
              "      <td>NaN</td>\n",
              "      <td>NaN</td>\n",
              "    </tr>\n",
              "    <tr>\n",
              "      <th>4</th>\n",
              "      <td>5</td>\n",
              "      <td>8</td>\n",
              "      <td>95</td>\n",
              "      <td>1</td>\n",
              "      <td>31</td>\n",
              "      <td>CONSUMER</td>\n",
              "      <td>95</td>\n",
              "      <td>54.54</td>\n",
              "      <td>NON BYO</td>\n",
              "      <td>0</td>\n",
              "      <td>0</td>\n",
              "      <td>24</td>\n",
              "      <td>OFF-CONTRACT</td>\n",
              "      <td>24</td>\n",
              "      <td>APPLE</td>\n",
              "      <td>1</td>\n",
              "      <td>100.22</td>\n",
              "      <td>METRO</td>\n",
              "      <td>NSW</td>\n",
              "      <td>NaN</td>\n",
              "      <td>NaN</td>\n",
              "      <td>NaN</td>\n",
              "    </tr>\n",
              "    <tr>\n",
              "      <th>...</th>\n",
              "      <td>...</td>\n",
              "      <td>...</td>\n",
              "      <td>...</td>\n",
              "      <td>...</td>\n",
              "      <td>...</td>\n",
              "      <td>...</td>\n",
              "      <td>...</td>\n",
              "      <td>...</td>\n",
              "      <td>...</td>\n",
              "      <td>...</td>\n",
              "      <td>...</td>\n",
              "      <td>...</td>\n",
              "      <td>...</td>\n",
              "      <td>...</td>\n",
              "      <td>...</td>\n",
              "      <td>...</td>\n",
              "      <td>...</td>\n",
              "      <td>...</td>\n",
              "      <td>...</td>\n",
              "      <td>...</td>\n",
              "      <td>...</td>\n",
              "      <td>...</td>\n",
              "    </tr>\n",
              "    <tr>\n",
              "      <th>46201</th>\n",
              "      <td>46202</td>\n",
              "      <td>79494</td>\n",
              "      <td>10</td>\n",
              "      <td>1</td>\n",
              "      <td>61</td>\n",
              "      <td>CONSUMER</td>\n",
              "      <td>9</td>\n",
              "      <td>27.27</td>\n",
              "      <td>BYO</td>\n",
              "      <td>7</td>\n",
              "      <td>0</td>\n",
              "      <td>0</td>\n",
              "      <td>NO-CONTRACT</td>\n",
              "      <td>0</td>\n",
              "      <td>OTHER</td>\n",
              "      <td>0</td>\n",
              "      <td>27.27</td>\n",
              "      <td>COUNTRY</td>\n",
              "      <td>VIC</td>\n",
              "      <td>0.0</td>\n",
              "      <td>1.0</td>\n",
              "      <td>0.0</td>\n",
              "    </tr>\n",
              "    <tr>\n",
              "      <th>46202</th>\n",
              "      <td>46203</td>\n",
              "      <td>79495</td>\n",
              "      <td>2</td>\n",
              "      <td>1</td>\n",
              "      <td>53</td>\n",
              "      <td>CONSUMER</td>\n",
              "      <td>2</td>\n",
              "      <td>54.54</td>\n",
              "      <td>NON BYO</td>\n",
              "      <td>2</td>\n",
              "      <td>0</td>\n",
              "      <td>24</td>\n",
              "      <td>OFF-CONTRACT</td>\n",
              "      <td>24</td>\n",
              "      <td>UNKNOWN</td>\n",
              "      <td>1</td>\n",
              "      <td>54.99</td>\n",
              "      <td>METRO</td>\n",
              "      <td>NSW</td>\n",
              "      <td>NaN</td>\n",
              "      <td>NaN</td>\n",
              "      <td>NaN</td>\n",
              "    </tr>\n",
              "    <tr>\n",
              "      <th>46203</th>\n",
              "      <td>46204</td>\n",
              "      <td>79496</td>\n",
              "      <td>47</td>\n",
              "      <td>1</td>\n",
              "      <td>22</td>\n",
              "      <td>CONSUMER</td>\n",
              "      <td>47</td>\n",
              "      <td>72.72</td>\n",
              "      <td>NON BYO</td>\n",
              "      <td>7</td>\n",
              "      <td>17</td>\n",
              "      <td>24</td>\n",
              "      <td>ON-CONTRACT</td>\n",
              "      <td>24</td>\n",
              "      <td>APPLE</td>\n",
              "      <td>0</td>\n",
              "      <td>72.72</td>\n",
              "      <td>COUNTRY</td>\n",
              "      <td>NSW</td>\n",
              "      <td>0.0</td>\n",
              "      <td>0.0</td>\n",
              "      <td>0.0</td>\n",
              "    </tr>\n",
              "    <tr>\n",
              "      <th>46204</th>\n",
              "      <td>46205</td>\n",
              "      <td>79497</td>\n",
              "      <td>94</td>\n",
              "      <td>1</td>\n",
              "      <td>40</td>\n",
              "      <td>CONSUMER</td>\n",
              "      <td>182</td>\n",
              "      <td>17.27</td>\n",
              "      <td>NON BYO</td>\n",
              "      <td>4</td>\n",
              "      <td>0</td>\n",
              "      <td>24</td>\n",
              "      <td>OFF-CONTRACT</td>\n",
              "      <td>24</td>\n",
              "      <td>APPLE</td>\n",
              "      <td>0</td>\n",
              "      <td>17.27</td>\n",
              "      <td>METRO</td>\n",
              "      <td>VIC</td>\n",
              "      <td>0.0</td>\n",
              "      <td>0.0</td>\n",
              "      <td>0.0</td>\n",
              "    </tr>\n",
              "    <tr>\n",
              "      <th>46205</th>\n",
              "      <td>46206</td>\n",
              "      <td>79500</td>\n",
              "      <td>0</td>\n",
              "      <td>1</td>\n",
              "      <td>24</td>\n",
              "      <td>CONSUMER</td>\n",
              "      <td>0</td>\n",
              "      <td>36.36</td>\n",
              "      <td>BYO</td>\n",
              "      <td>0</td>\n",
              "      <td>0</td>\n",
              "      <td>0</td>\n",
              "      <td>NO-CONTRACT</td>\n",
              "      <td>0</td>\n",
              "      <td>APPLE</td>\n",
              "      <td>0</td>\n",
              "      <td>36.36</td>\n",
              "      <td>METRO</td>\n",
              "      <td>NSW</td>\n",
              "      <td>0.0</td>\n",
              "      <td>0.0</td>\n",
              "      <td>0.0</td>\n",
              "    </tr>\n",
              "  </tbody>\n",
              "</table>\n",
              "<p>46206 rows × 22 columns</p>\n",
              "</div>"
            ],
            "text/plain": [
              "       INDEX  CUST_ID  ...  RECON_TELE_NEXT_MTH  RECON_EMAIL_NEXT_MTH\n",
              "0          1        1  ...                  NaN                   NaN\n",
              "1          2        2  ...                  NaN                   NaN\n",
              "2          3        5  ...                  NaN                   NaN\n",
              "3          4        6  ...                  NaN                   NaN\n",
              "4          5        8  ...                  NaN                   NaN\n",
              "...      ...      ...  ...                  ...                   ...\n",
              "46201  46202    79494  ...                  1.0                   0.0\n",
              "46202  46203    79495  ...                  NaN                   NaN\n",
              "46203  46204    79496  ...                  0.0                   0.0\n",
              "46204  46205    79497  ...                  0.0                   0.0\n",
              "46205  46206    79500  ...                  0.0                   0.0\n",
              "\n",
              "[46206 rows x 22 columns]"
            ]
          },
          "metadata": {},
          "execution_count": 3
        }
      ]
    },
    {
      "cell_type": "code",
      "metadata": {
        "colab": {
          "base_uri": "https://localhost:8080/"
        },
        "id": "1Nuot8iVwZ0A",
        "outputId": "db20c037-752d-41d3-fcd3-bfb121b0a6cd"
      },
      "source": [
        "df.info()"
      ],
      "execution_count": 4,
      "outputs": [
        {
          "output_type": "stream",
          "name": "stdout",
          "text": [
            "<class 'pandas.core.frame.DataFrame'>\n",
            "RangeIndex: 46206 entries, 0 to 46205\n",
            "Data columns (total 22 columns):\n",
            " #   Column                        Non-Null Count  Dtype  \n",
            "---  ------                        --------------  -----  \n",
            " 0   INDEX                         46206 non-null  int64  \n",
            " 1   CUST_ID                       46206 non-null  int64  \n",
            " 2   ACCOUNT_TENURE                46206 non-null  int64  \n",
            " 3   ACCT_CNT_SERVICES             46206 non-null  int64  \n",
            " 4   AGE                           46206 non-null  object \n",
            " 5   CFU                           46206 non-null  object \n",
            " 6   SERVICE_TENURE                46206 non-null  int64  \n",
            " 7   PLAN_ACCESS_FEE               46206 non-null  float64\n",
            " 8   BYO_PLAN_STATUS               46206 non-null  object \n",
            " 9   PLAN_TENURE                   46206 non-null  int64  \n",
            " 10  MONTHS_OF_CONTRACT_REMAINING  46206 non-null  int64  \n",
            " 11  LAST_FX_CONTRACT_DURATION     46206 non-null  int64  \n",
            " 12  CONTRACT_STATUS               46206 non-null  object \n",
            " 13  PREV_CONTRACT_DURATION        46206 non-null  int64  \n",
            " 14  HANDSET_USED_BRAND            46206 non-null  object \n",
            " 15  CHURN_IND                     46206 non-null  int64  \n",
            " 16  MONTHLY_SPEND                 46206 non-null  float64\n",
            " 17  COUNTRY_METRO_REGION          46205 non-null  object \n",
            " 18  STATE                         46205 non-null  object \n",
            " 19  RECON_SMS_NEXT_MTH            28416 non-null  float64\n",
            " 20  RECON_TELE_NEXT_MTH           28416 non-null  float64\n",
            " 21  RECON_EMAIL_NEXT_MTH          28416 non-null  float64\n",
            "dtypes: float64(5), int64(10), object(7)\n",
            "memory usage: 7.8+ MB\n"
          ]
        }
      ]
    },
    {
      "cell_type": "code",
      "metadata": {
        "colab": {
          "base_uri": "https://localhost:8080/",
          "height": 345
        },
        "id": "3H9sN9GNwl4g",
        "outputId": "abd4cb13-0ab1-4d57-b15c-28e27fe124f4"
      },
      "source": [
        "#this cell works, but columns are removed already. I can run it once \n",
        "df=df.drop(\"RECON_SMS_NEXT_MTH\", axis=1)\n",
        "df=df.drop(\"RECON_TELE_NEXT_MTH\", axis=1)\n",
        "df=df.drop(\"RECON_EMAIL_NEXT_MTH\", axis=1)\n",
        "df=df.drop(\"INDEX\", axis=1)\n",
        "df=df.dropt(\"CUST_ID\", axis=1)\n",
        "\n"
      ],
      "execution_count": 5,
      "outputs": [
        {
          "output_type": "error",
          "ename": "AttributeError",
          "evalue": "ignored",
          "traceback": [
            "\u001b[0;31m---------------------------------------------------------------------------\u001b[0m",
            "\u001b[0;31mAttributeError\u001b[0m                            Traceback (most recent call last)",
            "\u001b[0;32m<ipython-input-5-c0eabe61faa4>\u001b[0m in \u001b[0;36m<module>\u001b[0;34m()\u001b[0m\n\u001b[1;32m      4\u001b[0m \u001b[0mdf\u001b[0m\u001b[0;34m=\u001b[0m\u001b[0mdf\u001b[0m\u001b[0;34m.\u001b[0m\u001b[0mdrop\u001b[0m\u001b[0;34m(\u001b[0m\u001b[0;34m\"RECON_EMAIL_NEXT_MTH\"\u001b[0m\u001b[0;34m,\u001b[0m \u001b[0maxis\u001b[0m\u001b[0;34m=\u001b[0m\u001b[0;36m1\u001b[0m\u001b[0;34m)\u001b[0m\u001b[0;34m\u001b[0m\u001b[0;34m\u001b[0m\u001b[0m\n\u001b[1;32m      5\u001b[0m \u001b[0mdf\u001b[0m\u001b[0;34m=\u001b[0m\u001b[0mdf\u001b[0m\u001b[0;34m.\u001b[0m\u001b[0mdrop\u001b[0m\u001b[0;34m(\u001b[0m\u001b[0;34m\"INDEX\"\u001b[0m\u001b[0;34m,\u001b[0m \u001b[0maxis\u001b[0m\u001b[0;34m=\u001b[0m\u001b[0;36m1\u001b[0m\u001b[0;34m)\u001b[0m\u001b[0;34m\u001b[0m\u001b[0;34m\u001b[0m\u001b[0m\n\u001b[0;32m----> 6\u001b[0;31m \u001b[0mdf\u001b[0m\u001b[0;34m=\u001b[0m\u001b[0mdf\u001b[0m\u001b[0;34m.\u001b[0m\u001b[0mdropt\u001b[0m\u001b[0;34m(\u001b[0m\u001b[0;34m\"CUST_ID\"\u001b[0m\u001b[0;34m,\u001b[0m \u001b[0maxis\u001b[0m\u001b[0;34m=\u001b[0m\u001b[0;36m1\u001b[0m\u001b[0;34m)\u001b[0m\u001b[0;34m\u001b[0m\u001b[0;34m\u001b[0m\u001b[0m\n\u001b[0m\u001b[1;32m      7\u001b[0m \u001b[0;34m\u001b[0m\u001b[0m\n",
            "\u001b[0;32m/usr/local/lib/python3.7/dist-packages/pandas/core/generic.py\u001b[0m in \u001b[0;36m__getattr__\u001b[0;34m(self, name)\u001b[0m\n\u001b[1;32m   5139\u001b[0m             \u001b[0;32mif\u001b[0m \u001b[0mself\u001b[0m\u001b[0;34m.\u001b[0m\u001b[0m_info_axis\u001b[0m\u001b[0;34m.\u001b[0m\u001b[0m_can_hold_identifiers_and_holds_name\u001b[0m\u001b[0;34m(\u001b[0m\u001b[0mname\u001b[0m\u001b[0;34m)\u001b[0m\u001b[0;34m:\u001b[0m\u001b[0;34m\u001b[0m\u001b[0;34m\u001b[0m\u001b[0m\n\u001b[1;32m   5140\u001b[0m                 \u001b[0;32mreturn\u001b[0m \u001b[0mself\u001b[0m\u001b[0;34m[\u001b[0m\u001b[0mname\u001b[0m\u001b[0;34m]\u001b[0m\u001b[0;34m\u001b[0m\u001b[0;34m\u001b[0m\u001b[0m\n\u001b[0;32m-> 5141\u001b[0;31m             \u001b[0;32mreturn\u001b[0m \u001b[0mobject\u001b[0m\u001b[0;34m.\u001b[0m\u001b[0m__getattribute__\u001b[0m\u001b[0;34m(\u001b[0m\u001b[0mself\u001b[0m\u001b[0;34m,\u001b[0m \u001b[0mname\u001b[0m\u001b[0;34m)\u001b[0m\u001b[0;34m\u001b[0m\u001b[0;34m\u001b[0m\u001b[0m\n\u001b[0m\u001b[1;32m   5142\u001b[0m \u001b[0;34m\u001b[0m\u001b[0m\n\u001b[1;32m   5143\u001b[0m     \u001b[0;32mdef\u001b[0m \u001b[0m__setattr__\u001b[0m\u001b[0;34m(\u001b[0m\u001b[0mself\u001b[0m\u001b[0;34m,\u001b[0m \u001b[0mname\u001b[0m\u001b[0;34m:\u001b[0m \u001b[0mstr\u001b[0m\u001b[0;34m,\u001b[0m \u001b[0mvalue\u001b[0m\u001b[0;34m)\u001b[0m \u001b[0;34m->\u001b[0m \u001b[0;32mNone\u001b[0m\u001b[0;34m:\u001b[0m\u001b[0;34m\u001b[0m\u001b[0;34m\u001b[0m\u001b[0m\n",
            "\u001b[0;31mAttributeError\u001b[0m: 'DataFrame' object has no attribute 'dropt'"
          ]
        }
      ]
    },
    {
      "cell_type": "code",
      "metadata": {
        "colab": {
          "base_uri": "https://localhost:8080/",
          "height": 434
        },
        "id": "yI6zX4gvyyDr",
        "outputId": "40c04d43-b555-4418-a81c-bfe994ff0c6c"
      },
      "source": [
        "df"
      ],
      "execution_count": 6,
      "outputs": [
        {
          "output_type": "execute_result",
          "data": {
            "text/html": [
              "<div>\n",
              "<style scoped>\n",
              "    .dataframe tbody tr th:only-of-type {\n",
              "        vertical-align: middle;\n",
              "    }\n",
              "\n",
              "    .dataframe tbody tr th {\n",
              "        vertical-align: top;\n",
              "    }\n",
              "\n",
              "    .dataframe thead th {\n",
              "        text-align: right;\n",
              "    }\n",
              "</style>\n",
              "<table border=\"1\" class=\"dataframe\">\n",
              "  <thead>\n",
              "    <tr style=\"text-align: right;\">\n",
              "      <th></th>\n",
              "      <th>CUST_ID</th>\n",
              "      <th>ACCOUNT_TENURE</th>\n",
              "      <th>ACCT_CNT_SERVICES</th>\n",
              "      <th>AGE</th>\n",
              "      <th>CFU</th>\n",
              "      <th>SERVICE_TENURE</th>\n",
              "      <th>PLAN_ACCESS_FEE</th>\n",
              "      <th>BYO_PLAN_STATUS</th>\n",
              "      <th>PLAN_TENURE</th>\n",
              "      <th>MONTHS_OF_CONTRACT_REMAINING</th>\n",
              "      <th>LAST_FX_CONTRACT_DURATION</th>\n",
              "      <th>CONTRACT_STATUS</th>\n",
              "      <th>PREV_CONTRACT_DURATION</th>\n",
              "      <th>HANDSET_USED_BRAND</th>\n",
              "      <th>CHURN_IND</th>\n",
              "      <th>MONTHLY_SPEND</th>\n",
              "      <th>COUNTRY_METRO_REGION</th>\n",
              "      <th>STATE</th>\n",
              "    </tr>\n",
              "  </thead>\n",
              "  <tbody>\n",
              "    <tr>\n",
              "      <th>0</th>\n",
              "      <td>1</td>\n",
              "      <td>46</td>\n",
              "      <td>1</td>\n",
              "      <td>30</td>\n",
              "      <td>CONSUMER</td>\n",
              "      <td>46</td>\n",
              "      <td>54.54</td>\n",
              "      <td>NON BYO</td>\n",
              "      <td>15</td>\n",
              "      <td>0</td>\n",
              "      <td>24</td>\n",
              "      <td>OFF-CONTRACT</td>\n",
              "      <td>24</td>\n",
              "      <td>SAMSUNG</td>\n",
              "      <td>1</td>\n",
              "      <td>61.40</td>\n",
              "      <td>COUNTRY</td>\n",
              "      <td>WA</td>\n",
              "    </tr>\n",
              "    <tr>\n",
              "      <th>1</th>\n",
              "      <td>2</td>\n",
              "      <td>60</td>\n",
              "      <td>3</td>\n",
              "      <td>55</td>\n",
              "      <td>CONSUMER</td>\n",
              "      <td>59</td>\n",
              "      <td>54.54</td>\n",
              "      <td>NON BYO</td>\n",
              "      <td>5</td>\n",
              "      <td>0</td>\n",
              "      <td>24</td>\n",
              "      <td>OFF-CONTRACT</td>\n",
              "      <td>24</td>\n",
              "      <td>APPLE</td>\n",
              "      <td>1</td>\n",
              "      <td>54.54</td>\n",
              "      <td>METRO</td>\n",
              "      <td>NSW</td>\n",
              "    </tr>\n",
              "    <tr>\n",
              "      <th>2</th>\n",
              "      <td>5</td>\n",
              "      <td>65</td>\n",
              "      <td>1</td>\n",
              "      <td>29</td>\n",
              "      <td>CONSUMER</td>\n",
              "      <td>65</td>\n",
              "      <td>40.90</td>\n",
              "      <td>BYO</td>\n",
              "      <td>15</td>\n",
              "      <td>0</td>\n",
              "      <td>12</td>\n",
              "      <td>OFF-CONTRACT</td>\n",
              "      <td>12</td>\n",
              "      <td>APPLE</td>\n",
              "      <td>1</td>\n",
              "      <td>2.50</td>\n",
              "      <td>COUNTRY</td>\n",
              "      <td>WA</td>\n",
              "    </tr>\n",
              "    <tr>\n",
              "      <th>3</th>\n",
              "      <td>6</td>\n",
              "      <td>31</td>\n",
              "      <td>1</td>\n",
              "      <td>51</td>\n",
              "      <td>CONSUMER</td>\n",
              "      <td>31</td>\n",
              "      <td>31.81</td>\n",
              "      <td>NON BYO</td>\n",
              "      <td>31</td>\n",
              "      <td>0</td>\n",
              "      <td>24</td>\n",
              "      <td>OFF-CONTRACT</td>\n",
              "      <td>24</td>\n",
              "      <td>APPLE</td>\n",
              "      <td>1</td>\n",
              "      <td>6.48</td>\n",
              "      <td>COUNTRY</td>\n",
              "      <td>VIC</td>\n",
              "    </tr>\n",
              "    <tr>\n",
              "      <th>4</th>\n",
              "      <td>8</td>\n",
              "      <td>95</td>\n",
              "      <td>1</td>\n",
              "      <td>31</td>\n",
              "      <td>CONSUMER</td>\n",
              "      <td>95</td>\n",
              "      <td>54.54</td>\n",
              "      <td>NON BYO</td>\n",
              "      <td>0</td>\n",
              "      <td>0</td>\n",
              "      <td>24</td>\n",
              "      <td>OFF-CONTRACT</td>\n",
              "      <td>24</td>\n",
              "      <td>APPLE</td>\n",
              "      <td>1</td>\n",
              "      <td>100.22</td>\n",
              "      <td>METRO</td>\n",
              "      <td>NSW</td>\n",
              "    </tr>\n",
              "    <tr>\n",
              "      <th>...</th>\n",
              "      <td>...</td>\n",
              "      <td>...</td>\n",
              "      <td>...</td>\n",
              "      <td>...</td>\n",
              "      <td>...</td>\n",
              "      <td>...</td>\n",
              "      <td>...</td>\n",
              "      <td>...</td>\n",
              "      <td>...</td>\n",
              "      <td>...</td>\n",
              "      <td>...</td>\n",
              "      <td>...</td>\n",
              "      <td>...</td>\n",
              "      <td>...</td>\n",
              "      <td>...</td>\n",
              "      <td>...</td>\n",
              "      <td>...</td>\n",
              "      <td>...</td>\n",
              "    </tr>\n",
              "    <tr>\n",
              "      <th>46201</th>\n",
              "      <td>79494</td>\n",
              "      <td>10</td>\n",
              "      <td>1</td>\n",
              "      <td>61</td>\n",
              "      <td>CONSUMER</td>\n",
              "      <td>9</td>\n",
              "      <td>27.27</td>\n",
              "      <td>BYO</td>\n",
              "      <td>7</td>\n",
              "      <td>0</td>\n",
              "      <td>0</td>\n",
              "      <td>NO-CONTRACT</td>\n",
              "      <td>0</td>\n",
              "      <td>OTHER</td>\n",
              "      <td>0</td>\n",
              "      <td>27.27</td>\n",
              "      <td>COUNTRY</td>\n",
              "      <td>VIC</td>\n",
              "    </tr>\n",
              "    <tr>\n",
              "      <th>46202</th>\n",
              "      <td>79495</td>\n",
              "      <td>2</td>\n",
              "      <td>1</td>\n",
              "      <td>53</td>\n",
              "      <td>CONSUMER</td>\n",
              "      <td>2</td>\n",
              "      <td>54.54</td>\n",
              "      <td>NON BYO</td>\n",
              "      <td>2</td>\n",
              "      <td>0</td>\n",
              "      <td>24</td>\n",
              "      <td>OFF-CONTRACT</td>\n",
              "      <td>24</td>\n",
              "      <td>UNKNOWN</td>\n",
              "      <td>1</td>\n",
              "      <td>54.99</td>\n",
              "      <td>METRO</td>\n",
              "      <td>NSW</td>\n",
              "    </tr>\n",
              "    <tr>\n",
              "      <th>46203</th>\n",
              "      <td>79496</td>\n",
              "      <td>47</td>\n",
              "      <td>1</td>\n",
              "      <td>22</td>\n",
              "      <td>CONSUMER</td>\n",
              "      <td>47</td>\n",
              "      <td>72.72</td>\n",
              "      <td>NON BYO</td>\n",
              "      <td>7</td>\n",
              "      <td>17</td>\n",
              "      <td>24</td>\n",
              "      <td>ON-CONTRACT</td>\n",
              "      <td>24</td>\n",
              "      <td>APPLE</td>\n",
              "      <td>0</td>\n",
              "      <td>72.72</td>\n",
              "      <td>COUNTRY</td>\n",
              "      <td>NSW</td>\n",
              "    </tr>\n",
              "    <tr>\n",
              "      <th>46204</th>\n",
              "      <td>79497</td>\n",
              "      <td>94</td>\n",
              "      <td>1</td>\n",
              "      <td>40</td>\n",
              "      <td>CONSUMER</td>\n",
              "      <td>182</td>\n",
              "      <td>17.27</td>\n",
              "      <td>NON BYO</td>\n",
              "      <td>4</td>\n",
              "      <td>0</td>\n",
              "      <td>24</td>\n",
              "      <td>OFF-CONTRACT</td>\n",
              "      <td>24</td>\n",
              "      <td>APPLE</td>\n",
              "      <td>0</td>\n",
              "      <td>17.27</td>\n",
              "      <td>METRO</td>\n",
              "      <td>VIC</td>\n",
              "    </tr>\n",
              "    <tr>\n",
              "      <th>46205</th>\n",
              "      <td>79500</td>\n",
              "      <td>0</td>\n",
              "      <td>1</td>\n",
              "      <td>24</td>\n",
              "      <td>CONSUMER</td>\n",
              "      <td>0</td>\n",
              "      <td>36.36</td>\n",
              "      <td>BYO</td>\n",
              "      <td>0</td>\n",
              "      <td>0</td>\n",
              "      <td>0</td>\n",
              "      <td>NO-CONTRACT</td>\n",
              "      <td>0</td>\n",
              "      <td>APPLE</td>\n",
              "      <td>0</td>\n",
              "      <td>36.36</td>\n",
              "      <td>METRO</td>\n",
              "      <td>NSW</td>\n",
              "    </tr>\n",
              "  </tbody>\n",
              "</table>\n",
              "<p>46206 rows × 18 columns</p>\n",
              "</div>"
            ],
            "text/plain": [
              "       CUST_ID  ACCOUNT_TENURE  ...  COUNTRY_METRO_REGION STATE\n",
              "0            1              46  ...               COUNTRY    WA\n",
              "1            2              60  ...                 METRO   NSW\n",
              "2            5              65  ...               COUNTRY    WA\n",
              "3            6              31  ...               COUNTRY   VIC\n",
              "4            8              95  ...                 METRO   NSW\n",
              "...        ...             ...  ...                   ...   ...\n",
              "46201    79494              10  ...               COUNTRY   VIC\n",
              "46202    79495               2  ...                 METRO   NSW\n",
              "46203    79496              47  ...               COUNTRY   NSW\n",
              "46204    79497              94  ...                 METRO   VIC\n",
              "46205    79500               0  ...                 METRO   NSW\n",
              "\n",
              "[46206 rows x 18 columns]"
            ]
          },
          "metadata": {},
          "execution_count": 6
        }
      ]
    },
    {
      "cell_type": "markdown",
      "metadata": {
        "id": "cloOf3ns1ImU"
      },
      "source": [
        "# Predict which customers leaving and which not"
      ]
    },
    {
      "cell_type": "code",
      "metadata": {
        "colab": {
          "base_uri": "https://localhost:8080/"
        },
        "id": "EIVrxAE0zTLb",
        "outputId": "7e480ed3-5201-4f71-b942-cb84f4a481c1"
      },
      "source": [
        "df.shape"
      ],
      "execution_count": 7,
      "outputs": [
        {
          "output_type": "execute_result",
          "data": {
            "text/plain": [
              "(46206, 18)"
            ]
          },
          "metadata": {},
          "execution_count": 7
        }
      ]
    },
    {
      "cell_type": "code",
      "metadata": {
        "colab": {
          "base_uri": "https://localhost:8080/",
          "height": 283
        },
        "id": "ABd5RLLI2iWU",
        "outputId": "2be0f557-96fd-4155-e2dc-7530f1554e3d"
      },
      "source": [
        "df.head(7)"
      ],
      "execution_count": 8,
      "outputs": [
        {
          "output_type": "execute_result",
          "data": {
            "text/html": [
              "<div>\n",
              "<style scoped>\n",
              "    .dataframe tbody tr th:only-of-type {\n",
              "        vertical-align: middle;\n",
              "    }\n",
              "\n",
              "    .dataframe tbody tr th {\n",
              "        vertical-align: top;\n",
              "    }\n",
              "\n",
              "    .dataframe thead th {\n",
              "        text-align: right;\n",
              "    }\n",
              "</style>\n",
              "<table border=\"1\" class=\"dataframe\">\n",
              "  <thead>\n",
              "    <tr style=\"text-align: right;\">\n",
              "      <th></th>\n",
              "      <th>CUST_ID</th>\n",
              "      <th>ACCOUNT_TENURE</th>\n",
              "      <th>ACCT_CNT_SERVICES</th>\n",
              "      <th>AGE</th>\n",
              "      <th>CFU</th>\n",
              "      <th>SERVICE_TENURE</th>\n",
              "      <th>PLAN_ACCESS_FEE</th>\n",
              "      <th>BYO_PLAN_STATUS</th>\n",
              "      <th>PLAN_TENURE</th>\n",
              "      <th>MONTHS_OF_CONTRACT_REMAINING</th>\n",
              "      <th>LAST_FX_CONTRACT_DURATION</th>\n",
              "      <th>CONTRACT_STATUS</th>\n",
              "      <th>PREV_CONTRACT_DURATION</th>\n",
              "      <th>HANDSET_USED_BRAND</th>\n",
              "      <th>CHURN_IND</th>\n",
              "      <th>MONTHLY_SPEND</th>\n",
              "      <th>COUNTRY_METRO_REGION</th>\n",
              "      <th>STATE</th>\n",
              "    </tr>\n",
              "  </thead>\n",
              "  <tbody>\n",
              "    <tr>\n",
              "      <th>0</th>\n",
              "      <td>1</td>\n",
              "      <td>46</td>\n",
              "      <td>1</td>\n",
              "      <td>30</td>\n",
              "      <td>CONSUMER</td>\n",
              "      <td>46</td>\n",
              "      <td>54.54</td>\n",
              "      <td>NON BYO</td>\n",
              "      <td>15</td>\n",
              "      <td>0</td>\n",
              "      <td>24</td>\n",
              "      <td>OFF-CONTRACT</td>\n",
              "      <td>24</td>\n",
              "      <td>SAMSUNG</td>\n",
              "      <td>1</td>\n",
              "      <td>61.40</td>\n",
              "      <td>COUNTRY</td>\n",
              "      <td>WA</td>\n",
              "    </tr>\n",
              "    <tr>\n",
              "      <th>1</th>\n",
              "      <td>2</td>\n",
              "      <td>60</td>\n",
              "      <td>3</td>\n",
              "      <td>55</td>\n",
              "      <td>CONSUMER</td>\n",
              "      <td>59</td>\n",
              "      <td>54.54</td>\n",
              "      <td>NON BYO</td>\n",
              "      <td>5</td>\n",
              "      <td>0</td>\n",
              "      <td>24</td>\n",
              "      <td>OFF-CONTRACT</td>\n",
              "      <td>24</td>\n",
              "      <td>APPLE</td>\n",
              "      <td>1</td>\n",
              "      <td>54.54</td>\n",
              "      <td>METRO</td>\n",
              "      <td>NSW</td>\n",
              "    </tr>\n",
              "    <tr>\n",
              "      <th>2</th>\n",
              "      <td>5</td>\n",
              "      <td>65</td>\n",
              "      <td>1</td>\n",
              "      <td>29</td>\n",
              "      <td>CONSUMER</td>\n",
              "      <td>65</td>\n",
              "      <td>40.90</td>\n",
              "      <td>BYO</td>\n",
              "      <td>15</td>\n",
              "      <td>0</td>\n",
              "      <td>12</td>\n",
              "      <td>OFF-CONTRACT</td>\n",
              "      <td>12</td>\n",
              "      <td>APPLE</td>\n",
              "      <td>1</td>\n",
              "      <td>2.50</td>\n",
              "      <td>COUNTRY</td>\n",
              "      <td>WA</td>\n",
              "    </tr>\n",
              "    <tr>\n",
              "      <th>3</th>\n",
              "      <td>6</td>\n",
              "      <td>31</td>\n",
              "      <td>1</td>\n",
              "      <td>51</td>\n",
              "      <td>CONSUMER</td>\n",
              "      <td>31</td>\n",
              "      <td>31.81</td>\n",
              "      <td>NON BYO</td>\n",
              "      <td>31</td>\n",
              "      <td>0</td>\n",
              "      <td>24</td>\n",
              "      <td>OFF-CONTRACT</td>\n",
              "      <td>24</td>\n",
              "      <td>APPLE</td>\n",
              "      <td>1</td>\n",
              "      <td>6.48</td>\n",
              "      <td>COUNTRY</td>\n",
              "      <td>VIC</td>\n",
              "    </tr>\n",
              "    <tr>\n",
              "      <th>4</th>\n",
              "      <td>8</td>\n",
              "      <td>95</td>\n",
              "      <td>1</td>\n",
              "      <td>31</td>\n",
              "      <td>CONSUMER</td>\n",
              "      <td>95</td>\n",
              "      <td>54.54</td>\n",
              "      <td>NON BYO</td>\n",
              "      <td>0</td>\n",
              "      <td>0</td>\n",
              "      <td>24</td>\n",
              "      <td>OFF-CONTRACT</td>\n",
              "      <td>24</td>\n",
              "      <td>APPLE</td>\n",
              "      <td>1</td>\n",
              "      <td>100.22</td>\n",
              "      <td>METRO</td>\n",
              "      <td>NSW</td>\n",
              "    </tr>\n",
              "    <tr>\n",
              "      <th>5</th>\n",
              "      <td>9</td>\n",
              "      <td>62</td>\n",
              "      <td>2</td>\n",
              "      <td>25</td>\n",
              "      <td>CONSUMER</td>\n",
              "      <td>62</td>\n",
              "      <td>90.90</td>\n",
              "      <td>NON BYO</td>\n",
              "      <td>8</td>\n",
              "      <td>13</td>\n",
              "      <td>24</td>\n",
              "      <td>ON-CONTRACT</td>\n",
              "      <td>24</td>\n",
              "      <td>APPLE</td>\n",
              "      <td>1</td>\n",
              "      <td>250.46</td>\n",
              "      <td>COUNTRY</td>\n",
              "      <td>VIC</td>\n",
              "    </tr>\n",
              "    <tr>\n",
              "      <th>6</th>\n",
              "      <td>10</td>\n",
              "      <td>90</td>\n",
              "      <td>1</td>\n",
              "      <td>35</td>\n",
              "      <td>CONSUMER</td>\n",
              "      <td>90</td>\n",
              "      <td>71.81</td>\n",
              "      <td>NON BYO</td>\n",
              "      <td>63</td>\n",
              "      <td>0</td>\n",
              "      <td>24</td>\n",
              "      <td>OFF-CONTRACT</td>\n",
              "      <td>24</td>\n",
              "      <td>APPLE</td>\n",
              "      <td>1</td>\n",
              "      <td>71.81</td>\n",
              "      <td>METRO</td>\n",
              "      <td>NSW</td>\n",
              "    </tr>\n",
              "  </tbody>\n",
              "</table>\n",
              "</div>"
            ],
            "text/plain": [
              "   CUST_ID  ACCOUNT_TENURE  ...  COUNTRY_METRO_REGION STATE\n",
              "0        1              46  ...               COUNTRY    WA\n",
              "1        2              60  ...                 METRO   NSW\n",
              "2        5              65  ...               COUNTRY    WA\n",
              "3        6              31  ...               COUNTRY   VIC\n",
              "4        8              95  ...                 METRO   NSW\n",
              "5        9              62  ...               COUNTRY   VIC\n",
              "6       10              90  ...                 METRO   NSW\n",
              "\n",
              "[7 rows x 18 columns]"
            ]
          },
          "metadata": {},
          "execution_count": 8
        }
      ]
    },
    {
      "cell_type": "code",
      "metadata": {
        "id": "UOTA_CK53Pzj"
      },
      "source": [
        "#Next step is splitting in x and y\n",
        "X=df.drop(\"CHURN_IND\", axis=1)\n",
        "y=df[\"CHURN_IND\"]"
      ],
      "execution_count": 9,
      "outputs": []
    },
    {
      "cell_type": "code",
      "metadata": {
        "colab": {
          "base_uri": "https://localhost:8080/"
        },
        "id": "5GwMULTQ81A-",
        "outputId": "5f93cb09-8f64-4cf1-cb50-3ae51ea972a3"
      },
      "source": [
        "df.CHURN_IND.value_counts()"
      ],
      "execution_count": 10,
      "outputs": [
        {
          "output_type": "execute_result",
          "data": {
            "text/plain": [
              "0    28416\n",
              "1    17790\n",
              "Name: CHURN_IND, dtype: int64"
            ]
          },
          "metadata": {},
          "execution_count": 10
        }
      ]
    },
    {
      "cell_type": "code",
      "metadata": {
        "colab": {
          "base_uri": "https://localhost:8080/"
        },
        "id": "9SGGHRfj8cnv",
        "outputId": "03e53247-eb0b-4b56-ab56-61ff0f395e27"
      },
      "source": [
        "\n",
        "df.CHURN_IND.value_counts(normalize=True)"
      ],
      "execution_count": 11,
      "outputs": [
        {
          "output_type": "execute_result",
          "data": {
            "text/plain": [
              "0    0.614985\n",
              "1    0.385015\n",
              "Name: CHURN_IND, dtype: float64"
            ]
          },
          "metadata": {},
          "execution_count": 11
        }
      ]
    },
    {
      "cell_type": "code",
      "metadata": {
        "colab": {
          "base_uri": "https://localhost:8080/",
          "height": 262
        },
        "id": "3mNquDOM8h77",
        "outputId": "4c867318-c8a6-408e-d88c-a5132d4352ff"
      },
      "source": [
        "df.CHURN_IND.value_counts().plot(kind=\"bar\", color=[\"salmon\", \"lightblue\"]);"
      ],
      "execution_count": 12,
      "outputs": [
        {
          "output_type": "display_data",
          "data": {
            "image/png": "[encoded data removed]",
            "text/plain": [
              "<Figure size 432x288 with 1 Axes>"
            ]
          },
          "metadata": {
            "needs_background": "light"
          }
        }
      ]
    },
    {
      "cell_type": "code",
      "metadata": {
        "colab": {
          "base_uri": "https://localhost:8080/"
        },
        "id": "fV-QiA9B4vAQ",
        "outputId": "3ca901d9-cf8d-4e30-ef72-825ace8ceea7"
      },
      "source": [
        "y"
      ],
      "execution_count": 13,
      "outputs": [
        {
          "output_type": "execute_result",
          "data": {
            "text/plain": [
              "0        1\n",
              "1        1\n",
              "2        1\n",
              "3        1\n",
              "4        1\n",
              "        ..\n",
              "46201    0\n",
              "46202    1\n",
              "46203    0\n",
              "46204    0\n",
              "46205    0\n",
              "Name: CHURN_IND, Length: 46206, dtype: int64"
            ]
          },
          "metadata": {},
          "execution_count": 13
        }
      ]
    },
    {
      "cell_type": "code",
      "metadata": {
        "id": "OBQy5x7s43_i"
      },
      "source": [
        "np.random.seed(42)\n",
        "X_train, X_test, y_train, y_test = train_test_split(X, y, test_size=0.20)"
      ],
      "execution_count": 14,
      "outputs": []
    },
    {
      "cell_type": "code",
      "metadata": {
        "colab": {
          "base_uri": "https://localhost:8080/"
        },
        "id": "cmDy1TYD5Qyl",
        "outputId": "36e6d8f8-b410-409f-a6f7-08904be3e5e2"
      },
      "source": [
        "len(X), len(X_train)"
      ],
      "execution_count": 15,
      "outputs": [
        {
          "output_type": "execute_result",
          "data": {
            "text/plain": [
              "(46206, 36964)"
            ]
          },
          "metadata": {},
          "execution_count": 15
        }
      ]
    },
    {
      "cell_type": "code",
      "metadata": {
        "colab": {
          "base_uri": "https://localhost:8080/",
          "height": 445
        },
        "id": "SrObfLOe9oCL",
        "outputId": "0ed448ab-b46e-4f3c-ce71-b2ff61b911a2"
      },
      "source": [
        "pd.crosstab(df.AGE, df.CHURN_IND)"
      ],
      "execution_count": 16,
      "outputs": [
        {
          "output_type": "execute_result",
          "data": {
            "text/html": [
              "<div>\n",
              "<style scoped>\n",
              "    .dataframe tbody tr th:only-of-type {\n",
              "        vertical-align: middle;\n",
              "    }\n",
              "\n",
              "    .dataframe tbody tr th {\n",
              "        vertical-align: top;\n",
              "    }\n",
              "\n",
              "    .dataframe thead th {\n",
              "        text-align: right;\n",
              "    }\n",
              "</style>\n",
              "<table border=\"1\" class=\"dataframe\">\n",
              "  <thead>\n",
              "    <tr style=\"text-align: right;\">\n",
              "      <th>CHURN_IND</th>\n",
              "      <th>0</th>\n",
              "      <th>1</th>\n",
              "    </tr>\n",
              "    <tr>\n",
              "      <th>AGE</th>\n",
              "      <th></th>\n",
              "      <th></th>\n",
              "    </tr>\n",
              "  </thead>\n",
              "  <tbody>\n",
              "    <tr>\n",
              "      <th>#VALUE!</th>\n",
              "      <td>49</td>\n",
              "      <td>27</td>\n",
              "    </tr>\n",
              "    <tr>\n",
              "      <th>-4</th>\n",
              "      <td>1</td>\n",
              "      <td>1</td>\n",
              "    </tr>\n",
              "    <tr>\n",
              "      <th>104</th>\n",
              "      <td>1</td>\n",
              "      <td>0</td>\n",
              "    </tr>\n",
              "    <tr>\n",
              "      <th>105</th>\n",
              "      <td>1</td>\n",
              "      <td>1</td>\n",
              "    </tr>\n",
              "    <tr>\n",
              "      <th>109</th>\n",
              "      <td>2</td>\n",
              "      <td>0</td>\n",
              "    </tr>\n",
              "    <tr>\n",
              "      <th>...</th>\n",
              "      <td>...</td>\n",
              "      <td>...</td>\n",
              "    </tr>\n",
              "    <tr>\n",
              "      <th>92</th>\n",
              "      <td>2</td>\n",
              "      <td>4</td>\n",
              "    </tr>\n",
              "    <tr>\n",
              "      <th>93</th>\n",
              "      <td>3</td>\n",
              "      <td>2</td>\n",
              "    </tr>\n",
              "    <tr>\n",
              "      <th>94</th>\n",
              "      <td>2</td>\n",
              "      <td>0</td>\n",
              "    </tr>\n",
              "    <tr>\n",
              "      <th>95</th>\n",
              "      <td>1</td>\n",
              "      <td>2</td>\n",
              "    </tr>\n",
              "    <tr>\n",
              "      <th>97</th>\n",
              "      <td>1</td>\n",
              "      <td>0</td>\n",
              "    </tr>\n",
              "  </tbody>\n",
              "</table>\n",
              "<p>93 rows × 2 columns</p>\n",
              "</div>"
            ],
            "text/plain": [
              "CHURN_IND   0   1\n",
              "AGE              \n",
              "#VALUE!    49  27\n",
              "-4          1   1\n",
              "104         1   0\n",
              "105         1   1\n",
              "109         2   0\n",
              "...        ..  ..\n",
              "92          2   4\n",
              "93          3   2\n",
              "94          2   0\n",
              "95          1   2\n",
              "97          1   0\n",
              "\n",
              "[93 rows x 2 columns]"
            ]
          },
          "metadata": {},
          "execution_count": 16
        }
      ]
    },
    {
      "cell_type": "code",
      "metadata": {
        "colab": {
          "base_uri": "https://localhost:8080/",
          "height": 188
        },
        "id": "ytOv8Po_9Dwa",
        "outputId": "0d6efa4b-1068-4d84-a289-58daa7626d1d"
      },
      "source": [
        "pd.crosstab(df.CHURN_IND,df.AGE)"
      ],
      "execution_count": 17,
      "outputs": [
        {
          "output_type": "execute_result",
          "data": {
            "text/html": [
              "<div>\n",
              "<style scoped>\n",
              "    .dataframe tbody tr th:only-of-type {\n",
              "        vertical-align: middle;\n",
              "    }\n",
              "\n",
              "    .dataframe tbody tr th {\n",
              "        vertical-align: top;\n",
              "    }\n",
              "\n",
              "    .dataframe thead th {\n",
              "        text-align: right;\n",
              "    }\n",
              "</style>\n",
              "<table border=\"1\" class=\"dataframe\">\n",
              "  <thead>\n",
              "    <tr style=\"text-align: right;\">\n",
              "      <th>AGE</th>\n",
              "      <th>#VALUE!</th>\n",
              "      <th>-4</th>\n",
              "      <th>104</th>\n",
              "      <th>105</th>\n",
              "      <th>109</th>\n",
              "      <th>113</th>\n",
              "      <th>114</th>\n",
              "      <th>115</th>\n",
              "      <th>116</th>\n",
              "      <th>15</th>\n",
              "      <th>16</th>\n",
              "      <th>17</th>\n",
              "      <th>18</th>\n",
              "      <th>19</th>\n",
              "      <th>20</th>\n",
              "      <th>21</th>\n",
              "      <th>22</th>\n",
              "      <th>23</th>\n",
              "      <th>24</th>\n",
              "      <th>25</th>\n",
              "      <th>26</th>\n",
              "      <th>27</th>\n",
              "      <th>28</th>\n",
              "      <th>29</th>\n",
              "      <th>30</th>\n",
              "      <th>31</th>\n",
              "      <th>32</th>\n",
              "      <th>33</th>\n",
              "      <th>34</th>\n",
              "      <th>35</th>\n",
              "      <th>36</th>\n",
              "      <th>37</th>\n",
              "      <th>38</th>\n",
              "      <th>39</th>\n",
              "      <th>40</th>\n",
              "      <th>41</th>\n",
              "      <th>42</th>\n",
              "      <th>43</th>\n",
              "      <th>44</th>\n",
              "      <th>45</th>\n",
              "      <th>...</th>\n",
              "      <th>58</th>\n",
              "      <th>59</th>\n",
              "      <th>60</th>\n",
              "      <th>61</th>\n",
              "      <th>62</th>\n",
              "      <th>63</th>\n",
              "      <th>64</th>\n",
              "      <th>65</th>\n",
              "      <th>66</th>\n",
              "      <th>67</th>\n",
              "      <th>68</th>\n",
              "      <th>69</th>\n",
              "      <th>7</th>\n",
              "      <th>70</th>\n",
              "      <th>71</th>\n",
              "      <th>72</th>\n",
              "      <th>73</th>\n",
              "      <th>74</th>\n",
              "      <th>75</th>\n",
              "      <th>76</th>\n",
              "      <th>77</th>\n",
              "      <th>78</th>\n",
              "      <th>79</th>\n",
              "      <th>80</th>\n",
              "      <th>81</th>\n",
              "      <th>82</th>\n",
              "      <th>83</th>\n",
              "      <th>84</th>\n",
              "      <th>85</th>\n",
              "      <th>86</th>\n",
              "      <th>87</th>\n",
              "      <th>88</th>\n",
              "      <th>89</th>\n",
              "      <th>90</th>\n",
              "      <th>91</th>\n",
              "      <th>92</th>\n",
              "      <th>93</th>\n",
              "      <th>94</th>\n",
              "      <th>95</th>\n",
              "      <th>97</th>\n",
              "    </tr>\n",
              "    <tr>\n",
              "      <th>CHURN_IND</th>\n",
              "      <th></th>\n",
              "      <th></th>\n",
              "      <th></th>\n",
              "      <th></th>\n",
              "      <th></th>\n",
              "      <th></th>\n",
              "      <th></th>\n",
              "      <th></th>\n",
              "      <th></th>\n",
              "      <th></th>\n",
              "      <th></th>\n",
              "      <th></th>\n",
              "      <th></th>\n",
              "      <th></th>\n",
              "      <th></th>\n",
              "      <th></th>\n",
              "      <th></th>\n",
              "      <th></th>\n",
              "      <th></th>\n",
              "      <th></th>\n",
              "      <th></th>\n",
              "      <th></th>\n",
              "      <th></th>\n",
              "      <th></th>\n",
              "      <th></th>\n",
              "      <th></th>\n",
              "      <th></th>\n",
              "      <th></th>\n",
              "      <th></th>\n",
              "      <th></th>\n",
              "      <th></th>\n",
              "      <th></th>\n",
              "      <th></th>\n",
              "      <th></th>\n",
              "      <th></th>\n",
              "      <th></th>\n",
              "      <th></th>\n",
              "      <th></th>\n",
              "      <th></th>\n",
              "      <th></th>\n",
              "      <th></th>\n",
              "      <th></th>\n",
              "      <th></th>\n",
              "      <th></th>\n",
              "      <th></th>\n",
              "      <th></th>\n",
              "      <th></th>\n",
              "      <th></th>\n",
              "      <th></th>\n",
              "      <th></th>\n",
              "      <th></th>\n",
              "      <th></th>\n",
              "      <th></th>\n",
              "      <th></th>\n",
              "      <th></th>\n",
              "      <th></th>\n",
              "      <th></th>\n",
              "      <th></th>\n",
              "      <th></th>\n",
              "      <th></th>\n",
              "      <th></th>\n",
              "      <th></th>\n",
              "      <th></th>\n",
              "      <th></th>\n",
              "      <th></th>\n",
              "      <th></th>\n",
              "      <th></th>\n",
              "      <th></th>\n",
              "      <th></th>\n",
              "      <th></th>\n",
              "      <th></th>\n",
              "      <th></th>\n",
              "      <th></th>\n",
              "      <th></th>\n",
              "      <th></th>\n",
              "      <th></th>\n",
              "      <th></th>\n",
              "      <th></th>\n",
              "      <th></th>\n",
              "      <th></th>\n",
              "      <th></th>\n",
              "    </tr>\n",
              "  </thead>\n",
              "  <tbody>\n",
              "    <tr>\n",
              "      <th>0</th>\n",
              "      <td>49</td>\n",
              "      <td>1</td>\n",
              "      <td>1</td>\n",
              "      <td>1</td>\n",
              "      <td>2</td>\n",
              "      <td>0</td>\n",
              "      <td>1</td>\n",
              "      <td>18</td>\n",
              "      <td>16</td>\n",
              "      <td>1</td>\n",
              "      <td>124</td>\n",
              "      <td>2</td>\n",
              "      <td>156</td>\n",
              "      <td>345</td>\n",
              "      <td>426</td>\n",
              "      <td>504</td>\n",
              "      <td>581</td>\n",
              "      <td>629</td>\n",
              "      <td>681</td>\n",
              "      <td>721</td>\n",
              "      <td>697</td>\n",
              "      <td>675</td>\n",
              "      <td>620</td>\n",
              "      <td>614</td>\n",
              "      <td>653</td>\n",
              "      <td>596</td>\n",
              "      <td>637</td>\n",
              "      <td>609</td>\n",
              "      <td>592</td>\n",
              "      <td>557</td>\n",
              "      <td>540</td>\n",
              "      <td>522</td>\n",
              "      <td>557</td>\n",
              "      <td>546</td>\n",
              "      <td>597</td>\n",
              "      <td>615</td>\n",
              "      <td>608</td>\n",
              "      <td>627</td>\n",
              "      <td>639</td>\n",
              "      <td>616</td>\n",
              "      <td>...</td>\n",
              "      <td>450</td>\n",
              "      <td>424</td>\n",
              "      <td>400</td>\n",
              "      <td>347</td>\n",
              "      <td>342</td>\n",
              "      <td>340</td>\n",
              "      <td>283</td>\n",
              "      <td>293</td>\n",
              "      <td>267</td>\n",
              "      <td>248</td>\n",
              "      <td>222</td>\n",
              "      <td>204</td>\n",
              "      <td>1</td>\n",
              "      <td>184</td>\n",
              "      <td>137</td>\n",
              "      <td>125</td>\n",
              "      <td>112</td>\n",
              "      <td>89</td>\n",
              "      <td>88</td>\n",
              "      <td>75</td>\n",
              "      <td>69</td>\n",
              "      <td>55</td>\n",
              "      <td>50</td>\n",
              "      <td>47</td>\n",
              "      <td>27</td>\n",
              "      <td>34</td>\n",
              "      <td>23</td>\n",
              "      <td>21</td>\n",
              "      <td>6</td>\n",
              "      <td>16</td>\n",
              "      <td>10</td>\n",
              "      <td>8</td>\n",
              "      <td>8</td>\n",
              "      <td>9</td>\n",
              "      <td>2</td>\n",
              "      <td>2</td>\n",
              "      <td>3</td>\n",
              "      <td>2</td>\n",
              "      <td>1</td>\n",
              "      <td>1</td>\n",
              "    </tr>\n",
              "    <tr>\n",
              "      <th>1</th>\n",
              "      <td>27</td>\n",
              "      <td>1</td>\n",
              "      <td>0</td>\n",
              "      <td>1</td>\n",
              "      <td>0</td>\n",
              "      <td>1</td>\n",
              "      <td>0</td>\n",
              "      <td>7</td>\n",
              "      <td>11</td>\n",
              "      <td>1</td>\n",
              "      <td>54</td>\n",
              "      <td>1</td>\n",
              "      <td>212</td>\n",
              "      <td>418</td>\n",
              "      <td>502</td>\n",
              "      <td>506</td>\n",
              "      <td>518</td>\n",
              "      <td>565</td>\n",
              "      <td>565</td>\n",
              "      <td>579</td>\n",
              "      <td>549</td>\n",
              "      <td>531</td>\n",
              "      <td>531</td>\n",
              "      <td>467</td>\n",
              "      <td>443</td>\n",
              "      <td>409</td>\n",
              "      <td>416</td>\n",
              "      <td>421</td>\n",
              "      <td>378</td>\n",
              "      <td>364</td>\n",
              "      <td>370</td>\n",
              "      <td>340</td>\n",
              "      <td>342</td>\n",
              "      <td>327</td>\n",
              "      <td>350</td>\n",
              "      <td>358</td>\n",
              "      <td>327</td>\n",
              "      <td>372</td>\n",
              "      <td>358</td>\n",
              "      <td>373</td>\n",
              "      <td>...</td>\n",
              "      <td>205</td>\n",
              "      <td>186</td>\n",
              "      <td>166</td>\n",
              "      <td>149</td>\n",
              "      <td>183</td>\n",
              "      <td>137</td>\n",
              "      <td>117</td>\n",
              "      <td>135</td>\n",
              "      <td>117</td>\n",
              "      <td>130</td>\n",
              "      <td>101</td>\n",
              "      <td>85</td>\n",
              "      <td>0</td>\n",
              "      <td>69</td>\n",
              "      <td>84</td>\n",
              "      <td>66</td>\n",
              "      <td>42</td>\n",
              "      <td>48</td>\n",
              "      <td>27</td>\n",
              "      <td>29</td>\n",
              "      <td>29</td>\n",
              "      <td>34</td>\n",
              "      <td>21</td>\n",
              "      <td>9</td>\n",
              "      <td>16</td>\n",
              "      <td>9</td>\n",
              "      <td>12</td>\n",
              "      <td>8</td>\n",
              "      <td>20</td>\n",
              "      <td>8</td>\n",
              "      <td>7</td>\n",
              "      <td>8</td>\n",
              "      <td>1</td>\n",
              "      <td>4</td>\n",
              "      <td>5</td>\n",
              "      <td>4</td>\n",
              "      <td>2</td>\n",
              "      <td>0</td>\n",
              "      <td>2</td>\n",
              "      <td>0</td>\n",
              "    </tr>\n",
              "  </tbody>\n",
              "</table>\n",
              "<p>2 rows × 93 columns</p>\n",
              "</div>"
            ],
            "text/plain": [
              "AGE        #VALUE!  -4  104  105  109  113  114  ...  90  91  92  93  94  95  97\n",
              "CHURN_IND                                        ...                            \n",
              "0               49   1    1    1    2    0    1  ...   9   2   2   3   2   1   1\n",
              "1               27   1    0    1    0    1    0  ...   4   5   4   2   0   2   0\n",
              "\n",
              "[2 rows x 93 columns]"
            ]
          },
          "metadata": {},
          "execution_count": 17
        }
      ]
    },
    {
      "cell_type": "code",
      "metadata": {
        "colab": {
          "base_uri": "https://localhost:8080/"
        },
        "id": "ioFo9sdM-wQG",
        "outputId": "86b4f6c2-d8d8-4109-ea2f-d28e7af9a395"
      },
      "source": [
        "df.isna().sum()"
      ],
      "execution_count": 18,
      "outputs": [
        {
          "output_type": "execute_result",
          "data": {
            "text/plain": [
              "CUST_ID                         0\n",
              "ACCOUNT_TENURE                  0\n",
              "ACCT_CNT_SERVICES               0\n",
              "AGE                             0\n",
              "CFU                             0\n",
              "SERVICE_TENURE                  0\n",
              "PLAN_ACCESS_FEE                 0\n",
              "BYO_PLAN_STATUS                 0\n",
              "PLAN_TENURE                     0\n",
              "MONTHS_OF_CONTRACT_REMAINING    0\n",
              "LAST_FX_CONTRACT_DURATION       0\n",
              "CONTRACT_STATUS                 0\n",
              "PREV_CONTRACT_DURATION          0\n",
              "HANDSET_USED_BRAND              0\n",
              "CHURN_IND                       0\n",
              "MONTHLY_SPEND                   0\n",
              "COUNTRY_METRO_REGION            1\n",
              "STATE                           1\n",
              "dtype: int64"
            ]
          },
          "metadata": {},
          "execution_count": 18
        }
      ]
    },
    {
      "cell_type": "code",
      "metadata": {
        "colab": {
          "base_uri": "https://localhost:8080/"
        },
        "id": "Cb2pGAcs-0U5",
        "outputId": "b98f10ce-5f98-4597-bcac-504ac8e1e072"
      },
      "source": [
        "#for numeric \n",
        "for label, content in df.items():\n",
        "  if pd.api.types.is_numeric_dtype(content):\n",
        "    print(label)"
      ],
      "execution_count": 19,
      "outputs": [
        {
          "output_type": "stream",
          "name": "stdout",
          "text": [
            "CUST_ID\n",
            "ACCOUNT_TENURE\n",
            "ACCT_CNT_SERVICES\n",
            "SERVICE_TENURE\n",
            "PLAN_ACCESS_FEE\n",
            "PLAN_TENURE\n",
            "MONTHS_OF_CONTRACT_REMAINING\n",
            "LAST_FX_CONTRACT_DURATION\n",
            "PREV_CONTRACT_DURATION\n",
            "CHURN_IND\n",
            "MONTHLY_SPEND\n"
          ]
        }
      ]
    },
    {
      "cell_type": "code",
      "metadata": {
        "colab": {
          "base_uri": "https://localhost:8080/"
        },
        "id": "SSlbodn7_YJs",
        "outputId": "1e9fd6d0-404b-4083-ba57-6b1048b0cfef"
      },
      "source": [
        "#for string\n",
        "for label, content in df.items():\n",
        "  if not pd.api.types.is_numeric_dtype(content):\n",
        "    print(label)"
      ],
      "execution_count": 20,
      "outputs": [
        {
          "output_type": "stream",
          "name": "stdout",
          "text": [
            "AGE\n",
            "CFU\n",
            "BYO_PLAN_STATUS\n",
            "CONTRACT_STATUS\n",
            "HANDSET_USED_BRAND\n",
            "COUNTRY_METRO_REGION\n",
            "STATE\n"
          ]
        }
      ]
    },
    {
      "cell_type": "code",
      "metadata": {
        "id": "lG0NP4b3gk7i"
      },
      "source": [
        "#string into numbers \n"
      ],
      "execution_count": 21,
      "outputs": []
    },
    {
      "cell_type": "code",
      "metadata": {
        "id": "TfyzUsawAQO0"
      },
      "source": [
        "#find how many nan in my numeric columns are\n",
        "for label, content in df.items():\n",
        "  if pd.api.types.is_numeric_dtype(content):\n",
        "    if pd.isnull(content).sum():\n",
        "      print(label)\n",
        "#print nothing because we don't have any nan values in this example"
      ],
      "execution_count": 22,
      "outputs": []
    },
    {
      "cell_type": "code",
      "metadata": {
        "id": "0MrcoLPDACe8"
      },
      "source": [
        "#now we are filling for the missing row which have \"#VALUE!\"\n",
        "\n",
        "df.replace(\"#VALUE!\",58,inplace=True)\n",
        "\n",
        "#we are just using a random number of 58. It doesn't mean anything\n"
      ],
      "execution_count": 23,
      "outputs": []
    },
    {
      "cell_type": "code",
      "metadata": {
        "id": "I3aZTuivdaaQ"
      },
      "source": [
        "X=df.drop(\"CHURN_IND\", axis=1)\n",
        "y=df[\"CHURN_IND\"]"
      ],
      "execution_count": 24,
      "outputs": []
    },
    {
      "cell_type": "code",
      "metadata": {
        "id": "0ghbc9bed5mF"
      },
      "source": [
        "np.random.seed(42)\n",
        "X_train, X_test, y_train, y_test = train_test_split(X, y, test_size=0.20)"
      ],
      "execution_count": 25,
      "outputs": []
    },
    {
      "cell_type": "code",
      "metadata": {
        "colab": {
          "base_uri": "https://localhost:8080/",
          "height": 434
        },
        "id": "3QlfjmKtDCvS",
        "outputId": "7e79a0f7-fa99-433b-f4a2-5f4ad9f736df"
      },
      "source": [
        "df"
      ],
      "execution_count": 26,
      "outputs": [
        {
          "output_type": "execute_result",
          "data": {
            "text/html": [
              "<div>\n",
              "<style scoped>\n",
              "    .dataframe tbody tr th:only-of-type {\n",
              "        vertical-align: middle;\n",
              "    }\n",
              "\n",
              "    .dataframe tbody tr th {\n",
              "        vertical-align: top;\n",
              "    }\n",
              "\n",
              "    .dataframe thead th {\n",
              "        text-align: right;\n",
              "    }\n",
              "</style>\n",
              "<table border=\"1\" class=\"dataframe\">\n",
              "  <thead>\n",
              "    <tr style=\"text-align: right;\">\n",
              "      <th></th>\n",
              "      <th>CUST_ID</th>\n",
              "      <th>ACCOUNT_TENURE</th>\n",
              "      <th>ACCT_CNT_SERVICES</th>\n",
              "      <th>AGE</th>\n",
              "      <th>CFU</th>\n",
              "      <th>SERVICE_TENURE</th>\n",
              "      <th>PLAN_ACCESS_FEE</th>\n",
              "      <th>BYO_PLAN_STATUS</th>\n",
              "      <th>PLAN_TENURE</th>\n",
              "      <th>MONTHS_OF_CONTRACT_REMAINING</th>\n",
              "      <th>LAST_FX_CONTRACT_DURATION</th>\n",
              "      <th>CONTRACT_STATUS</th>\n",
              "      <th>PREV_CONTRACT_DURATION</th>\n",
              "      <th>HANDSET_USED_BRAND</th>\n",
              "      <th>CHURN_IND</th>\n",
              "      <th>MONTHLY_SPEND</th>\n",
              "      <th>COUNTRY_METRO_REGION</th>\n",
              "      <th>STATE</th>\n",
              "    </tr>\n",
              "  </thead>\n",
              "  <tbody>\n",
              "    <tr>\n",
              "      <th>0</th>\n",
              "      <td>1</td>\n",
              "      <td>46</td>\n",
              "      <td>1</td>\n",
              "      <td>30</td>\n",
              "      <td>CONSUMER</td>\n",
              "      <td>46</td>\n",
              "      <td>54.54</td>\n",
              "      <td>NON BYO</td>\n",
              "      <td>15</td>\n",
              "      <td>0</td>\n",
              "      <td>24</td>\n",
              "      <td>OFF-CONTRACT</td>\n",
              "      <td>24</td>\n",
              "      <td>SAMSUNG</td>\n",
              "      <td>1</td>\n",
              "      <td>61.40</td>\n",
              "      <td>COUNTRY</td>\n",
              "      <td>WA</td>\n",
              "    </tr>\n",
              "    <tr>\n",
              "      <th>1</th>\n",
              "      <td>2</td>\n",
              "      <td>60</td>\n",
              "      <td>3</td>\n",
              "      <td>55</td>\n",
              "      <td>CONSUMER</td>\n",
              "      <td>59</td>\n",
              "      <td>54.54</td>\n",
              "      <td>NON BYO</td>\n",
              "      <td>5</td>\n",
              "      <td>0</td>\n",
              "      <td>24</td>\n",
              "      <td>OFF-CONTRACT</td>\n",
              "      <td>24</td>\n",
              "      <td>APPLE</td>\n",
              "      <td>1</td>\n",
              "      <td>54.54</td>\n",
              "      <td>METRO</td>\n",
              "      <td>NSW</td>\n",
              "    </tr>\n",
              "    <tr>\n",
              "      <th>2</th>\n",
              "      <td>5</td>\n",
              "      <td>65</td>\n",
              "      <td>1</td>\n",
              "      <td>29</td>\n",
              "      <td>CONSUMER</td>\n",
              "      <td>65</td>\n",
              "      <td>40.90</td>\n",
              "      <td>BYO</td>\n",
              "      <td>15</td>\n",
              "      <td>0</td>\n",
              "      <td>12</td>\n",
              "      <td>OFF-CONTRACT</td>\n",
              "      <td>12</td>\n",
              "      <td>APPLE</td>\n",
              "      <td>1</td>\n",
              "      <td>2.50</td>\n",
              "      <td>COUNTRY</td>\n",
              "      <td>WA</td>\n",
              "    </tr>\n",
              "    <tr>\n",
              "      <th>3</th>\n",
              "      <td>6</td>\n",
              "      <td>31</td>\n",
              "      <td>1</td>\n",
              "      <td>51</td>\n",
              "      <td>CONSUMER</td>\n",
              "      <td>31</td>\n",
              "      <td>31.81</td>\n",
              "      <td>NON BYO</td>\n",
              "      <td>31</td>\n",
              "      <td>0</td>\n",
              "      <td>24</td>\n",
              "      <td>OFF-CONTRACT</td>\n",
              "      <td>24</td>\n",
              "      <td>APPLE</td>\n",
              "      <td>1</td>\n",
              "      <td>6.48</td>\n",
              "      <td>COUNTRY</td>\n",
              "      <td>VIC</td>\n",
              "    </tr>\n",
              "    <tr>\n",
              "      <th>4</th>\n",
              "      <td>8</td>\n",
              "      <td>95</td>\n",
              "      <td>1</td>\n",
              "      <td>31</td>\n",
              "      <td>CONSUMER</td>\n",
              "      <td>95</td>\n",
              "      <td>54.54</td>\n",
              "      <td>NON BYO</td>\n",
              "      <td>0</td>\n",
              "      <td>0</td>\n",
              "      <td>24</td>\n",
              "      <td>OFF-CONTRACT</td>\n",
              "      <td>24</td>\n",
              "      <td>APPLE</td>\n",
              "      <td>1</td>\n",
              "      <td>100.22</td>\n",
              "      <td>METRO</td>\n",
              "      <td>NSW</td>\n",
              "    </tr>\n",
              "    <tr>\n",
              "      <th>...</th>\n",
              "      <td>...</td>\n",
              "      <td>...</td>\n",
              "      <td>...</td>\n",
              "      <td>...</td>\n",
              "      <td>...</td>\n",
              "      <td>...</td>\n",
              "      <td>...</td>\n",
              "      <td>...</td>\n",
              "      <td>...</td>\n",
              "      <td>...</td>\n",
              "      <td>...</td>\n",
              "      <td>...</td>\n",
              "      <td>...</td>\n",
              "      <td>...</td>\n",
              "      <td>...</td>\n",
              "      <td>...</td>\n",
              "      <td>...</td>\n",
              "      <td>...</td>\n",
              "    </tr>\n",
              "    <tr>\n",
              "      <th>46201</th>\n",
              "      <td>79494</td>\n",
              "      <td>10</td>\n",
              "      <td>1</td>\n",
              "      <td>61</td>\n",
              "      <td>CONSUMER</td>\n",
              "      <td>9</td>\n",
              "      <td>27.27</td>\n",
              "      <td>BYO</td>\n",
              "      <td>7</td>\n",
              "      <td>0</td>\n",
              "      <td>0</td>\n",
              "      <td>NO-CONTRACT</td>\n",
              "      <td>0</td>\n",
              "      <td>OTHER</td>\n",
              "      <td>0</td>\n",
              "      <td>27.27</td>\n",
              "      <td>COUNTRY</td>\n",
              "      <td>VIC</td>\n",
              "    </tr>\n",
              "    <tr>\n",
              "      <th>46202</th>\n",
              "      <td>79495</td>\n",
              "      <td>2</td>\n",
              "      <td>1</td>\n",
              "      <td>53</td>\n",
              "      <td>CONSUMER</td>\n",
              "      <td>2</td>\n",
              "      <td>54.54</td>\n",
              "      <td>NON BYO</td>\n",
              "      <td>2</td>\n",
              "      <td>0</td>\n",
              "      <td>24</td>\n",
              "      <td>OFF-CONTRACT</td>\n",
              "      <td>24</td>\n",
              "      <td>UNKNOWN</td>\n",
              "      <td>1</td>\n",
              "      <td>54.99</td>\n",
              "      <td>METRO</td>\n",
              "      <td>NSW</td>\n",
              "    </tr>\n",
              "    <tr>\n",
              "      <th>46203</th>\n",
              "      <td>79496</td>\n",
              "      <td>47</td>\n",
              "      <td>1</td>\n",
              "      <td>22</td>\n",
              "      <td>CONSUMER</td>\n",
              "      <td>47</td>\n",
              "      <td>72.72</td>\n",
              "      <td>NON BYO</td>\n",
              "      <td>7</td>\n",
              "      <td>17</td>\n",
              "      <td>24</td>\n",
              "      <td>ON-CONTRACT</td>\n",
              "      <td>24</td>\n",
              "      <td>APPLE</td>\n",
              "      <td>0</td>\n",
              "      <td>72.72</td>\n",
              "      <td>COUNTRY</td>\n",
              "      <td>NSW</td>\n",
              "    </tr>\n",
              "    <tr>\n",
              "      <th>46204</th>\n",
              "      <td>79497</td>\n",
              "      <td>94</td>\n",
              "      <td>1</td>\n",
              "      <td>40</td>\n",
              "      <td>CONSUMER</td>\n",
              "      <td>182</td>\n",
              "      <td>17.27</td>\n",
              "      <td>NON BYO</td>\n",
              "      <td>4</td>\n",
              "      <td>0</td>\n",
              "      <td>24</td>\n",
              "      <td>OFF-CONTRACT</td>\n",
              "      <td>24</td>\n",
              "      <td>APPLE</td>\n",
              "      <td>0</td>\n",
              "      <td>17.27</td>\n",
              "      <td>METRO</td>\n",
              "      <td>VIC</td>\n",
              "    </tr>\n",
              "    <tr>\n",
              "      <th>46205</th>\n",
              "      <td>79500</td>\n",
              "      <td>0</td>\n",
              "      <td>1</td>\n",
              "      <td>24</td>\n",
              "      <td>CONSUMER</td>\n",
              "      <td>0</td>\n",
              "      <td>36.36</td>\n",
              "      <td>BYO</td>\n",
              "      <td>0</td>\n",
              "      <td>0</td>\n",
              "      <td>0</td>\n",
              "      <td>NO-CONTRACT</td>\n",
              "      <td>0</td>\n",
              "      <td>APPLE</td>\n",
              "      <td>0</td>\n",
              "      <td>36.36</td>\n",
              "      <td>METRO</td>\n",
              "      <td>NSW</td>\n",
              "    </tr>\n",
              "  </tbody>\n",
              "</table>\n",
              "<p>46206 rows × 18 columns</p>\n",
              "</div>"
            ],
            "text/plain": [
              "       CUST_ID  ACCOUNT_TENURE  ...  COUNTRY_METRO_REGION STATE\n",
              "0            1              46  ...               COUNTRY    WA\n",
              "1            2              60  ...                 METRO   NSW\n",
              "2            5              65  ...               COUNTRY    WA\n",
              "3            6              31  ...               COUNTRY   VIC\n",
              "4            8              95  ...                 METRO   NSW\n",
              "...        ...             ...  ...                   ...   ...\n",
              "46201    79494              10  ...               COUNTRY   VIC\n",
              "46202    79495               2  ...                 METRO   NSW\n",
              "46203    79496              47  ...               COUNTRY   NSW\n",
              "46204    79497              94  ...                 METRO   VIC\n",
              "46205    79500               0  ...                 METRO   NSW\n",
              "\n",
              "[46206 rows x 18 columns]"
            ]
          },
          "metadata": {},
          "execution_count": 26
        }
      ]
    },
    {
      "cell_type": "code",
      "metadata": {
        "colab": {
          "base_uri": "https://localhost:8080/",
          "height": 445
        },
        "id": "TR_TesIBDeDQ",
        "outputId": "5e8cfcf0-76c2-4eba-9d7f-f1d3e48c50d1"
      },
      "source": [
        "pd.crosstab(df.AGE,df.CHURN_IND)\n",
        "#Now the #VALUE! is removed. Now we have to remove -4"
      ],
      "execution_count": 27,
      "outputs": [
        {
          "output_type": "execute_result",
          "data": {
            "text/html": [
              "<div>\n",
              "<style scoped>\n",
              "    .dataframe tbody tr th:only-of-type {\n",
              "        vertical-align: middle;\n",
              "    }\n",
              "\n",
              "    .dataframe tbody tr th {\n",
              "        vertical-align: top;\n",
              "    }\n",
              "\n",
              "    .dataframe thead th {\n",
              "        text-align: right;\n",
              "    }\n",
              "</style>\n",
              "<table border=\"1\" class=\"dataframe\">\n",
              "  <thead>\n",
              "    <tr style=\"text-align: right;\">\n",
              "      <th>CHURN_IND</th>\n",
              "      <th>0</th>\n",
              "      <th>1</th>\n",
              "    </tr>\n",
              "    <tr>\n",
              "      <th>AGE</th>\n",
              "      <th></th>\n",
              "      <th></th>\n",
              "    </tr>\n",
              "  </thead>\n",
              "  <tbody>\n",
              "    <tr>\n",
              "      <th>58</th>\n",
              "      <td>49</td>\n",
              "      <td>27</td>\n",
              "    </tr>\n",
              "    <tr>\n",
              "      <th>-4</th>\n",
              "      <td>1</td>\n",
              "      <td>1</td>\n",
              "    </tr>\n",
              "    <tr>\n",
              "      <th>104</th>\n",
              "      <td>1</td>\n",
              "      <td>0</td>\n",
              "    </tr>\n",
              "    <tr>\n",
              "      <th>105</th>\n",
              "      <td>1</td>\n",
              "      <td>1</td>\n",
              "    </tr>\n",
              "    <tr>\n",
              "      <th>109</th>\n",
              "      <td>2</td>\n",
              "      <td>0</td>\n",
              "    </tr>\n",
              "    <tr>\n",
              "      <th>...</th>\n",
              "      <td>...</td>\n",
              "      <td>...</td>\n",
              "    </tr>\n",
              "    <tr>\n",
              "      <th>92</th>\n",
              "      <td>2</td>\n",
              "      <td>4</td>\n",
              "    </tr>\n",
              "    <tr>\n",
              "      <th>93</th>\n",
              "      <td>3</td>\n",
              "      <td>2</td>\n",
              "    </tr>\n",
              "    <tr>\n",
              "      <th>94</th>\n",
              "      <td>2</td>\n",
              "      <td>0</td>\n",
              "    </tr>\n",
              "    <tr>\n",
              "      <th>95</th>\n",
              "      <td>1</td>\n",
              "      <td>2</td>\n",
              "    </tr>\n",
              "    <tr>\n",
              "      <th>97</th>\n",
              "      <td>1</td>\n",
              "      <td>0</td>\n",
              "    </tr>\n",
              "  </tbody>\n",
              "</table>\n",
              "<p>93 rows × 2 columns</p>\n",
              "</div>"
            ],
            "text/plain": [
              "CHURN_IND   0   1\n",
              "AGE              \n",
              "58         49  27\n",
              "-4          1   1\n",
              "104         1   0\n",
              "105         1   1\n",
              "109         2   0\n",
              "..         ..  ..\n",
              "92          2   4\n",
              "93          3   2\n",
              "94          2   0\n",
              "95          1   2\n",
              "97          1   0\n",
              "\n",
              "[93 rows x 2 columns]"
            ]
          },
          "metadata": {},
          "execution_count": 27
        }
      ]
    },
    {
      "cell_type": "code",
      "metadata": {
        "id": "SrvJVdiBDvgY"
      },
      "source": [
        "df.replace(-4,78,inplace=True)"
      ],
      "execution_count": 28,
      "outputs": []
    },
    {
      "cell_type": "code",
      "metadata": {
        "colab": {
          "base_uri": "https://localhost:8080/",
          "height": 445
        },
        "id": "PZ42Kyj-D9fE",
        "outputId": "6a6c1c5a-8192-4e67-eec1-8bbc276e93d8"
      },
      "source": [
        "#we ignore -1. it doesn't affect our model \n",
        "pd.crosstab(df.AGE,df.CHURN_IND)"
      ],
      "execution_count": 29,
      "outputs": [
        {
          "output_type": "execute_result",
          "data": {
            "text/html": [
              "<div>\n",
              "<style scoped>\n",
              "    .dataframe tbody tr th:only-of-type {\n",
              "        vertical-align: middle;\n",
              "    }\n",
              "\n",
              "    .dataframe tbody tr th {\n",
              "        vertical-align: top;\n",
              "    }\n",
              "\n",
              "    .dataframe thead th {\n",
              "        text-align: right;\n",
              "    }\n",
              "</style>\n",
              "<table border=\"1\" class=\"dataframe\">\n",
              "  <thead>\n",
              "    <tr style=\"text-align: right;\">\n",
              "      <th>CHURN_IND</th>\n",
              "      <th>0</th>\n",
              "      <th>1</th>\n",
              "    </tr>\n",
              "    <tr>\n",
              "      <th>AGE</th>\n",
              "      <th></th>\n",
              "      <th></th>\n",
              "    </tr>\n",
              "  </thead>\n",
              "  <tbody>\n",
              "    <tr>\n",
              "      <th>58</th>\n",
              "      <td>49</td>\n",
              "      <td>27</td>\n",
              "    </tr>\n",
              "    <tr>\n",
              "      <th>-4</th>\n",
              "      <td>1</td>\n",
              "      <td>1</td>\n",
              "    </tr>\n",
              "    <tr>\n",
              "      <th>104</th>\n",
              "      <td>1</td>\n",
              "      <td>0</td>\n",
              "    </tr>\n",
              "    <tr>\n",
              "      <th>105</th>\n",
              "      <td>1</td>\n",
              "      <td>1</td>\n",
              "    </tr>\n",
              "    <tr>\n",
              "      <th>109</th>\n",
              "      <td>2</td>\n",
              "      <td>0</td>\n",
              "    </tr>\n",
              "    <tr>\n",
              "      <th>...</th>\n",
              "      <td>...</td>\n",
              "      <td>...</td>\n",
              "    </tr>\n",
              "    <tr>\n",
              "      <th>92</th>\n",
              "      <td>2</td>\n",
              "      <td>4</td>\n",
              "    </tr>\n",
              "    <tr>\n",
              "      <th>93</th>\n",
              "      <td>3</td>\n",
              "      <td>2</td>\n",
              "    </tr>\n",
              "    <tr>\n",
              "      <th>94</th>\n",
              "      <td>2</td>\n",
              "      <td>0</td>\n",
              "    </tr>\n",
              "    <tr>\n",
              "      <th>95</th>\n",
              "      <td>1</td>\n",
              "      <td>2</td>\n",
              "    </tr>\n",
              "    <tr>\n",
              "      <th>97</th>\n",
              "      <td>1</td>\n",
              "      <td>0</td>\n",
              "    </tr>\n",
              "  </tbody>\n",
              "</table>\n",
              "<p>93 rows × 2 columns</p>\n",
              "</div>"
            ],
            "text/plain": [
              "CHURN_IND   0   1\n",
              "AGE              \n",
              "58         49  27\n",
              "-4          1   1\n",
              "104         1   0\n",
              "105         1   1\n",
              "109         2   0\n",
              "..         ..  ..\n",
              "92          2   4\n",
              "93          3   2\n",
              "94          2   0\n",
              "95          1   2\n",
              "97          1   0\n",
              "\n",
              "[93 rows x 2 columns]"
            ]
          },
          "metadata": {},
          "execution_count": 29
        }
      ]
    },
    {
      "cell_type": "code",
      "metadata": {
        "id": "H22ftr-b5aAg"
      },
      "source": [
        "#Here where my pain started. I had to convert strings into numbers. I wrote this cell but I had to do below cells for conversion \n",
        "#Applying models\n",
        "models={\"KNN\":KNeighborsClassifier(),\n",
        "        \"Logistic Regression\": LogisticRegression(),\n",
        "        \"Random Forest\": RandomForestClassifier(),\n",
        "        \"Linear SVC\": LinearSVC()}\n",
        "\n",
        "def fit_and_score(models, X_train, X_test, y_train, y_test):\n",
        "  np.random.seed(42)\n",
        "  model_scores = {}\n",
        "\n",
        "  for name, model in models.items():\n",
        "    model.fit(X_train, y_train)\n",
        "\n",
        "    model_scores[name] = model.score(X_test, y_test)\n",
        "  return model_scores"
      ],
      "execution_count": 30,
      "outputs": []
    },
    {
      "cell_type": "code",
      "metadata": {
        "id": "4v83kmVH2MtB"
      },
      "source": [
        "#conversion part 1\n",
        "#Converting strings into numbers \n",
        "for label, content in df.items():\n",
        "  if not pd.api.types.is_numeric_dtype(content):\n",
        "    df[label+\"_is_missing\"]=pd.isnull(content)\n",
        "    df[label]=pd.Categorical(content).codes+1"
      ],
      "execution_count": 31,
      "outputs": []
    },
    {
      "cell_type": "code",
      "metadata": {
        "colab": {
          "base_uri": "https://localhost:8080/",
          "height": 434
        },
        "id": "1sczTCLICBGD",
        "outputId": "2d902cc6-d04b-460f-b074-4f1a8ad9c760"
      },
      "source": [
        "df"
      ],
      "execution_count": 32,
      "outputs": [
        {
          "output_type": "execute_result",
          "data": {
            "text/html": [
              "<div>\n",
              "<style scoped>\n",
              "    .dataframe tbody tr th:only-of-type {\n",
              "        vertical-align: middle;\n",
              "    }\n",
              "\n",
              "    .dataframe tbody tr th {\n",
              "        vertical-align: top;\n",
              "    }\n",
              "\n",
              "    .dataframe thead th {\n",
              "        text-align: right;\n",
              "    }\n",
              "</style>\n",
              "<table border=\"1\" class=\"dataframe\">\n",
              "  <thead>\n",
              "    <tr style=\"text-align: right;\">\n",
              "      <th></th>\n",
              "      <th>CUST_ID</th>\n",
              "      <th>ACCOUNT_TENURE</th>\n",
              "      <th>ACCT_CNT_SERVICES</th>\n",
              "      <th>AGE</th>\n",
              "      <th>CFU</th>\n",
              "      <th>SERVICE_TENURE</th>\n",
              "      <th>PLAN_ACCESS_FEE</th>\n",
              "      <th>BYO_PLAN_STATUS</th>\n",
              "      <th>PLAN_TENURE</th>\n",
              "      <th>MONTHS_OF_CONTRACT_REMAINING</th>\n",
              "      <th>LAST_FX_CONTRACT_DURATION</th>\n",
              "      <th>CONTRACT_STATUS</th>\n",
              "      <th>PREV_CONTRACT_DURATION</th>\n",
              "      <th>HANDSET_USED_BRAND</th>\n",
              "      <th>CHURN_IND</th>\n",
              "      <th>MONTHLY_SPEND</th>\n",
              "      <th>COUNTRY_METRO_REGION</th>\n",
              "      <th>STATE</th>\n",
              "      <th>AGE_is_missing</th>\n",
              "      <th>CFU_is_missing</th>\n",
              "      <th>BYO_PLAN_STATUS_is_missing</th>\n",
              "      <th>CONTRACT_STATUS_is_missing</th>\n",
              "      <th>HANDSET_USED_BRAND_is_missing</th>\n",
              "      <th>COUNTRY_METRO_REGION_is_missing</th>\n",
              "      <th>STATE_is_missing</th>\n",
              "    </tr>\n",
              "  </thead>\n",
              "  <tbody>\n",
              "    <tr>\n",
              "      <th>0</th>\n",
              "      <td>1</td>\n",
              "      <td>46</td>\n",
              "      <td>1</td>\n",
              "      <td>25</td>\n",
              "      <td>1</td>\n",
              "      <td>46</td>\n",
              "      <td>54.54</td>\n",
              "      <td>2</td>\n",
              "      <td>15</td>\n",
              "      <td>0</td>\n",
              "      <td>24</td>\n",
              "      <td>2</td>\n",
              "      <td>24</td>\n",
              "      <td>5</td>\n",
              "      <td>1</td>\n",
              "      <td>61.40</td>\n",
              "      <td>1</td>\n",
              "      <td>8</td>\n",
              "      <td>False</td>\n",
              "      <td>False</td>\n",
              "      <td>False</td>\n",
              "      <td>False</td>\n",
              "      <td>False</td>\n",
              "      <td>False</td>\n",
              "      <td>False</td>\n",
              "    </tr>\n",
              "    <tr>\n",
              "      <th>1</th>\n",
              "      <td>2</td>\n",
              "      <td>60</td>\n",
              "      <td>3</td>\n",
              "      <td>51</td>\n",
              "      <td>1</td>\n",
              "      <td>59</td>\n",
              "      <td>54.54</td>\n",
              "      <td>2</td>\n",
              "      <td>5</td>\n",
              "      <td>0</td>\n",
              "      <td>24</td>\n",
              "      <td>2</td>\n",
              "      <td>24</td>\n",
              "      <td>1</td>\n",
              "      <td>1</td>\n",
              "      <td>54.54</td>\n",
              "      <td>2</td>\n",
              "      <td>2</td>\n",
              "      <td>False</td>\n",
              "      <td>False</td>\n",
              "      <td>False</td>\n",
              "      <td>False</td>\n",
              "      <td>False</td>\n",
              "      <td>False</td>\n",
              "      <td>False</td>\n",
              "    </tr>\n",
              "    <tr>\n",
              "      <th>2</th>\n",
              "      <td>5</td>\n",
              "      <td>65</td>\n",
              "      <td>1</td>\n",
              "      <td>24</td>\n",
              "      <td>1</td>\n",
              "      <td>65</td>\n",
              "      <td>40.90</td>\n",
              "      <td>1</td>\n",
              "      <td>15</td>\n",
              "      <td>0</td>\n",
              "      <td>12</td>\n",
              "      <td>2</td>\n",
              "      <td>12</td>\n",
              "      <td>1</td>\n",
              "      <td>1</td>\n",
              "      <td>2.50</td>\n",
              "      <td>1</td>\n",
              "      <td>8</td>\n",
              "      <td>False</td>\n",
              "      <td>False</td>\n",
              "      <td>False</td>\n",
              "      <td>False</td>\n",
              "      <td>False</td>\n",
              "      <td>False</td>\n",
              "      <td>False</td>\n",
              "    </tr>\n",
              "    <tr>\n",
              "      <th>3</th>\n",
              "      <td>6</td>\n",
              "      <td>31</td>\n",
              "      <td>1</td>\n",
              "      <td>47</td>\n",
              "      <td>1</td>\n",
              "      <td>31</td>\n",
              "      <td>31.81</td>\n",
              "      <td>2</td>\n",
              "      <td>31</td>\n",
              "      <td>0</td>\n",
              "      <td>24</td>\n",
              "      <td>2</td>\n",
              "      <td>24</td>\n",
              "      <td>1</td>\n",
              "      <td>1</td>\n",
              "      <td>6.48</td>\n",
              "      <td>1</td>\n",
              "      <td>7</td>\n",
              "      <td>False</td>\n",
              "      <td>False</td>\n",
              "      <td>False</td>\n",
              "      <td>False</td>\n",
              "      <td>False</td>\n",
              "      <td>False</td>\n",
              "      <td>False</td>\n",
              "    </tr>\n",
              "    <tr>\n",
              "      <th>4</th>\n",
              "      <td>8</td>\n",
              "      <td>95</td>\n",
              "      <td>1</td>\n",
              "      <td>26</td>\n",
              "      <td>1</td>\n",
              "      <td>95</td>\n",
              "      <td>54.54</td>\n",
              "      <td>2</td>\n",
              "      <td>0</td>\n",
              "      <td>0</td>\n",
              "      <td>24</td>\n",
              "      <td>2</td>\n",
              "      <td>24</td>\n",
              "      <td>1</td>\n",
              "      <td>1</td>\n",
              "      <td>100.22</td>\n",
              "      <td>2</td>\n",
              "      <td>2</td>\n",
              "      <td>False</td>\n",
              "      <td>False</td>\n",
              "      <td>False</td>\n",
              "      <td>False</td>\n",
              "      <td>False</td>\n",
              "      <td>False</td>\n",
              "      <td>False</td>\n",
              "    </tr>\n",
              "    <tr>\n",
              "      <th>...</th>\n",
              "      <td>...</td>\n",
              "      <td>...</td>\n",
              "      <td>...</td>\n",
              "      <td>...</td>\n",
              "      <td>...</td>\n",
              "      <td>...</td>\n",
              "      <td>...</td>\n",
              "      <td>...</td>\n",
              "      <td>...</td>\n",
              "      <td>...</td>\n",
              "      <td>...</td>\n",
              "      <td>...</td>\n",
              "      <td>...</td>\n",
              "      <td>...</td>\n",
              "      <td>...</td>\n",
              "      <td>...</td>\n",
              "      <td>...</td>\n",
              "      <td>...</td>\n",
              "      <td>...</td>\n",
              "      <td>...</td>\n",
              "      <td>...</td>\n",
              "      <td>...</td>\n",
              "      <td>...</td>\n",
              "      <td>...</td>\n",
              "      <td>...</td>\n",
              "    </tr>\n",
              "    <tr>\n",
              "      <th>46201</th>\n",
              "      <td>79494</td>\n",
              "      <td>10</td>\n",
              "      <td>1</td>\n",
              "      <td>57</td>\n",
              "      <td>1</td>\n",
              "      <td>9</td>\n",
              "      <td>27.27</td>\n",
              "      <td>1</td>\n",
              "      <td>7</td>\n",
              "      <td>0</td>\n",
              "      <td>0</td>\n",
              "      <td>1</td>\n",
              "      <td>0</td>\n",
              "      <td>4</td>\n",
              "      <td>0</td>\n",
              "      <td>27.27</td>\n",
              "      <td>1</td>\n",
              "      <td>7</td>\n",
              "      <td>False</td>\n",
              "      <td>False</td>\n",
              "      <td>False</td>\n",
              "      <td>False</td>\n",
              "      <td>False</td>\n",
              "      <td>False</td>\n",
              "      <td>False</td>\n",
              "    </tr>\n",
              "    <tr>\n",
              "      <th>46202</th>\n",
              "      <td>79495</td>\n",
              "      <td>2</td>\n",
              "      <td>1</td>\n",
              "      <td>49</td>\n",
              "      <td>1</td>\n",
              "      <td>2</td>\n",
              "      <td>54.54</td>\n",
              "      <td>2</td>\n",
              "      <td>2</td>\n",
              "      <td>0</td>\n",
              "      <td>24</td>\n",
              "      <td>2</td>\n",
              "      <td>24</td>\n",
              "      <td>6</td>\n",
              "      <td>1</td>\n",
              "      <td>54.99</td>\n",
              "      <td>2</td>\n",
              "      <td>2</td>\n",
              "      <td>False</td>\n",
              "      <td>False</td>\n",
              "      <td>False</td>\n",
              "      <td>False</td>\n",
              "      <td>False</td>\n",
              "      <td>False</td>\n",
              "      <td>False</td>\n",
              "    </tr>\n",
              "    <tr>\n",
              "      <th>46203</th>\n",
              "      <td>79496</td>\n",
              "      <td>47</td>\n",
              "      <td>1</td>\n",
              "      <td>17</td>\n",
              "      <td>1</td>\n",
              "      <td>47</td>\n",
              "      <td>72.72</td>\n",
              "      <td>2</td>\n",
              "      <td>7</td>\n",
              "      <td>17</td>\n",
              "      <td>24</td>\n",
              "      <td>3</td>\n",
              "      <td>24</td>\n",
              "      <td>1</td>\n",
              "      <td>0</td>\n",
              "      <td>72.72</td>\n",
              "      <td>1</td>\n",
              "      <td>2</td>\n",
              "      <td>False</td>\n",
              "      <td>False</td>\n",
              "      <td>False</td>\n",
              "      <td>False</td>\n",
              "      <td>False</td>\n",
              "      <td>False</td>\n",
              "      <td>False</td>\n",
              "    </tr>\n",
              "    <tr>\n",
              "      <th>46204</th>\n",
              "      <td>79497</td>\n",
              "      <td>94</td>\n",
              "      <td>1</td>\n",
              "      <td>35</td>\n",
              "      <td>1</td>\n",
              "      <td>182</td>\n",
              "      <td>17.27</td>\n",
              "      <td>2</td>\n",
              "      <td>4</td>\n",
              "      <td>0</td>\n",
              "      <td>24</td>\n",
              "      <td>2</td>\n",
              "      <td>24</td>\n",
              "      <td>1</td>\n",
              "      <td>0</td>\n",
              "      <td>17.27</td>\n",
              "      <td>2</td>\n",
              "      <td>7</td>\n",
              "      <td>False</td>\n",
              "      <td>False</td>\n",
              "      <td>False</td>\n",
              "      <td>False</td>\n",
              "      <td>False</td>\n",
              "      <td>False</td>\n",
              "      <td>False</td>\n",
              "    </tr>\n",
              "    <tr>\n",
              "      <th>46205</th>\n",
              "      <td>79500</td>\n",
              "      <td>0</td>\n",
              "      <td>1</td>\n",
              "      <td>19</td>\n",
              "      <td>1</td>\n",
              "      <td>0</td>\n",
              "      <td>36.36</td>\n",
              "      <td>1</td>\n",
              "      <td>0</td>\n",
              "      <td>0</td>\n",
              "      <td>0</td>\n",
              "      <td>1</td>\n",
              "      <td>0</td>\n",
              "      <td>1</td>\n",
              "      <td>0</td>\n",
              "      <td>36.36</td>\n",
              "      <td>2</td>\n",
              "      <td>2</td>\n",
              "      <td>False</td>\n",
              "      <td>False</td>\n",
              "      <td>False</td>\n",
              "      <td>False</td>\n",
              "      <td>False</td>\n",
              "      <td>False</td>\n",
              "      <td>False</td>\n",
              "    </tr>\n",
              "  </tbody>\n",
              "</table>\n",
              "<p>46206 rows × 25 columns</p>\n",
              "</div>"
            ],
            "text/plain": [
              "       CUST_ID  ...  STATE_is_missing\n",
              "0            1  ...             False\n",
              "1            2  ...             False\n",
              "2            5  ...             False\n",
              "3            6  ...             False\n",
              "4            8  ...             False\n",
              "...        ...  ...               ...\n",
              "46201    79494  ...             False\n",
              "46202    79495  ...             False\n",
              "46203    79496  ...             False\n",
              "46204    79497  ...             False\n",
              "46205    79500  ...             False\n",
              "\n",
              "[46206 rows x 25 columns]"
            ]
          },
          "metadata": {},
          "execution_count": 32
        }
      ]
    },
    {
      "cell_type": "code",
      "metadata": {
        "colab": {
          "base_uri": "https://localhost:8080/"
        },
        "id": "NRwkNFST6pmp",
        "outputId": "758d3546-4230-49f0-d733-755771d6bd6f"
      },
      "source": [
        "df.isna().sum()"
      ],
      "execution_count": 33,
      "outputs": [
        {
          "output_type": "execute_result",
          "data": {
            "text/plain": [
              "CUST_ID                            0\n",
              "ACCOUNT_TENURE                     0\n",
              "ACCT_CNT_SERVICES                  0\n",
              "AGE                                0\n",
              "CFU                                0\n",
              "SERVICE_TENURE                     0\n",
              "PLAN_ACCESS_FEE                    0\n",
              "BYO_PLAN_STATUS                    0\n",
              "PLAN_TENURE                        0\n",
              "MONTHS_OF_CONTRACT_REMAINING       0\n",
              "LAST_FX_CONTRACT_DURATION          0\n",
              "CONTRACT_STATUS                    0\n",
              "PREV_CONTRACT_DURATION             0\n",
              "HANDSET_USED_BRAND                 0\n",
              "CHURN_IND                          0\n",
              "MONTHLY_SPEND                      0\n",
              "COUNTRY_METRO_REGION               0\n",
              "STATE                              0\n",
              "AGE_is_missing                     0\n",
              "CFU_is_missing                     0\n",
              "BYO_PLAN_STATUS_is_missing         0\n",
              "CONTRACT_STATUS_is_missing         0\n",
              "HANDSET_USED_BRAND_is_missing      0\n",
              "COUNTRY_METRO_REGION_is_missing    0\n",
              "STATE_is_missing                   0\n",
              "dtype: int64"
            ]
          },
          "metadata": {},
          "execution_count": 33
        }
      ]
    },
    {
      "cell_type": "code",
      "metadata": {
        "colab": {
          "base_uri": "https://localhost:8080/",
          "height": 484
        },
        "id": "MbQ6hJi_CGd2",
        "outputId": "caae003c-7834-4967-9dc6-3be47fa1fa2a"
      },
      "source": [
        "X_train"
      ],
      "execution_count": 34,
      "outputs": [
        {
          "output_type": "execute_result",
          "data": {
            "text/html": [
              "<div>\n",
              "<style scoped>\n",
              "    .dataframe tbody tr th:only-of-type {\n",
              "        vertical-align: middle;\n",
              "    }\n",
              "\n",
              "    .dataframe tbody tr th {\n",
              "        vertical-align: top;\n",
              "    }\n",
              "\n",
              "    .dataframe thead th {\n",
              "        text-align: right;\n",
              "    }\n",
              "</style>\n",
              "<table border=\"1\" class=\"dataframe\">\n",
              "  <thead>\n",
              "    <tr style=\"text-align: right;\">\n",
              "      <th></th>\n",
              "      <th>CUST_ID</th>\n",
              "      <th>ACCOUNT_TENURE</th>\n",
              "      <th>ACCT_CNT_SERVICES</th>\n",
              "      <th>AGE</th>\n",
              "      <th>CFU</th>\n",
              "      <th>SERVICE_TENURE</th>\n",
              "      <th>PLAN_ACCESS_FEE</th>\n",
              "      <th>BYO_PLAN_STATUS</th>\n",
              "      <th>PLAN_TENURE</th>\n",
              "      <th>MONTHS_OF_CONTRACT_REMAINING</th>\n",
              "      <th>LAST_FX_CONTRACT_DURATION</th>\n",
              "      <th>CONTRACT_STATUS</th>\n",
              "      <th>PREV_CONTRACT_DURATION</th>\n",
              "      <th>HANDSET_USED_BRAND</th>\n",
              "      <th>MONTHLY_SPEND</th>\n",
              "      <th>COUNTRY_METRO_REGION</th>\n",
              "      <th>STATE</th>\n",
              "    </tr>\n",
              "  </thead>\n",
              "  <tbody>\n",
              "    <tr>\n",
              "      <th>21846</th>\n",
              "      <td>41250</td>\n",
              "      <td>11</td>\n",
              "      <td>3</td>\n",
              "      <td>61</td>\n",
              "      <td>SMALL BUSINESS</td>\n",
              "      <td>8</td>\n",
              "      <td>54.54</td>\n",
              "      <td>NON BYO</td>\n",
              "      <td>8</td>\n",
              "      <td>16</td>\n",
              "      <td>24</td>\n",
              "      <td>ON-CONTRACT</td>\n",
              "      <td>0</td>\n",
              "      <td>SAMSUNG</td>\n",
              "      <td>54.54</td>\n",
              "      <td>METRO</td>\n",
              "      <td>NSW</td>\n",
              "    </tr>\n",
              "    <tr>\n",
              "      <th>3007</th>\n",
              "      <td>6621</td>\n",
              "      <td>19</td>\n",
              "      <td>2</td>\n",
              "      <td>41</td>\n",
              "      <td>CONSUMER</td>\n",
              "      <td>19</td>\n",
              "      <td>54.54</td>\n",
              "      <td>BYO</td>\n",
              "      <td>19</td>\n",
              "      <td>0</td>\n",
              "      <td>24</td>\n",
              "      <td>OFF-CONTRACT</td>\n",
              "      <td>24</td>\n",
              "      <td>SAMSUNG</td>\n",
              "      <td>261.16</td>\n",
              "      <td>COUNTRY</td>\n",
              "      <td>VIC</td>\n",
              "    </tr>\n",
              "    <tr>\n",
              "      <th>17723</th>\n",
              "      <td>34730</td>\n",
              "      <td>2</td>\n",
              "      <td>1</td>\n",
              "      <td>44</td>\n",
              "      <td>CONSUMER</td>\n",
              "      <td>2</td>\n",
              "      <td>45.45</td>\n",
              "      <td>BYO</td>\n",
              "      <td>2</td>\n",
              "      <td>0</td>\n",
              "      <td>0</td>\n",
              "      <td>NO-CONTRACT</td>\n",
              "      <td>0</td>\n",
              "      <td>APPLE</td>\n",
              "      <td>22.72</td>\n",
              "      <td>COUNTRY</td>\n",
              "      <td>QLD</td>\n",
              "    </tr>\n",
              "    <tr>\n",
              "      <th>40659</th>\n",
              "      <td>70542</td>\n",
              "      <td>63</td>\n",
              "      <td>1</td>\n",
              "      <td>24</td>\n",
              "      <td>CONSUMER</td>\n",
              "      <td>63</td>\n",
              "      <td>54.54</td>\n",
              "      <td>NON BYO</td>\n",
              "      <td>18</td>\n",
              "      <td>6</td>\n",
              "      <td>24</td>\n",
              "      <td>ON-CONTRACT</td>\n",
              "      <td>24</td>\n",
              "      <td>SAMSUNG</td>\n",
              "      <td>161.43</td>\n",
              "      <td>COUNTRY</td>\n",
              "      <td>VIC</td>\n",
              "    </tr>\n",
              "    <tr>\n",
              "      <th>25865</th>\n",
              "      <td>47586</td>\n",
              "      <td>50</td>\n",
              "      <td>1</td>\n",
              "      <td>22</td>\n",
              "      <td>CONSUMER</td>\n",
              "      <td>50</td>\n",
              "      <td>45.45</td>\n",
              "      <td>NON BYO</td>\n",
              "      <td>34</td>\n",
              "      <td>0</td>\n",
              "      <td>24</td>\n",
              "      <td>OFF-CONTRACT</td>\n",
              "      <td>24</td>\n",
              "      <td>OTHER</td>\n",
              "      <td>45.45</td>\n",
              "      <td>METRO</td>\n",
              "      <td>QLD</td>\n",
              "    </tr>\n",
              "    <tr>\n",
              "      <th>...</th>\n",
              "      <td>...</td>\n",
              "      <td>...</td>\n",
              "      <td>...</td>\n",
              "      <td>...</td>\n",
              "      <td>...</td>\n",
              "      <td>...</td>\n",
              "      <td>...</td>\n",
              "      <td>...</td>\n",
              "      <td>...</td>\n",
              "      <td>...</td>\n",
              "      <td>...</td>\n",
              "      <td>...</td>\n",
              "      <td>...</td>\n",
              "      <td>...</td>\n",
              "      <td>...</td>\n",
              "      <td>...</td>\n",
              "      <td>...</td>\n",
              "    </tr>\n",
              "    <tr>\n",
              "      <th>11284</th>\n",
              "      <td>24428</td>\n",
              "      <td>65</td>\n",
              "      <td>1</td>\n",
              "      <td>50</td>\n",
              "      <td>SMALL BUSINESS</td>\n",
              "      <td>65</td>\n",
              "      <td>90.90</td>\n",
              "      <td>NON BYO</td>\n",
              "      <td>16</td>\n",
              "      <td>0</td>\n",
              "      <td>24</td>\n",
              "      <td>OFF-CONTRACT</td>\n",
              "      <td>24</td>\n",
              "      <td>APPLE</td>\n",
              "      <td>90.90</td>\n",
              "      <td>METRO</td>\n",
              "      <td>NSW</td>\n",
              "    </tr>\n",
              "    <tr>\n",
              "      <th>44732</th>\n",
              "      <td>77081</td>\n",
              "      <td>15</td>\n",
              "      <td>1</td>\n",
              "      <td>19</td>\n",
              "      <td>CONSUMER</td>\n",
              "      <td>15</td>\n",
              "      <td>90.90</td>\n",
              "      <td>NON BYO</td>\n",
              "      <td>5</td>\n",
              "      <td>9</td>\n",
              "      <td>24</td>\n",
              "      <td>ON-CONTRACT</td>\n",
              "      <td>0</td>\n",
              "      <td>APPLE</td>\n",
              "      <td>112.71</td>\n",
              "      <td>COUNTRY</td>\n",
              "      <td>NSW</td>\n",
              "    </tr>\n",
              "    <tr>\n",
              "      <th>38158</th>\n",
              "      <td>66550</td>\n",
              "      <td>48</td>\n",
              "      <td>2</td>\n",
              "      <td>47</td>\n",
              "      <td>SMALL BUSINESS</td>\n",
              "      <td>40</td>\n",
              "      <td>90.90</td>\n",
              "      <td>NON BYO</td>\n",
              "      <td>6</td>\n",
              "      <td>5</td>\n",
              "      <td>24</td>\n",
              "      <td>ON-CONTRACT</td>\n",
              "      <td>24</td>\n",
              "      <td>APPLE</td>\n",
              "      <td>90.90</td>\n",
              "      <td>METRO</td>\n",
              "      <td>VIC</td>\n",
              "    </tr>\n",
              "    <tr>\n",
              "      <th>860</th>\n",
              "      <td>1855</td>\n",
              "      <td>14</td>\n",
              "      <td>1</td>\n",
              "      <td>20</td>\n",
              "      <td>CONSUMER</td>\n",
              "      <td>14</td>\n",
              "      <td>72.72</td>\n",
              "      <td>NON BYO</td>\n",
              "      <td>14</td>\n",
              "      <td>10</td>\n",
              "      <td>24</td>\n",
              "      <td>ON-CONTRACT</td>\n",
              "      <td>0</td>\n",
              "      <td>APPLE</td>\n",
              "      <td>85.44</td>\n",
              "      <td>METRO</td>\n",
              "      <td>QLD</td>\n",
              "    </tr>\n",
              "    <tr>\n",
              "      <th>15795</th>\n",
              "      <td>31689</td>\n",
              "      <td>83</td>\n",
              "      <td>1</td>\n",
              "      <td>24</td>\n",
              "      <td>CONSUMER</td>\n",
              "      <td>83</td>\n",
              "      <td>54.54</td>\n",
              "      <td>NON BYO</td>\n",
              "      <td>19</td>\n",
              "      <td>5</td>\n",
              "      <td>24</td>\n",
              "      <td>ON-CONTRACT</td>\n",
              "      <td>24</td>\n",
              "      <td>APPLE</td>\n",
              "      <td>63.63</td>\n",
              "      <td>METRO</td>\n",
              "      <td>QLD</td>\n",
              "    </tr>\n",
              "  </tbody>\n",
              "</table>\n",
              "<p>36964 rows × 17 columns</p>\n",
              "</div>"
            ],
            "text/plain": [
              "       CUST_ID  ACCOUNT_TENURE  ...  COUNTRY_METRO_REGION STATE\n",
              "21846    41250              11  ...                 METRO   NSW\n",
              "3007      6621              19  ...               COUNTRY   VIC\n",
              "17723    34730               2  ...               COUNTRY   QLD\n",
              "40659    70542              63  ...               COUNTRY   VIC\n",
              "25865    47586              50  ...                 METRO   QLD\n",
              "...        ...             ...  ...                   ...   ...\n",
              "11284    24428              65  ...                 METRO   NSW\n",
              "44732    77081              15  ...               COUNTRY   NSW\n",
              "38158    66550              48  ...                 METRO   VIC\n",
              "860       1855              14  ...                 METRO   QLD\n",
              "15795    31689              83  ...                 METRO   QLD\n",
              "\n",
              "[36964 rows x 17 columns]"
            ]
          },
          "metadata": {},
          "execution_count": 34
        }
      ]
    },
    {
      "cell_type": "code",
      "metadata": {
        "id": "8BFihIBmCfH_"
      },
      "source": [
        "#conversion part 2\n",
        "X = df.drop(\"CHURN_IND\", axis=1)\n",
        "y = df[\"CHURN_IND\"]"
      ],
      "execution_count": 35,
      "outputs": []
    },
    {
      "cell_type": "code",
      "metadata": {
        "id": "IJhFxhPaDVnM"
      },
      "source": [
        "#conversion part 3\n",
        "np.random.seed(42)\n",
        "X_train, X_test, y_train, y_test = train_test_split(X, y, test_size=0.20)"
      ],
      "execution_count": 36,
      "outputs": []
    },
    {
      "cell_type": "code",
      "metadata": {
        "colab": {
          "base_uri": "https://localhost:8080/"
        },
        "id": "RrJtndZ0b9P9",
        "outputId": "07135abd-bb97-4bd3-cde3-3c11e818a0a9"
      },
      "source": [
        "np.random.seed(42)\n",
        "model_scores = fit_and_score(models=models,\n",
        "                              X_train = X_train,\n",
        "                              X_test = X_test,\n",
        "                              y_train = y_train,\n",
        "                              y_test = y_test)\n",
        "model_scores"
      ],
      "execution_count": 37,
      "outputs": [
        {
          "output_type": "stream",
          "name": "stderr",
          "text": [
            "/usr/local/lib/python3.7/dist-packages/sklearn/linear_model/_logistic.py:940: ConvergenceWarning: lbfgs failed to converge (status=1):\n",
            "STOP: TOTAL NO. of ITERATIONS REACHED LIMIT.\n",
            "\n",
            "Increase the number of iterations (max_iter) or scale the data as shown in:\n",
            "    https://scikit-learn.org/stable/modules/preprocessing.html\n",
            "Please also refer to the documentation for alternative solver options:\n",
            "    https://scikit-learn.org/stable/modules/linear_model.html#logistic-regression\n",
            "  extra_warning_msg=_LOGISTIC_SOLVER_CONVERGENCE_MSG)\n",
            "/usr/local/lib/python3.7/dist-packages/sklearn/svm/_base.py:947: ConvergenceWarning: Liblinear failed to converge, increase the number of iterations.\n",
            "  \"the number of iterations.\", ConvergenceWarning)\n"
          ]
        },
        {
          "output_type": "execute_result",
          "data": {
            "text/plain": [
              "{'KNN': 0.8110798528457044,\n",
              " 'Linear SVC': 0.7611988747024454,\n",
              " 'Logistic Regression': 0.7912789439515256,\n",
              " 'Random Forest': 0.8631248647478901}"
            ]
          },
          "metadata": {},
          "execution_count": 37
        }
      ]
    },
    {
      "cell_type": "code",
      "metadata": {
        "colab": {
          "base_uri": "https://localhost:8080/",
          "height": 351
        },
        "id": "LuEdIk2kE7R_",
        "outputId": "167724ac-a4ea-4b43-bc90-915550c120ed"
      },
      "source": [
        "#Now my task is to do visualiazion\n",
        "model_compare = pd.DataFrame(model_scores, index=[\"accuracy\"])\n",
        "model_compare.T.plot.bar();"
      ],
      "execution_count": 38,
      "outputs": [
        {
          "output_type": "display_data",
          "data": {
            "image/png": "[encoded data removed]",
            "text/plain": [
              "<Figure size 432x288 with 1 Axes>"
            ]
          },
          "metadata": {
            "needs_background": "light"
          }
        }
      ]
    },
    {
      "cell_type": "markdown",
      "metadata": {
        "id": "8l_e8papJPWy"
      },
      "source": [
        "# Hyperparameter tuning and cross validation , Tuning by hand"
      ]
    },
    {
      "cell_type": "code",
      "metadata": {
        "id": "ua_BWsTxIAm2"
      },
      "source": [
        "#Finding the best parameters. We have to do that because we can find the best accuracy even though Random Forest looks the best one and Radom Forest is only 86%, which is not enough.\n",
        "#We can do tune 3 ways \n",
        "#1 Tuning thru by hand\n",
        "#2 Tuning thru Randomized Search Cv\n",
        "#3 Tuning thru Grid Search Tv"
      ],
      "execution_count": 39,
      "outputs": []
    },
    {
      "cell_type": "code",
      "metadata": {
        "id": "cWSzS9ZBJUla"
      },
      "source": [
        "train_scores = []\n",
        "\n",
        "test_scores = []\n",
        "\n",
        "neighbors=range(1,21)\n",
        "\n",
        "knn=KNeighborsClassifier()\n",
        "\n",
        "#Loop Through different Neighbors values\n",
        "\n",
        "for i in neighbors:\n",
        "  knn.set_params(n_neighbors=i)\n",
        "  knn.fit(X_train, y_train)\n",
        "\n",
        "  train_scores.append(knn.score(X_train, y_train))\n",
        "\n",
        "  test_scores.append(knn.score(X_test, y_test))\n",
        "\n"
      ],
      "execution_count": 40,
      "outputs": []
    },
    {
      "cell_type": "code",
      "metadata": {
        "colab": {
          "base_uri": "https://localhost:8080/"
        },
        "id": "S_seSVvW3Y4x",
        "outputId": "3a16a1dc-7463-4c93-eef1-23a0334b76c3"
      },
      "source": [
        "train_scores"
      ],
      "execution_count": 41,
      "outputs": [
        {
          "output_type": "execute_result",
          "data": {
            "text/plain": [
              "[1.0,\n",
              " 0.8733091656747105,\n",
              " 0.8802077697218915,\n",
              " 0.8525051401363489,\n",
              " 0.8555351152472677,\n",
              " 0.8432799480575696,\n",
              " 0.8464451899145115,\n",
              " 0.8401688128990369,\n",
              " 0.8411427334704036,\n",
              " 0.8363542906611838,\n",
              " 0.8377881181690293,\n",
              " 0.8342711827724272,\n",
              " 0.835759116978682,\n",
              " 0.8315929012011687,\n",
              " 0.831863434693215,\n",
              " 0.8295639000108214,\n",
              " 0.8305107672329834,\n",
              " 0.8291580997727519,\n",
              " 0.8294015799155936,\n",
              " 0.8278865923601342]"
            ]
          },
          "metadata": {},
          "execution_count": 41
        }
      ]
    },
    {
      "cell_type": "code",
      "metadata": {
        "colab": {
          "base_uri": "https://localhost:8080/"
        },
        "id": "nmXAJNtQ3jyl",
        "outputId": "4345a9e3-4431-457f-82d8-fd784615e3f6"
      },
      "source": [
        "test_scores"
      ],
      "execution_count": 42,
      "outputs": [
        {
          "output_type": "execute_result",
          "data": {
            "text/plain": [
              "[0.7600086561350357,\n",
              " 0.8068599870157974,\n",
              " 0.794308591214023,\n",
              " 0.8124864747890067,\n",
              " 0.8110798528457044,\n",
              " 0.816165332179182,\n",
              " 0.8149751136117723,\n",
              " 0.818112962562216,\n",
              " 0.8198441895693572,\n",
              " 0.8202769963211426,\n",
              " 0.8211426098247133,\n",
              " 0.8199523912573036,\n",
              " 0.8217918199523913,\n",
              " 0.8198441895693572,\n",
              " 0.8204933996970353,\n",
              " 0.8191949794416793,\n",
              " 0.820709803072928,\n",
              " 0.819735987881411,\n",
              " 0.819735987881411,\n",
              " 0.819735987881411]"
            ]
          },
          "metadata": {},
          "execution_count": 42
        }
      ]
    },
    {
      "cell_type": "code",
      "metadata": {
        "colab": {
          "base_uri": "https://localhost:8080/",
          "height": 296
        },
        "id": "xo9ckoQv3qwJ",
        "outputId": "b34c3faa-705f-4cbd-8a5f-4157998ae68d"
      },
      "source": [
        "#Now we plot them to see the difference \n",
        "\n",
        "plt.plot(neighbors, train_scores,label=\"Train Score\")\n",
        "plt.plot(neighbors, test_scores,label=\"Test Score\")\n",
        "plt.xticks(np.arange(1, 21, 1))\n",
        "plt.xlabel(\"Number of Neighbours\")\n",
        "plt.ylabel(\"Model Score\")\n",
        "plt.legend()\n",
        "print(\"maximum KNN Score on the test data set {}%\".format(max(test_scores)*100))\n"
      ],
      "execution_count": 43,
      "outputs": [
        {
          "output_type": "stream",
          "name": "stdout",
          "text": [
            "maximum KNN Score on the test data set 82.17918199523912%\n"
          ]
        },
        {
          "output_type": "display_data",
          "data": {
            "image/png": "[encoded data removed]",
            "text/plain": [
              "<Figure size 432x288 with 1 Axes>"
            ]
          },
          "metadata": {
            "needs_background": "light"
          }
        }
      ]
    },
    {
      "cell_type": "markdown",
      "metadata": {
        "id": "HHk_NkT952JF"
      },
      "source": [
        "# Tunining models with RandomizedSearch Cv"
      ]
    },
    {
      "cell_type": "code",
      "metadata": {
        "id": "-7PycLL16RJ6"
      },
      "source": [
        "log_reg_grid={\"C\":np.logspace(-4,4,20),\n",
        "              \"solver\":[\"liblinear\"]}\n",
        "\n",
        "\n",
        "rf_grid={\"n_estimators\": np.arange(10,1000,50),\n",
        "         \"max_depth\":[None, 3, 5, 10],\n",
        "         \"min_samples_split\": np.arange(2,20,2),\n",
        "         \"min_samples_leaf\":np.arange(1, 20,2)}"
      ],
      "execution_count": 44,
      "outputs": []
    },
    {
      "cell_type": "code",
      "metadata": {
        "colab": {
          "base_uri": "https://localhost:8080/"
        },
        "id": "nyw1zG8j74sr",
        "outputId": "2890614d-e3f5-4fca-9eb8-212fc3b84670"
      },
      "source": [
        "np.random.seed(42)\n",
        "rs_log_ref=RandomizedSearchCV(LogisticRegression(),\n",
        "                              param_distributions=log_reg_grid,\n",
        "                              cv=5,\n",
        "                              n_iter=20,\n",
        "                              verbose=True)\n",
        "rs_log_ref.fit(X_train, y_train)"
      ],
      "execution_count": 45,
      "outputs": [
        {
          "output_type": "stream",
          "name": "stdout",
          "text": [
            "Fitting 5 folds for each of 20 candidates, totalling 100 fits\n"
          ]
        },
        {
          "output_type": "stream",
          "name": "stderr",
          "text": [
            "[Parallel(n_jobs=1)]: Using backend SequentialBackend with 1 concurrent workers.\n",
            "[Parallel(n_jobs=1)]: Done 100 out of 100 | elapsed:   30.3s finished\n"
          ]
        },
        {
          "output_type": "execute_result",
          "data": {
            "text/plain": [
              "RandomizedSearchCV(cv=5, error_score=nan,\n",
              "                   estimator=LogisticRegression(C=1.0, class_weight=None,\n",
              "                                                dual=False, fit_intercept=True,\n",
              "                                                intercept_scaling=1,\n",
              "                                                l1_ratio=None, max_iter=100,\n",
              "                                                multi_class='auto', n_jobs=None,\n",
              "                                                penalty='l2', random_state=None,\n",
              "                                                solver='lbfgs', tol=0.0001,\n",
              "                                                verbose=0, warm_start=False),\n",
              "                   iid='deprecated', n_iter=20, n_jobs=None,\n",
              "                   param_distributions={'C':...\n",
              "       4.83293024e-03, 1.27427499e-02, 3.35981829e-02, 8.85866790e-02,\n",
              "       2.33572147e-01, 6.15848211e-01, 1.62377674e+00, 4.28133240e+00,\n",
              "       1.12883789e+01, 2.97635144e+01, 7.84759970e+01, 2.06913808e+02,\n",
              "       5.45559478e+02, 1.43844989e+03, 3.79269019e+03, 1.00000000e+04]),\n",
              "                                        'solver': ['liblinear']},\n",
              "                   pre_dispatch='2*n_jobs', random_state=None, refit=True,\n",
              "                   return_train_score=False, scoring=None, verbose=True)"
            ]
          },
          "metadata": {},
          "execution_count": 45
        }
      ]
    },
    {
      "cell_type": "code",
      "metadata": {
        "colab": {
          "base_uri": "https://localhost:8080/"
        },
        "id": "Fx1_HEoM8mGu",
        "outputId": "c83b94f8-a4b3-4009-aa01-36b9103fcefa"
      },
      "source": [
        "rs_log_ref.best_params_"
      ],
      "execution_count": 46,
      "outputs": [
        {
          "output_type": "execute_result",
          "data": {
            "text/plain": [
              "{'C': 206.913808111479, 'solver': 'liblinear'}"
            ]
          },
          "metadata": {},
          "execution_count": 46
        }
      ]
    },
    {
      "cell_type": "code",
      "metadata": {
        "colab": {
          "base_uri": "https://localhost:8080/"
        },
        "id": "sQJfFFUP8w1Z",
        "outputId": "3edf54a6-8d3c-4123-8dd1-d30ba81de0cc"
      },
      "source": [
        "rs_log_ref.score(X_test, y_test)"
      ],
      "execution_count": 47,
      "outputs": [
        {
          "output_type": "execute_result",
          "data": {
            "text/plain": [
              "0.7986366587318762"
            ]
          },
          "metadata": {},
          "execution_count": 47
        }
      ]
    },
    {
      "cell_type": "code",
      "metadata": {
        "colab": {
          "base_uri": "https://localhost:8080/"
        },
        "id": "ulWkBaj_9W5Y",
        "outputId": "9583dc64-4c91-447e-f2c0-12a14718df99"
      },
      "source": [
        "np.logspace(-4,4,20)"
      ],
      "execution_count": 48,
      "outputs": [
        {
          "output_type": "execute_result",
          "data": {
            "text/plain": [
              "array([1.00000000e-04, 2.63665090e-04, 6.95192796e-04, 1.83298071e-03,\n",
              "       4.83293024e-03, 1.27427499e-02, 3.35981829e-02, 8.85866790e-02,\n",
              "       2.33572147e-01, 6.15848211e-01, 1.62377674e+00, 4.28133240e+00,\n",
              "       1.12883789e+01, 2.97635144e+01, 7.84759970e+01, 2.06913808e+02,\n",
              "       5.45559478e+02, 1.43844989e+03, 3.79269019e+03, 1.00000000e+04])"
            ]
          },
          "metadata": {},
          "execution_count": 48
        }
      ]
    },
    {
      "cell_type": "code",
      "metadata": {
        "colab": {
          "base_uri": "https://localhost:8080/"
        },
        "id": "4oGdGwwy_ca9",
        "outputId": "cadd1fe0-fce5-4f8b-db47-500502e4de58"
      },
      "source": [
        "np.random.seed(42)\n",
        "\n",
        "rs_rf=RandomizedSearchCV(RandomForestClassifier(),\n",
        "                         param_distributions=rf_grid,\n",
        "                         cv=5,\n",
        "                         n_iter=20,\n",
        "                         verbose=True)\n",
        "\n",
        "rs_rf.fit(X_train, y_train)"
      ],
      "execution_count": 49,
      "outputs": [
        {
          "output_type": "stream",
          "name": "stdout",
          "text": [
            "Fitting 5 folds for each of 20 candidates, totalling 100 fits\n"
          ]
        },
        {
          "output_type": "stream",
          "name": "stderr",
          "text": [
            "[Parallel(n_jobs=1)]: Using backend SequentialBackend with 1 concurrent workers.\n",
            "[Parallel(n_jobs=1)]: Done 100 out of 100 | elapsed: 16.0min finished\n"
          ]
        },
        {
          "output_type": "execute_result",
          "data": {
            "text/plain": [
              "RandomizedSearchCV(cv=5, error_score=nan,\n",
              "                   estimator=RandomForestClassifier(bootstrap=True,\n",
              "                                                    ccp_alpha=0.0,\n",
              "                                                    class_weight=None,\n",
              "                                                    criterion='gini',\n",
              "                                                    max_depth=None,\n",
              "                                                    max_features='auto',\n",
              "                                                    max_leaf_nodes=None,\n",
              "                                                    max_samples=None,\n",
              "                                                    min_impurity_decrease=0.0,\n",
              "                                                    min_impurity_split=None,\n",
              "                                                    min_samples_leaf=1,\n",
              "                                                    min_samples_split=2,\n",
              "                                                    min_weight_fraction_leaf=0.0,\n",
              "                                                    n_estimators=100,\n",
              "                                                    n_jobs...\n",
              "                   param_distributions={'max_depth': [None, 3, 5, 10],\n",
              "                                        'min_samples_leaf': array([ 1,  3,  5,  7,  9, 11, 13, 15, 17, 19]),\n",
              "                                        'min_samples_split': array([ 2,  4,  6,  8, 10, 12, 14, 16, 18]),\n",
              "                                        'n_estimators': array([ 10,  60, 110, 160, 210, 260, 310, 360, 410, 460, 510, 560, 610,\n",
              "       660, 710, 760, 810, 860, 910, 960])},\n",
              "                   pre_dispatch='2*n_jobs', random_state=None, refit=True,\n",
              "                   return_train_score=False, scoring=None, verbose=True)"
            ]
          },
          "metadata": {},
          "execution_count": 49
        }
      ]
    },
    {
      "cell_type": "code",
      "metadata": {
        "colab": {
          "base_uri": "https://localhost:8080/"
        },
        "id": "iPxw2b_oBMsh",
        "outputId": "65339a7a-885c-4b95-d0cc-d2429abb03fc"
      },
      "source": [
        "rs_rf.score(X_test, y_test)"
      ],
      "execution_count": 50,
      "outputs": [
        {
          "output_type": "execute_result",
          "data": {
            "text/plain": [
              "0.862800259684051"
            ]
          },
          "metadata": {},
          "execution_count": 50
        }
      ]
    },
    {
      "cell_type": "markdown",
      "metadata": {
        "id": "-z6tucmiBZyQ"
      },
      "source": [
        "# Tuning A Model with GridSearchCv "
      ]
    },
    {
      "cell_type": "code",
      "metadata": {
        "colab": {
          "base_uri": "https://localhost:8080/"
        },
        "id": "g31ql8LnBdbs",
        "outputId": "c2677064-446f-4284-aa01-9d8444b90afd"
      },
      "source": [
        "np.random.seed(42)\n",
        "\n",
        "log_reg_grid={\"C\": np.logspace(-4, 4, 20),\n",
        "              \"solver\":[\"liblinear\"]}\n",
        "\n",
        "gs_log_reg=GridSearchCV(LogisticRegression(),\n",
        "                        param_grid=log_reg_grid,\n",
        "                        cv=5,\n",
        "                        verbose=True)\n",
        "\n",
        "gs_log_reg.fit(X_train, y_train)"
      ],
      "execution_count": 51,
      "outputs": [
        {
          "output_type": "stream",
          "name": "stdout",
          "text": [
            "Fitting 5 folds for each of 20 candidates, totalling 100 fits\n"
          ]
        },
        {
          "output_type": "stream",
          "name": "stderr",
          "text": [
            "[Parallel(n_jobs=1)]: Using backend SequentialBackend with 1 concurrent workers.\n",
            "[Parallel(n_jobs=1)]: Done 100 out of 100 | elapsed:   28.8s finished\n"
          ]
        },
        {
          "output_type": "execute_result",
          "data": {
            "text/plain": [
              "GridSearchCV(cv=5, error_score=nan,\n",
              "             estimator=LogisticRegression(C=1.0, class_weight=None, dual=False,\n",
              "                                          fit_intercept=True,\n",
              "                                          intercept_scaling=1, l1_ratio=None,\n",
              "                                          max_iter=100, multi_class='auto',\n",
              "                                          n_jobs=None, penalty='l2',\n",
              "                                          random_state=None, solver='lbfgs',\n",
              "                                          tol=0.0001, verbose=0,\n",
              "                                          warm_start=False),\n",
              "             iid='deprecated', n_jobs=None,\n",
              "             param_grid={'C': array([1.00000000e-04, 2.6...\n",
              "       4.83293024e-03, 1.27427499e-02, 3.35981829e-02, 8.85866790e-02,\n",
              "       2.33572147e-01, 6.15848211e-01, 1.62377674e+00, 4.28133240e+00,\n",
              "       1.12883789e+01, 2.97635144e+01, 7.84759970e+01, 2.06913808e+02,\n",
              "       5.45559478e+02, 1.43844989e+03, 3.79269019e+03, 1.00000000e+04]),\n",
              "                         'solver': ['liblinear']},\n",
              "             pre_dispatch='2*n_jobs', refit=True, return_train_score=False,\n",
              "             scoring=None, verbose=True)"
            ]
          },
          "metadata": {},
          "execution_count": 51
        }
      ]
    },
    {
      "cell_type": "code",
      "metadata": {
        "colab": {
          "base_uri": "https://localhost:8080/"
        },
        "id": "I0AdXI6FCgFz",
        "outputId": "12ab8e3b-0238-467e-978c-cc5959a62e8d"
      },
      "source": [
        "gs_log_reg.best_params_"
      ],
      "execution_count": 52,
      "outputs": [
        {
          "output_type": "execute_result",
          "data": {
            "text/plain": [
              "{'C': 206.913808111479, 'solver': 'liblinear'}"
            ]
          },
          "metadata": {},
          "execution_count": 52
        }
      ]
    },
    {
      "cell_type": "code",
      "metadata": {
        "colab": {
          "base_uri": "https://localhost:8080/"
        },
        "id": "o7iodJFZCsEQ",
        "outputId": "45579c43-a919-4b5e-b2e7-8e40828bd391"
      },
      "source": [
        "gs_log_reg.score(X_test, y_test)"
      ],
      "execution_count": 53,
      "outputs": [
        {
          "output_type": "execute_result",
          "data": {
            "text/plain": [
              "0.7986366587318762"
            ]
          },
          "metadata": {},
          "execution_count": 53
        }
      ]
    },
    {
      "cell_type": "code",
      "metadata": {
        "colab": {
          "base_uri": "https://localhost:8080/",
          "height": 423
        },
        "id": "SASX3qy3C2-8",
        "outputId": "14547a51-bbae-4123-bdd3-32a8b77405a1"
      },
      "source": [
        "rf_grid={\"n_estimators\":np.arange(10,1000,50),\n",
        "        \"max_depth\":[None,3, 5, 10],\n",
        "        \"min_samples_split\":np.arange(2, 20, 2),\n",
        "        \"min_samples_leaf\":np.arange(1, 20, 2)}\n",
        "\n",
        "np.random.seed(42)\n",
        "gs_rf=GridSearchCV(RandomForestClassifier(),\n",
        "                   param_grid=rf_grid,\n",
        "                   cv=5,\n",
        "                   verbose=True)\n",
        "gs_rf.fit(X_train, y_train)"
      ],
      "execution_count": 54,
      "outputs": [
        {
          "output_type": "stream",
          "name": "stdout",
          "text": [
            "Fitting 5 folds for each of 7200 candidates, totalling 36000 fits\n"
          ]
        },
        {
          "output_type": "stream",
          "name": "stderr",
          "text": [
            "[Parallel(n_jobs=1)]: Using backend SequentialBackend with 1 concurrent workers.\n"
          ]
        },
        {
          "output_type": "error",
          "ename": "KeyboardInterrupt",
          "evalue": "ignored",
          "traceback": [
            "\u001b[0;31m---------------------------------------------------------------------------\u001b[0m",
            "\u001b[0;31mKeyboardInterrupt\u001b[0m                         Traceback (most recent call last)",
            "\u001b[0;32m<ipython-input-54-9338f4583fc9>\u001b[0m in \u001b[0;36m<module>\u001b[0;34m()\u001b[0m\n\u001b[1;32m      9\u001b[0m                    \u001b[0mcv\u001b[0m\u001b[0;34m=\u001b[0m\u001b[0;36m5\u001b[0m\u001b[0;34m,\u001b[0m\u001b[0;34m\u001b[0m\u001b[0;34m\u001b[0m\u001b[0m\n\u001b[1;32m     10\u001b[0m                    verbose=True)\n\u001b[0;32m---> 11\u001b[0;31m \u001b[0mgs_rf\u001b[0m\u001b[0;34m.\u001b[0m\u001b[0mfit\u001b[0m\u001b[0;34m(\u001b[0m\u001b[0mX_train\u001b[0m\u001b[0;34m,\u001b[0m \u001b[0my_train\u001b[0m\u001b[0;34m)\u001b[0m\u001b[0;34m\u001b[0m\u001b[0;34m\u001b[0m\u001b[0m\n\u001b[0m",
            "\u001b[0;32m/usr/local/lib/python3.7/dist-packages/sklearn/model_selection/_search.py\u001b[0m in \u001b[0;36mfit\u001b[0;34m(self, X, y, groups, **fit_params)\u001b[0m\n\u001b[1;32m    708\u001b[0m                 \u001b[0;32mreturn\u001b[0m \u001b[0mresults\u001b[0m\u001b[0;34m\u001b[0m\u001b[0;34m\u001b[0m\u001b[0m\n\u001b[1;32m    709\u001b[0m \u001b[0;34m\u001b[0m\u001b[0m\n\u001b[0;32m--> 710\u001b[0;31m             \u001b[0mself\u001b[0m\u001b[0;34m.\u001b[0m\u001b[0m_run_search\u001b[0m\u001b[0;34m(\u001b[0m\u001b[0mevaluate_candidates\u001b[0m\u001b[0;34m)\u001b[0m\u001b[0;34m\u001b[0m\u001b[0;34m\u001b[0m\u001b[0m\n\u001b[0m\u001b[1;32m    711\u001b[0m \u001b[0;34m\u001b[0m\u001b[0m\n\u001b[1;32m    712\u001b[0m         \u001b[0;31m# For multi-metric evaluation, store the best_index_, best_params_ and\u001b[0m\u001b[0;34m\u001b[0m\u001b[0;34m\u001b[0m\u001b[0;34m\u001b[0m\u001b[0m\n",
            "\u001b[0;32m/usr/local/lib/python3.7/dist-packages/sklearn/model_selection/_search.py\u001b[0m in \u001b[0;36m_run_search\u001b[0;34m(self, evaluate_candidates)\u001b[0m\n\u001b[1;32m   1149\u001b[0m     \u001b[0;32mdef\u001b[0m \u001b[0m_run_search\u001b[0m\u001b[0;34m(\u001b[0m\u001b[0mself\u001b[0m\u001b[0;34m,\u001b[0m \u001b[0mevaluate_candidates\u001b[0m\u001b[0;34m)\u001b[0m\u001b[0;34m:\u001b[0m\u001b[0;34m\u001b[0m\u001b[0;34m\u001b[0m\u001b[0m\n\u001b[1;32m   1150\u001b[0m         \u001b[0;34m\"\"\"Search all candidates in param_grid\"\"\"\u001b[0m\u001b[0;34m\u001b[0m\u001b[0;34m\u001b[0m\u001b[0m\n\u001b[0;32m-> 1151\u001b[0;31m         \u001b[0mevaluate_candidates\u001b[0m\u001b[0;34m(\u001b[0m\u001b[0mParameterGrid\u001b[0m\u001b[0;34m(\u001b[0m\u001b[0mself\u001b[0m\u001b[0;34m.\u001b[0m\u001b[0mparam_grid\u001b[0m\u001b[0;34m)\u001b[0m\u001b[0;34m)\u001b[0m\u001b[0;34m\u001b[0m\u001b[0;34m\u001b[0m\u001b[0m\n\u001b[0m\u001b[1;32m   1152\u001b[0m \u001b[0;34m\u001b[0m\u001b[0m\n\u001b[1;32m   1153\u001b[0m \u001b[0;34m\u001b[0m\u001b[0m\n",
            "\u001b[0;32m/usr/local/lib/python3.7/dist-packages/sklearn/model_selection/_search.py\u001b[0m in \u001b[0;36mevaluate_candidates\u001b[0;34m(candidate_params)\u001b[0m\n\u001b[1;32m    687\u001b[0m                                \u001b[0;32mfor\u001b[0m \u001b[0mparameters\u001b[0m\u001b[0;34m,\u001b[0m \u001b[0;34m(\u001b[0m\u001b[0mtrain\u001b[0m\u001b[0;34m,\u001b[0m \u001b[0mtest\u001b[0m\u001b[0;34m)\u001b[0m\u001b[0;34m\u001b[0m\u001b[0;34m\u001b[0m\u001b[0m\n\u001b[1;32m    688\u001b[0m                                in product(candidate_params,\n\u001b[0;32m--> 689\u001b[0;31m                                           cv.split(X, y, groups)))\n\u001b[0m\u001b[1;32m    690\u001b[0m \u001b[0;34m\u001b[0m\u001b[0m\n\u001b[1;32m    691\u001b[0m                 \u001b[0;32mif\u001b[0m \u001b[0mlen\u001b[0m\u001b[0;34m(\u001b[0m\u001b[0mout\u001b[0m\u001b[0;34m)\u001b[0m \u001b[0;34m<\u001b[0m \u001b[0;36m1\u001b[0m\u001b[0;34m:\u001b[0m\u001b[0;34m\u001b[0m\u001b[0;34m\u001b[0m\u001b[0m\n",
            "\u001b[0;32m/usr/local/lib/python3.7/dist-packages/joblib/parallel.py\u001b[0m in \u001b[0;36m__call__\u001b[0;34m(self, iterable)\u001b[0m\n\u001b[1;32m   1042\u001b[0m                 \u001b[0mself\u001b[0m\u001b[0;34m.\u001b[0m\u001b[0m_iterating\u001b[0m \u001b[0;34m=\u001b[0m \u001b[0mself\u001b[0m\u001b[0;34m.\u001b[0m\u001b[0m_original_iterator\u001b[0m \u001b[0;32mis\u001b[0m \u001b[0;32mnot\u001b[0m \u001b[0;32mNone\u001b[0m\u001b[0;34m\u001b[0m\u001b[0;34m\u001b[0m\u001b[0m\n\u001b[1;32m   1043\u001b[0m \u001b[0;34m\u001b[0m\u001b[0m\n\u001b[0;32m-> 1044\u001b[0;31m             \u001b[0;32mwhile\u001b[0m \u001b[0mself\u001b[0m\u001b[0;34m.\u001b[0m\u001b[0mdispatch_one_batch\u001b[0m\u001b[0;34m(\u001b[0m\u001b[0miterator\u001b[0m\u001b[0;34m)\u001b[0m\u001b[0;34m:\u001b[0m\u001b[0;34m\u001b[0m\u001b[0;34m\u001b[0m\u001b[0m\n\u001b[0m\u001b[1;32m   1045\u001b[0m                 \u001b[0;32mpass\u001b[0m\u001b[0;34m\u001b[0m\u001b[0;34m\u001b[0m\u001b[0m\n\u001b[1;32m   1046\u001b[0m \u001b[0;34m\u001b[0m\u001b[0m\n",
            "\u001b[0;32m/usr/local/lib/python3.7/dist-packages/joblib/parallel.py\u001b[0m in \u001b[0;36mdispatch_one_batch\u001b[0;34m(self, iterator)\u001b[0m\n\u001b[1;32m    857\u001b[0m                 \u001b[0;32mreturn\u001b[0m \u001b[0;32mFalse\u001b[0m\u001b[0;34m\u001b[0m\u001b[0;34m\u001b[0m\u001b[0m\n\u001b[1;32m    858\u001b[0m             \u001b[0;32melse\u001b[0m\u001b[0;34m:\u001b[0m\u001b[0;34m\u001b[0m\u001b[0;34m\u001b[0m\u001b[0m\n\u001b[0;32m--> 859\u001b[0;31m                 \u001b[0mself\u001b[0m\u001b[0;34m.\u001b[0m\u001b[0m_dispatch\u001b[0m\u001b[0;34m(\u001b[0m\u001b[0mtasks\u001b[0m\u001b[0;34m)\u001b[0m\u001b[0;34m\u001b[0m\u001b[0;34m\u001b[0m\u001b[0m\n\u001b[0m\u001b[1;32m    860\u001b[0m                 \u001b[0;32mreturn\u001b[0m \u001b[0;32mTrue\u001b[0m\u001b[0;34m\u001b[0m\u001b[0;34m\u001b[0m\u001b[0m\n\u001b[1;32m    861\u001b[0m \u001b[0;34m\u001b[0m\u001b[0m\n",
            "\u001b[0;32m/usr/local/lib/python3.7/dist-packages/joblib/parallel.py\u001b[0m in \u001b[0;36m_dispatch\u001b[0;34m(self, batch)\u001b[0m\n\u001b[1;32m    775\u001b[0m         \u001b[0;32mwith\u001b[0m \u001b[0mself\u001b[0m\u001b[0;34m.\u001b[0m\u001b[0m_lock\u001b[0m\u001b[0;34m:\u001b[0m\u001b[0;34m\u001b[0m\u001b[0;34m\u001b[0m\u001b[0m\n\u001b[1;32m    776\u001b[0m             \u001b[0mjob_idx\u001b[0m \u001b[0;34m=\u001b[0m \u001b[0mlen\u001b[0m\u001b[0;34m(\u001b[0m\u001b[0mself\u001b[0m\u001b[0;34m.\u001b[0m\u001b[0m_jobs\u001b[0m\u001b[0;34m)\u001b[0m\u001b[0;34m\u001b[0m\u001b[0;34m\u001b[0m\u001b[0m\n\u001b[0;32m--> 777\u001b[0;31m             \u001b[0mjob\u001b[0m \u001b[0;34m=\u001b[0m \u001b[0mself\u001b[0m\u001b[0;34m.\u001b[0m\u001b[0m_backend\u001b[0m\u001b[0;34m.\u001b[0m\u001b[0mapply_async\u001b[0m\u001b[0;34m(\u001b[0m\u001b[0mbatch\u001b[0m\u001b[0;34m,\u001b[0m \u001b[0mcallback\u001b[0m\u001b[0;34m=\u001b[0m\u001b[0mcb\u001b[0m\u001b[0;34m)\u001b[0m\u001b[0;34m\u001b[0m\u001b[0;34m\u001b[0m\u001b[0m\n\u001b[0m\u001b[1;32m    778\u001b[0m             \u001b[0;31m# A job can complete so quickly than its callback is\u001b[0m\u001b[0;34m\u001b[0m\u001b[0;34m\u001b[0m\u001b[0;34m\u001b[0m\u001b[0m\n\u001b[1;32m    779\u001b[0m             \u001b[0;31m# called before we get here, causing self._jobs to\u001b[0m\u001b[0;34m\u001b[0m\u001b[0;34m\u001b[0m\u001b[0;34m\u001b[0m\u001b[0m\n",
            "\u001b[0;32m/usr/local/lib/python3.7/dist-packages/joblib/_parallel_backends.py\u001b[0m in \u001b[0;36mapply_async\u001b[0;34m(self, func, callback)\u001b[0m\n\u001b[1;32m    206\u001b[0m     \u001b[0;32mdef\u001b[0m \u001b[0mapply_async\u001b[0m\u001b[0;34m(\u001b[0m\u001b[0mself\u001b[0m\u001b[0;34m,\u001b[0m \u001b[0mfunc\u001b[0m\u001b[0;34m,\u001b[0m \u001b[0mcallback\u001b[0m\u001b[0;34m=\u001b[0m\u001b[0;32mNone\u001b[0m\u001b[0;34m)\u001b[0m\u001b[0;34m:\u001b[0m\u001b[0;34m\u001b[0m\u001b[0;34m\u001b[0m\u001b[0m\n\u001b[1;32m    207\u001b[0m         \u001b[0;34m\"\"\"Schedule a func to be run\"\"\"\u001b[0m\u001b[0;34m\u001b[0m\u001b[0;34m\u001b[0m\u001b[0m\n\u001b[0;32m--> 208\u001b[0;31m         \u001b[0mresult\u001b[0m \u001b[0;34m=\u001b[0m \u001b[0mImmediateResult\u001b[0m\u001b[0;34m(\u001b[0m\u001b[0mfunc\u001b[0m\u001b[0;34m)\u001b[0m\u001b[0;34m\u001b[0m\u001b[0;34m\u001b[0m\u001b[0m\n\u001b[0m\u001b[1;32m    209\u001b[0m         \u001b[0;32mif\u001b[0m \u001b[0mcallback\u001b[0m\u001b[0;34m:\u001b[0m\u001b[0;34m\u001b[0m\u001b[0;34m\u001b[0m\u001b[0m\n\u001b[1;32m    210\u001b[0m             \u001b[0mcallback\u001b[0m\u001b[0;34m(\u001b[0m\u001b[0mresult\u001b[0m\u001b[0;34m)\u001b[0m\u001b[0;34m\u001b[0m\u001b[0;34m\u001b[0m\u001b[0m\n",
            "\u001b[0;32m/usr/local/lib/python3.7/dist-packages/joblib/_parallel_backends.py\u001b[0m in \u001b[0;36m__init__\u001b[0;34m(self, batch)\u001b[0m\n\u001b[1;32m    570\u001b[0m         \u001b[0;31m# Don't delay the application, to avoid keeping the input\u001b[0m\u001b[0;34m\u001b[0m\u001b[0;34m\u001b[0m\u001b[0;34m\u001b[0m\u001b[0m\n\u001b[1;32m    571\u001b[0m         \u001b[0;31m# arguments in memory\u001b[0m\u001b[0;34m\u001b[0m\u001b[0;34m\u001b[0m\u001b[0;34m\u001b[0m\u001b[0m\n\u001b[0;32m--> 572\u001b[0;31m         \u001b[0mself\u001b[0m\u001b[0;34m.\u001b[0m\u001b[0mresults\u001b[0m \u001b[0;34m=\u001b[0m \u001b[0mbatch\u001b[0m\u001b[0;34m(\u001b[0m\u001b[0;34m)\u001b[0m\u001b[0;34m\u001b[0m\u001b[0;34m\u001b[0m\u001b[0m\n\u001b[0m\u001b[1;32m    573\u001b[0m \u001b[0;34m\u001b[0m\u001b[0m\n\u001b[1;32m    574\u001b[0m     \u001b[0;32mdef\u001b[0m \u001b[0mget\u001b[0m\u001b[0;34m(\u001b[0m\u001b[0mself\u001b[0m\u001b[0;34m)\u001b[0m\u001b[0;34m:\u001b[0m\u001b[0;34m\u001b[0m\u001b[0;34m\u001b[0m\u001b[0m\n",
            "\u001b[0;32m/usr/local/lib/python3.7/dist-packages/joblib/parallel.py\u001b[0m in \u001b[0;36m__call__\u001b[0;34m(self)\u001b[0m\n\u001b[1;32m    261\u001b[0m         \u001b[0;32mwith\u001b[0m \u001b[0mparallel_backend\u001b[0m\u001b[0;34m(\u001b[0m\u001b[0mself\u001b[0m\u001b[0;34m.\u001b[0m\u001b[0m_backend\u001b[0m\u001b[0;34m,\u001b[0m \u001b[0mn_jobs\u001b[0m\u001b[0;34m=\u001b[0m\u001b[0mself\u001b[0m\u001b[0;34m.\u001b[0m\u001b[0m_n_jobs\u001b[0m\u001b[0;34m)\u001b[0m\u001b[0;34m:\u001b[0m\u001b[0;34m\u001b[0m\u001b[0;34m\u001b[0m\u001b[0m\n\u001b[1;32m    262\u001b[0m             return [func(*args, **kwargs)\n\u001b[0;32m--> 263\u001b[0;31m                     for func, args, kwargs in self.items]\n\u001b[0m\u001b[1;32m    264\u001b[0m \u001b[0;34m\u001b[0m\u001b[0m\n\u001b[1;32m    265\u001b[0m     \u001b[0;32mdef\u001b[0m \u001b[0m__reduce__\u001b[0m\u001b[0;34m(\u001b[0m\u001b[0mself\u001b[0m\u001b[0;34m)\u001b[0m\u001b[0;34m:\u001b[0m\u001b[0;34m\u001b[0m\u001b[0;34m\u001b[0m\u001b[0m\n",
            "\u001b[0;32m/usr/local/lib/python3.7/dist-packages/joblib/parallel.py\u001b[0m in \u001b[0;36m<listcomp>\u001b[0;34m(.0)\u001b[0m\n\u001b[1;32m    261\u001b[0m         \u001b[0;32mwith\u001b[0m \u001b[0mparallel_backend\u001b[0m\u001b[0;34m(\u001b[0m\u001b[0mself\u001b[0m\u001b[0;34m.\u001b[0m\u001b[0m_backend\u001b[0m\u001b[0;34m,\u001b[0m \u001b[0mn_jobs\u001b[0m\u001b[0;34m=\u001b[0m\u001b[0mself\u001b[0m\u001b[0;34m.\u001b[0m\u001b[0m_n_jobs\u001b[0m\u001b[0;34m)\u001b[0m\u001b[0;34m:\u001b[0m\u001b[0;34m\u001b[0m\u001b[0;34m\u001b[0m\u001b[0m\n\u001b[1;32m    262\u001b[0m             return [func(*args, **kwargs)\n\u001b[0;32m--> 263\u001b[0;31m                     for func, args, kwargs in self.items]\n\u001b[0m\u001b[1;32m    264\u001b[0m \u001b[0;34m\u001b[0m\u001b[0m\n\u001b[1;32m    265\u001b[0m     \u001b[0;32mdef\u001b[0m \u001b[0m__reduce__\u001b[0m\u001b[0;34m(\u001b[0m\u001b[0mself\u001b[0m\u001b[0;34m)\u001b[0m\u001b[0;34m:\u001b[0m\u001b[0;34m\u001b[0m\u001b[0;34m\u001b[0m\u001b[0m\n",
            "\u001b[0;32m/usr/local/lib/python3.7/dist-packages/sklearn/model_selection/_validation.py\u001b[0m in \u001b[0;36m_fit_and_score\u001b[0;34m(estimator, X, y, scorer, train, test, verbose, parameters, fit_params, return_train_score, return_parameters, return_n_test_samples, return_times, return_estimator, error_score)\u001b[0m\n\u001b[1;32m    513\u001b[0m             \u001b[0mestimator\u001b[0m\u001b[0;34m.\u001b[0m\u001b[0mfit\u001b[0m\u001b[0;34m(\u001b[0m\u001b[0mX_train\u001b[0m\u001b[0;34m,\u001b[0m \u001b[0;34m**\u001b[0m\u001b[0mfit_params\u001b[0m\u001b[0;34m)\u001b[0m\u001b[0;34m\u001b[0m\u001b[0;34m\u001b[0m\u001b[0m\n\u001b[1;32m    514\u001b[0m         \u001b[0;32melse\u001b[0m\u001b[0;34m:\u001b[0m\u001b[0;34m\u001b[0m\u001b[0;34m\u001b[0m\u001b[0m\n\u001b[0;32m--> 515\u001b[0;31m             \u001b[0mestimator\u001b[0m\u001b[0;34m.\u001b[0m\u001b[0mfit\u001b[0m\u001b[0;34m(\u001b[0m\u001b[0mX_train\u001b[0m\u001b[0;34m,\u001b[0m \u001b[0my_train\u001b[0m\u001b[0;34m,\u001b[0m \u001b[0;34m**\u001b[0m\u001b[0mfit_params\u001b[0m\u001b[0;34m)\u001b[0m\u001b[0;34m\u001b[0m\u001b[0;34m\u001b[0m\u001b[0m\n\u001b[0m\u001b[1;32m    516\u001b[0m \u001b[0;34m\u001b[0m\u001b[0m\n\u001b[1;32m    517\u001b[0m     \u001b[0;32mexcept\u001b[0m \u001b[0mException\u001b[0m \u001b[0;32mas\u001b[0m \u001b[0me\u001b[0m\u001b[0;34m:\u001b[0m\u001b[0;34m\u001b[0m\u001b[0;34m\u001b[0m\u001b[0m\n",
            "\u001b[0;32m/usr/local/lib/python3.7/dist-packages/sklearn/ensemble/_forest.py\u001b[0m in \u001b[0;36mfit\u001b[0;34m(self, X, y, sample_weight)\u001b[0m\n\u001b[1;32m    381\u001b[0m                     \u001b[0mverbose\u001b[0m\u001b[0;34m=\u001b[0m\u001b[0mself\u001b[0m\u001b[0;34m.\u001b[0m\u001b[0mverbose\u001b[0m\u001b[0;34m,\u001b[0m \u001b[0mclass_weight\u001b[0m\u001b[0;34m=\u001b[0m\u001b[0mself\u001b[0m\u001b[0;34m.\u001b[0m\u001b[0mclass_weight\u001b[0m\u001b[0;34m,\u001b[0m\u001b[0;34m\u001b[0m\u001b[0;34m\u001b[0m\u001b[0m\n\u001b[1;32m    382\u001b[0m                     n_samples_bootstrap=n_samples_bootstrap)\n\u001b[0;32m--> 383\u001b[0;31m                 for i, t in enumerate(trees))\n\u001b[0m\u001b[1;32m    384\u001b[0m \u001b[0;34m\u001b[0m\u001b[0m\n\u001b[1;32m    385\u001b[0m             \u001b[0;31m# Collect newly grown trees\u001b[0m\u001b[0;34m\u001b[0m\u001b[0;34m\u001b[0m\u001b[0;34m\u001b[0m\u001b[0m\n",
            "\u001b[0;32m/usr/local/lib/python3.7/dist-packages/joblib/parallel.py\u001b[0m in \u001b[0;36m__call__\u001b[0;34m(self, iterable)\u001b[0m\n\u001b[1;32m   1042\u001b[0m                 \u001b[0mself\u001b[0m\u001b[0;34m.\u001b[0m\u001b[0m_iterating\u001b[0m \u001b[0;34m=\u001b[0m \u001b[0mself\u001b[0m\u001b[0;34m.\u001b[0m\u001b[0m_original_iterator\u001b[0m \u001b[0;32mis\u001b[0m \u001b[0;32mnot\u001b[0m \u001b[0;32mNone\u001b[0m\u001b[0;34m\u001b[0m\u001b[0;34m\u001b[0m\u001b[0m\n\u001b[1;32m   1043\u001b[0m \u001b[0;34m\u001b[0m\u001b[0m\n\u001b[0;32m-> 1044\u001b[0;31m             \u001b[0;32mwhile\u001b[0m \u001b[0mself\u001b[0m\u001b[0;34m.\u001b[0m\u001b[0mdispatch_one_batch\u001b[0m\u001b[0;34m(\u001b[0m\u001b[0miterator\u001b[0m\u001b[0;34m)\u001b[0m\u001b[0;34m:\u001b[0m\u001b[0;34m\u001b[0m\u001b[0;34m\u001b[0m\u001b[0m\n\u001b[0m\u001b[1;32m   1045\u001b[0m                 \u001b[0;32mpass\u001b[0m\u001b[0;34m\u001b[0m\u001b[0;34m\u001b[0m\u001b[0m\n\u001b[1;32m   1046\u001b[0m \u001b[0;34m\u001b[0m\u001b[0m\n",
            "\u001b[0;32m/usr/local/lib/python3.7/dist-packages/joblib/parallel.py\u001b[0m in \u001b[0;36mdispatch_one_batch\u001b[0;34m(self, iterator)\u001b[0m\n\u001b[1;32m    857\u001b[0m                 \u001b[0;32mreturn\u001b[0m \u001b[0;32mFalse\u001b[0m\u001b[0;34m\u001b[0m\u001b[0;34m\u001b[0m\u001b[0m\n\u001b[1;32m    858\u001b[0m             \u001b[0;32melse\u001b[0m\u001b[0;34m:\u001b[0m\u001b[0;34m\u001b[0m\u001b[0;34m\u001b[0m\u001b[0m\n\u001b[0;32m--> 859\u001b[0;31m                 \u001b[0mself\u001b[0m\u001b[0;34m.\u001b[0m\u001b[0m_dispatch\u001b[0m\u001b[0;34m(\u001b[0m\u001b[0mtasks\u001b[0m\u001b[0;34m)\u001b[0m\u001b[0;34m\u001b[0m\u001b[0;34m\u001b[0m\u001b[0m\n\u001b[0m\u001b[1;32m    860\u001b[0m                 \u001b[0;32mreturn\u001b[0m \u001b[0;32mTrue\u001b[0m\u001b[0;34m\u001b[0m\u001b[0;34m\u001b[0m\u001b[0m\n\u001b[1;32m    861\u001b[0m \u001b[0;34m\u001b[0m\u001b[0m\n",
            "\u001b[0;32m/usr/local/lib/python3.7/dist-packages/joblib/parallel.py\u001b[0m in \u001b[0;36m_dispatch\u001b[0;34m(self, batch)\u001b[0m\n\u001b[1;32m    775\u001b[0m         \u001b[0;32mwith\u001b[0m \u001b[0mself\u001b[0m\u001b[0;34m.\u001b[0m\u001b[0m_lock\u001b[0m\u001b[0;34m:\u001b[0m\u001b[0;34m\u001b[0m\u001b[0;34m\u001b[0m\u001b[0m\n\u001b[1;32m    776\u001b[0m             \u001b[0mjob_idx\u001b[0m \u001b[0;34m=\u001b[0m \u001b[0mlen\u001b[0m\u001b[0;34m(\u001b[0m\u001b[0mself\u001b[0m\u001b[0;34m.\u001b[0m\u001b[0m_jobs\u001b[0m\u001b[0;34m)\u001b[0m\u001b[0;34m\u001b[0m\u001b[0;34m\u001b[0m\u001b[0m\n\u001b[0;32m--> 777\u001b[0;31m             \u001b[0mjob\u001b[0m \u001b[0;34m=\u001b[0m \u001b[0mself\u001b[0m\u001b[0;34m.\u001b[0m\u001b[0m_backend\u001b[0m\u001b[0;34m.\u001b[0m\u001b[0mapply_async\u001b[0m\u001b[0;34m(\u001b[0m\u001b[0mbatch\u001b[0m\u001b[0;34m,\u001b[0m \u001b[0mcallback\u001b[0m\u001b[0;34m=\u001b[0m\u001b[0mcb\u001b[0m\u001b[0;34m)\u001b[0m\u001b[0;34m\u001b[0m\u001b[0;34m\u001b[0m\u001b[0m\n\u001b[0m\u001b[1;32m    778\u001b[0m             \u001b[0;31m# A job can complete so quickly than its callback is\u001b[0m\u001b[0;34m\u001b[0m\u001b[0;34m\u001b[0m\u001b[0;34m\u001b[0m\u001b[0m\n\u001b[1;32m    779\u001b[0m             \u001b[0;31m# called before we get here, causing self._jobs to\u001b[0m\u001b[0;34m\u001b[0m\u001b[0;34m\u001b[0m\u001b[0;34m\u001b[0m\u001b[0m\n",
            "\u001b[0;32m/usr/local/lib/python3.7/dist-packages/joblib/_parallel_backends.py\u001b[0m in \u001b[0;36mapply_async\u001b[0;34m(self, func, callback)\u001b[0m\n\u001b[1;32m    206\u001b[0m     \u001b[0;32mdef\u001b[0m \u001b[0mapply_async\u001b[0m\u001b[0;34m(\u001b[0m\u001b[0mself\u001b[0m\u001b[0;34m,\u001b[0m \u001b[0mfunc\u001b[0m\u001b[0;34m,\u001b[0m \u001b[0mcallback\u001b[0m\u001b[0;34m=\u001b[0m\u001b[0;32mNone\u001b[0m\u001b[0;34m)\u001b[0m\u001b[0;34m:\u001b[0m\u001b[0;34m\u001b[0m\u001b[0;34m\u001b[0m\u001b[0m\n\u001b[1;32m    207\u001b[0m         \u001b[0;34m\"\"\"Schedule a func to be run\"\"\"\u001b[0m\u001b[0;34m\u001b[0m\u001b[0;34m\u001b[0m\u001b[0m\n\u001b[0;32m--> 208\u001b[0;31m         \u001b[0mresult\u001b[0m \u001b[0;34m=\u001b[0m \u001b[0mImmediateResult\u001b[0m\u001b[0;34m(\u001b[0m\u001b[0mfunc\u001b[0m\u001b[0;34m)\u001b[0m\u001b[0;34m\u001b[0m\u001b[0;34m\u001b[0m\u001b[0m\n\u001b[0m\u001b[1;32m    209\u001b[0m         \u001b[0;32mif\u001b[0m \u001b[0mcallback\u001b[0m\u001b[0;34m:\u001b[0m\u001b[0;34m\u001b[0m\u001b[0;34m\u001b[0m\u001b[0m\n\u001b[1;32m    210\u001b[0m             \u001b[0mcallback\u001b[0m\u001b[0;34m(\u001b[0m\u001b[0mresult\u001b[0m\u001b[0;34m)\u001b[0m\u001b[0;34m\u001b[0m\u001b[0;34m\u001b[0m\u001b[0m\n",
            "\u001b[0;32m/usr/local/lib/python3.7/dist-packages/joblib/_parallel_backends.py\u001b[0m in \u001b[0;36m__init__\u001b[0;34m(self, batch)\u001b[0m\n\u001b[1;32m    570\u001b[0m         \u001b[0;31m# Don't delay the application, to avoid keeping the input\u001b[0m\u001b[0;34m\u001b[0m\u001b[0;34m\u001b[0m\u001b[0;34m\u001b[0m\u001b[0m\n\u001b[1;32m    571\u001b[0m         \u001b[0;31m# arguments in memory\u001b[0m\u001b[0;34m\u001b[0m\u001b[0;34m\u001b[0m\u001b[0;34m\u001b[0m\u001b[0m\n\u001b[0;32m--> 572\u001b[0;31m         \u001b[0mself\u001b[0m\u001b[0;34m.\u001b[0m\u001b[0mresults\u001b[0m \u001b[0;34m=\u001b[0m \u001b[0mbatch\u001b[0m\u001b[0;34m(\u001b[0m\u001b[0;34m)\u001b[0m\u001b[0;34m\u001b[0m\u001b[0;34m\u001b[0m\u001b[0m\n\u001b[0m\u001b[1;32m    573\u001b[0m \u001b[0;34m\u001b[0m\u001b[0m\n\u001b[1;32m    574\u001b[0m     \u001b[0;32mdef\u001b[0m \u001b[0mget\u001b[0m\u001b[0;34m(\u001b[0m\u001b[0mself\u001b[0m\u001b[0;34m)\u001b[0m\u001b[0;34m:\u001b[0m\u001b[0;34m\u001b[0m\u001b[0;34m\u001b[0m\u001b[0m\n",
            "\u001b[0;32m/usr/local/lib/python3.7/dist-packages/joblib/parallel.py\u001b[0m in \u001b[0;36m__call__\u001b[0;34m(self)\u001b[0m\n\u001b[1;32m    261\u001b[0m         \u001b[0;32mwith\u001b[0m \u001b[0mparallel_backend\u001b[0m\u001b[0;34m(\u001b[0m\u001b[0mself\u001b[0m\u001b[0;34m.\u001b[0m\u001b[0m_backend\u001b[0m\u001b[0;34m,\u001b[0m \u001b[0mn_jobs\u001b[0m\u001b[0;34m=\u001b[0m\u001b[0mself\u001b[0m\u001b[0;34m.\u001b[0m\u001b[0m_n_jobs\u001b[0m\u001b[0;34m)\u001b[0m\u001b[0;34m:\u001b[0m\u001b[0;34m\u001b[0m\u001b[0;34m\u001b[0m\u001b[0m\n\u001b[1;32m    262\u001b[0m             return [func(*args, **kwargs)\n\u001b[0;32m--> 263\u001b[0;31m                     for func, args, kwargs in self.items]\n\u001b[0m\u001b[1;32m    264\u001b[0m \u001b[0;34m\u001b[0m\u001b[0m\n\u001b[1;32m    265\u001b[0m     \u001b[0;32mdef\u001b[0m \u001b[0m__reduce__\u001b[0m\u001b[0;34m(\u001b[0m\u001b[0mself\u001b[0m\u001b[0;34m)\u001b[0m\u001b[0;34m:\u001b[0m\u001b[0;34m\u001b[0m\u001b[0;34m\u001b[0m\u001b[0m\n",
            "\u001b[0;32m/usr/local/lib/python3.7/dist-packages/joblib/parallel.py\u001b[0m in \u001b[0;36m<listcomp>\u001b[0;34m(.0)\u001b[0m\n\u001b[1;32m    261\u001b[0m         \u001b[0;32mwith\u001b[0m \u001b[0mparallel_backend\u001b[0m\u001b[0;34m(\u001b[0m\u001b[0mself\u001b[0m\u001b[0;34m.\u001b[0m\u001b[0m_backend\u001b[0m\u001b[0;34m,\u001b[0m \u001b[0mn_jobs\u001b[0m\u001b[0;34m=\u001b[0m\u001b[0mself\u001b[0m\u001b[0;34m.\u001b[0m\u001b[0m_n_jobs\u001b[0m\u001b[0;34m)\u001b[0m\u001b[0;34m:\u001b[0m\u001b[0;34m\u001b[0m\u001b[0;34m\u001b[0m\u001b[0m\n\u001b[1;32m    262\u001b[0m             return [func(*args, **kwargs)\n\u001b[0;32m--> 263\u001b[0;31m                     for func, args, kwargs in self.items]\n\u001b[0m\u001b[1;32m    264\u001b[0m \u001b[0;34m\u001b[0m\u001b[0m\n\u001b[1;32m    265\u001b[0m     \u001b[0;32mdef\u001b[0m \u001b[0m__reduce__\u001b[0m\u001b[0;34m(\u001b[0m\u001b[0mself\u001b[0m\u001b[0;34m)\u001b[0m\u001b[0;34m:\u001b[0m\u001b[0;34m\u001b[0m\u001b[0;34m\u001b[0m\u001b[0m\n",
            "\u001b[0;32m/usr/local/lib/python3.7/dist-packages/sklearn/ensemble/_forest.py\u001b[0m in \u001b[0;36m_parallel_build_trees\u001b[0;34m(tree, forest, X, y, sample_weight, tree_idx, n_trees, verbose, class_weight, n_samples_bootstrap)\u001b[0m\n\u001b[1;32m    163\u001b[0m             \u001b[0mcurr_sample_weight\u001b[0m \u001b[0;34m*=\u001b[0m \u001b[0mcompute_sample_weight\u001b[0m\u001b[0;34m(\u001b[0m\u001b[0;34m'balanced'\u001b[0m\u001b[0;34m,\u001b[0m \u001b[0my\u001b[0m\u001b[0;34m,\u001b[0m \u001b[0mindices\u001b[0m\u001b[0;34m)\u001b[0m\u001b[0;34m\u001b[0m\u001b[0;34m\u001b[0m\u001b[0m\n\u001b[1;32m    164\u001b[0m \u001b[0;34m\u001b[0m\u001b[0m\n\u001b[0;32m--> 165\u001b[0;31m         \u001b[0mtree\u001b[0m\u001b[0;34m.\u001b[0m\u001b[0mfit\u001b[0m\u001b[0;34m(\u001b[0m\u001b[0mX\u001b[0m\u001b[0;34m,\u001b[0m \u001b[0my\u001b[0m\u001b[0;34m,\u001b[0m \u001b[0msample_weight\u001b[0m\u001b[0;34m=\u001b[0m\u001b[0mcurr_sample_weight\u001b[0m\u001b[0;34m,\u001b[0m \u001b[0mcheck_input\u001b[0m\u001b[0;34m=\u001b[0m\u001b[0;32mFalse\u001b[0m\u001b[0;34m)\u001b[0m\u001b[0;34m\u001b[0m\u001b[0;34m\u001b[0m\u001b[0m\n\u001b[0m\u001b[1;32m    166\u001b[0m     \u001b[0;32melse\u001b[0m\u001b[0;34m:\u001b[0m\u001b[0;34m\u001b[0m\u001b[0;34m\u001b[0m\u001b[0m\n\u001b[1;32m    167\u001b[0m         \u001b[0mtree\u001b[0m\u001b[0;34m.\u001b[0m\u001b[0mfit\u001b[0m\u001b[0;34m(\u001b[0m\u001b[0mX\u001b[0m\u001b[0;34m,\u001b[0m \u001b[0my\u001b[0m\u001b[0;34m,\u001b[0m \u001b[0msample_weight\u001b[0m\u001b[0;34m=\u001b[0m\u001b[0msample_weight\u001b[0m\u001b[0;34m,\u001b[0m \u001b[0mcheck_input\u001b[0m\u001b[0;34m=\u001b[0m\u001b[0;32mFalse\u001b[0m\u001b[0;34m)\u001b[0m\u001b[0;34m\u001b[0m\u001b[0;34m\u001b[0m\u001b[0m\n",
            "\u001b[0;32m/usr/local/lib/python3.7/dist-packages/sklearn/tree/_classes.py\u001b[0m in \u001b[0;36mfit\u001b[0;34m(self, X, y, sample_weight, check_input, X_idx_sorted)\u001b[0m\n\u001b[1;32m    875\u001b[0m             \u001b[0msample_weight\u001b[0m\u001b[0;34m=\u001b[0m\u001b[0msample_weight\u001b[0m\u001b[0;34m,\u001b[0m\u001b[0;34m\u001b[0m\u001b[0;34m\u001b[0m\u001b[0m\n\u001b[1;32m    876\u001b[0m             \u001b[0mcheck_input\u001b[0m\u001b[0;34m=\u001b[0m\u001b[0mcheck_input\u001b[0m\u001b[0;34m,\u001b[0m\u001b[0;34m\u001b[0m\u001b[0;34m\u001b[0m\u001b[0m\n\u001b[0;32m--> 877\u001b[0;31m             X_idx_sorted=X_idx_sorted)\n\u001b[0m\u001b[1;32m    878\u001b[0m         \u001b[0;32mreturn\u001b[0m \u001b[0mself\u001b[0m\u001b[0;34m\u001b[0m\u001b[0;34m\u001b[0m\u001b[0m\n\u001b[1;32m    879\u001b[0m \u001b[0;34m\u001b[0m\u001b[0m\n",
            "\u001b[0;32m/usr/local/lib/python3.7/dist-packages/sklearn/tree/_classes.py\u001b[0m in \u001b[0;36mfit\u001b[0;34m(self, X, y, sample_weight, check_input, X_idx_sorted)\u001b[0m\n\u001b[1;32m    183\u001b[0m             \u001b[0;32mfor\u001b[0m \u001b[0mk\u001b[0m \u001b[0;32min\u001b[0m \u001b[0mrange\u001b[0m\u001b[0;34m(\u001b[0m\u001b[0mself\u001b[0m\u001b[0;34m.\u001b[0m\u001b[0mn_outputs_\u001b[0m\u001b[0;34m)\u001b[0m\u001b[0;34m:\u001b[0m\u001b[0;34m\u001b[0m\u001b[0;34m\u001b[0m\u001b[0m\n\u001b[1;32m    184\u001b[0m                 classes_k, y_encoded[:, k] = np.unique(y[:, k],\n\u001b[0;32m--> 185\u001b[0;31m                                                        return_inverse=True)\n\u001b[0m\u001b[1;32m    186\u001b[0m                 \u001b[0mself\u001b[0m\u001b[0;34m.\u001b[0m\u001b[0mclasses_\u001b[0m\u001b[0;34m.\u001b[0m\u001b[0mappend\u001b[0m\u001b[0;34m(\u001b[0m\u001b[0mclasses_k\u001b[0m\u001b[0;34m)\u001b[0m\u001b[0;34m\u001b[0m\u001b[0;34m\u001b[0m\u001b[0m\n\u001b[1;32m    187\u001b[0m                 \u001b[0mself\u001b[0m\u001b[0;34m.\u001b[0m\u001b[0mn_classes_\u001b[0m\u001b[0;34m.\u001b[0m\u001b[0mappend\u001b[0m\u001b[0;34m(\u001b[0m\u001b[0mclasses_k\u001b[0m\u001b[0;34m.\u001b[0m\u001b[0mshape\u001b[0m\u001b[0;34m[\u001b[0m\u001b[0;36m0\u001b[0m\u001b[0;34m]\u001b[0m\u001b[0;34m)\u001b[0m\u001b[0;34m\u001b[0m\u001b[0;34m\u001b[0m\u001b[0m\n",
            "\u001b[0;32m<__array_function__ internals>\u001b[0m in \u001b[0;36munique\u001b[0;34m(*args, **kwargs)\u001b[0m\n",
            "\u001b[0;32m/usr/local/lib/python3.7/dist-packages/numpy/lib/arraysetops.py\u001b[0m in \u001b[0;36munique\u001b[0;34m(ar, return_index, return_inverse, return_counts, axis)\u001b[0m\n\u001b[1;32m    259\u001b[0m     \u001b[0mar\u001b[0m \u001b[0;34m=\u001b[0m \u001b[0mnp\u001b[0m\u001b[0;34m.\u001b[0m\u001b[0masanyarray\u001b[0m\u001b[0;34m(\u001b[0m\u001b[0mar\u001b[0m\u001b[0;34m)\u001b[0m\u001b[0;34m\u001b[0m\u001b[0;34m\u001b[0m\u001b[0m\n\u001b[1;32m    260\u001b[0m     \u001b[0;32mif\u001b[0m \u001b[0maxis\u001b[0m \u001b[0;32mis\u001b[0m \u001b[0;32mNone\u001b[0m\u001b[0;34m:\u001b[0m\u001b[0;34m\u001b[0m\u001b[0;34m\u001b[0m\u001b[0m\n\u001b[0;32m--> 261\u001b[0;31m         \u001b[0mret\u001b[0m \u001b[0;34m=\u001b[0m \u001b[0m_unique1d\u001b[0m\u001b[0;34m(\u001b[0m\u001b[0mar\u001b[0m\u001b[0;34m,\u001b[0m \u001b[0mreturn_index\u001b[0m\u001b[0;34m,\u001b[0m \u001b[0mreturn_inverse\u001b[0m\u001b[0;34m,\u001b[0m \u001b[0mreturn_counts\u001b[0m\u001b[0;34m)\u001b[0m\u001b[0;34m\u001b[0m\u001b[0;34m\u001b[0m\u001b[0m\n\u001b[0m\u001b[1;32m    262\u001b[0m         \u001b[0;32mreturn\u001b[0m \u001b[0m_unpack_tuple\u001b[0m\u001b[0;34m(\u001b[0m\u001b[0mret\u001b[0m\u001b[0;34m)\u001b[0m\u001b[0;34m\u001b[0m\u001b[0;34m\u001b[0m\u001b[0m\n\u001b[1;32m    263\u001b[0m \u001b[0;34m\u001b[0m\u001b[0m\n",
            "\u001b[0;32m/usr/local/lib/python3.7/dist-packages/numpy/lib/arraysetops.py\u001b[0m in \u001b[0;36m_unique1d\u001b[0;34m(ar, return_index, return_inverse, return_counts)\u001b[0m\n\u001b[1;32m    317\u001b[0m \u001b[0;34m\u001b[0m\u001b[0m\n\u001b[1;32m    318\u001b[0m     \u001b[0;32mif\u001b[0m \u001b[0moptional_indices\u001b[0m\u001b[0;34m:\u001b[0m\u001b[0;34m\u001b[0m\u001b[0;34m\u001b[0m\u001b[0m\n\u001b[0;32m--> 319\u001b[0;31m         \u001b[0mperm\u001b[0m \u001b[0;34m=\u001b[0m \u001b[0mar\u001b[0m\u001b[0;34m.\u001b[0m\u001b[0margsort\u001b[0m\u001b[0;34m(\u001b[0m\u001b[0mkind\u001b[0m\u001b[0;34m=\u001b[0m\u001b[0;34m'mergesort'\u001b[0m \u001b[0;32mif\u001b[0m \u001b[0mreturn_index\u001b[0m \u001b[0;32melse\u001b[0m \u001b[0;34m'quicksort'\u001b[0m\u001b[0;34m)\u001b[0m\u001b[0;34m\u001b[0m\u001b[0;34m\u001b[0m\u001b[0m\n\u001b[0m\u001b[1;32m    320\u001b[0m         \u001b[0maux\u001b[0m \u001b[0;34m=\u001b[0m \u001b[0mar\u001b[0m\u001b[0;34m[\u001b[0m\u001b[0mperm\u001b[0m\u001b[0;34m]\u001b[0m\u001b[0;34m\u001b[0m\u001b[0;34m\u001b[0m\u001b[0m\n\u001b[1;32m    321\u001b[0m     \u001b[0;32melse\u001b[0m\u001b[0;34m:\u001b[0m\u001b[0;34m\u001b[0m\u001b[0;34m\u001b[0m\u001b[0m\n",
            "\u001b[0;31mKeyboardInterrupt\u001b[0m: "
          ]
        }
      ]
    },
    {
      "cell_type": "code",
      "metadata": {
        "id": "Vtvr-y3PEY4j"
      },
      "source": [
        "gs_rf.best_params_"
      ],
      "execution_count": null,
      "outputs": []
    },
    {
      "cell_type": "markdown",
      "metadata": {
        "id": "R3LYl3zAF3Kt"
      },
      "source": [
        "# Evaluating a classification model, beyond Accuracy "
      ]
    },
    {
      "cell_type": "code",
      "metadata": {
        "id": "cayre08OF_1H"
      },
      "source": [
        "#Make Predictions on our test data \n",
        "y_preds=gs_log_reg.predict(X_test)"
      ],
      "execution_count": 55,
      "outputs": []
    },
    {
      "cell_type": "code",
      "metadata": {
        "colab": {
          "base_uri": "https://localhost:8080/"
        },
        "id": "gMvfYnDnGZnB",
        "outputId": "3264170f-2da9-434d-857a-443ccc974320"
      },
      "source": [
        "y_preds"
      ],
      "execution_count": 56,
      "outputs": [
        {
          "output_type": "execute_result",
          "data": {
            "text/plain": [
              "array([0, 1, 1, ..., 0, 1, 0])"
            ]
          },
          "metadata": {},
          "execution_count": 56
        }
      ]
    },
    {
      "cell_type": "code",
      "metadata": {
        "colab": {
          "base_uri": "https://localhost:8080/"
        },
        "id": "2POqSB9pGbgg",
        "outputId": "9394de06-11b5-4b13-e9f0-3e4f6a231bee"
      },
      "source": [
        "y_test"
      ],
      "execution_count": 57,
      "outputs": [
        {
          "output_type": "execute_result",
          "data": {
            "text/plain": [
              "17815    0\n",
              "11616    1\n",
              "9562     1\n",
              "12608    1\n",
              "39527    1\n",
              "        ..\n",
              "7778     1\n",
              "39381    0\n",
              "26434    0\n",
              "5134     1\n",
              "22712    0\n",
              "Name: CHURN_IND, Length: 9242, dtype: int64"
            ]
          },
          "metadata": {},
          "execution_count": 57
        }
      ]
    },
    {
      "cell_type": "markdown",
      "metadata": {
        "id": "ulnHDt-KGdSr"
      },
      "source": [
        "# ROC Curve and Auc Scores / AUC=Area Under Curve and ROC=Receiver Operating Characteristic \n"
      ]
    },
    {
      "cell_type": "code",
      "metadata": {
        "colab": {
          "base_uri": "https://localhost:8080/",
          "height": 296
        },
        "id": "B453vGmDH-mC",
        "outputId": "1f6ccac3-e8e4-44ef-a13f-e5031bd0b9e0"
      },
      "source": [
        "plot_roc_curve(gs_log_reg, X_test, y_test)"
      ],
      "execution_count": 58,
      "outputs": [
        {
          "output_type": "execute_result",
          "data": {
            "text/plain": [
              "<sklearn.metrics._plot.roc_curve.RocCurveDisplay at 0x7f257ddf94d0>"
            ]
          },
          "metadata": {},
          "execution_count": 58
        },
        {
          "output_type": "display_data",
          "data": {
            "image/png": "[encoded data removed]",
            "text/plain": [
              "<Figure size 432x288 with 1 Axes>"
            ]
          },
          "metadata": {
            "needs_background": "light"
          }
        }
      ]
    },
    {
      "cell_type": "code",
      "metadata": {
        "colab": {
          "base_uri": "https://localhost:8080/",
          "height": 296
        },
        "id": "iKK652D4ILAm",
        "outputId": "a69d6cbd-81fe-4a2b-a245-187fbe03963e"
      },
      "source": [
        "plot_roc_curve(gs_log_reg,X_train, y_train)"
      ],
      "execution_count": 59,
      "outputs": [
        {
          "output_type": "execute_result",
          "data": {
            "text/plain": [
              "<sklearn.metrics._plot.roc_curve.RocCurveDisplay at 0x7f2575388f50>"
            ]
          },
          "metadata": {},
          "execution_count": 59
        },
        {
          "output_type": "display_data",
          "data": {
            "image/png": "[encoded data removed]",
            "text/plain": [
              "<Figure size 432x288 with 1 Axes>"
            ]
          },
          "metadata": {
            "needs_background": "light"
          }
        }
      ]
    },
    {
      "cell_type": "markdown",
      "metadata": {
        "id": "_aiPDTXSa0ge"
      },
      "source": [
        "# Confusion Matrix"
      ]
    },
    {
      "cell_type": "code",
      "metadata": {
        "colab": {
          "base_uri": "https://localhost:8080/"
        },
        "id": "r10RFB7-aqXN",
        "outputId": "95dab5d5-0180-42ce-94ee-a1e8275281ab"
      },
      "source": [
        "print(confusion_matrix(y_test, y_preds))"
      ],
      "execution_count": 60,
      "outputs": [
        {
          "output_type": "stream",
          "name": "stdout",
          "text": [
            "[[5133  554]\n",
            " [1307 2248]]\n"
          ]
        }
      ]
    },
    {
      "cell_type": "code",
      "metadata": {
        "colab": {
          "base_uri": "https://localhost:8080/",
          "height": 224
        },
        "id": "qOZKAoa4a_md",
        "outputId": "acd8ff19-f58e-48c1-d9e1-79072d83ff60"
      },
      "source": [
        "import seaborn as sns\n",
        "\n",
        "def plot_conf_mat(y_test, y_preds):\n",
        "  fig, ax = plt.subplots(figsize=(3, 3))\n",
        "  ax= sns.heatmap(confusion_matrix(y_test, y_preds),\n",
        "                  annot=True,\n",
        "                  cbar=False)\n",
        "  plt.xlabel(\"True Label\")\n",
        "  plt.ylabel(\"predicted label\")\n",
        "\n",
        "plot_conf_mat(y_test, y_preds)"
      ],
      "execution_count": 61,
      "outputs": [
        {
          "output_type": "display_data",
          "data": {
            "image/png": "[encoded data removed]",
            "text/plain": [
              "<Figure size 216x216 with 1 Axes>"
            ]
          },
          "metadata": {
            "needs_background": "light"
          }
        }
      ]
    },
    {
      "cell_type": "markdown",
      "metadata": {
        "id": "x0eu0L_7b6AL"
      },
      "source": [
        "# Classification Report"
      ]
    },
    {
      "cell_type": "code",
      "metadata": {
        "colab": {
          "base_uri": "https://localhost:8080/"
        },
        "id": "bokIKQjzcYjy",
        "outputId": "1784385d-7927-4d1f-e7f6-c3f51e6b3c92"
      },
      "source": [
        "print(classification_report(y_test, y_preds))"
      ],
      "execution_count": 62,
      "outputs": [
        {
          "output_type": "stream",
          "name": "stdout",
          "text": [
            "              precision    recall  f1-score   support\n",
            "\n",
            "           0       0.80      0.90      0.85      5687\n",
            "           1       0.80      0.63      0.71      3555\n",
            "\n",
            "    accuracy                           0.80      9242\n",
            "   macro avg       0.80      0.77      0.78      9242\n",
            "weighted avg       0.80      0.80      0.79      9242\n",
            "\n"
          ]
        }
      ]
    },
    {
      "cell_type": "code",
      "metadata": {
        "colab": {
          "base_uri": "https://localhost:8080/"
        },
        "id": "12DV84_HcfnK",
        "outputId": "e18b992e-3fca-4710-cc9e-f26f4fe5d38a"
      },
      "source": [
        "gs_log_reg.best_params_"
      ],
      "execution_count": 63,
      "outputs": [
        {
          "output_type": "execute_result",
          "data": {
            "text/plain": [
              "{'C': 206.913808111479, 'solver': 'liblinear'}"
            ]
          },
          "metadata": {},
          "execution_count": 63
        }
      ]
    },
    {
      "cell_type": "code",
      "metadata": {
        "id": "HTzBr9wQc5iJ"
      },
      "source": [
        "from sklearn.model_selection import cross_val_score\n",
        "clf =  LogisticRegression(C=206.913808111479,\n",
        "                          solver=\"liblinear\")"
      ],
      "execution_count": 64,
      "outputs": []
    },
    {
      "cell_type": "code",
      "metadata": {
        "id": "NR5Oaf5PhTIw"
      },
      "source": [
        "cv_acc=cross_val_score(clf,\n",
        "                       X,\n",
        "                       y,\n",
        "                       cv=5,\n",
        "                       scoring=\"accuracy\")"
      ],
      "execution_count": 66,
      "outputs": []
    },
    {
      "cell_type": "code",
      "metadata": {
        "id": "A24TC5vUdLLu"
      },
      "source": [
        "cv_acc=np.mean(cv_acc)"
      ],
      "execution_count": 67,
      "outputs": []
    },
    {
      "cell_type": "code",
      "metadata": {
        "colab": {
          "base_uri": "https://localhost:8080/"
        },
        "id": "x1YEMLjLdPTK",
        "outputId": "c91b0a85-b6da-4ca1-d213-ecf042a21cd0"
      },
      "source": [
        "cv_acc"
      ],
      "execution_count": 69,
      "outputs": [
        {
          "output_type": "execute_result",
          "data": {
            "text/plain": [
              "0.7541457498398051"
            ]
          },
          "metadata": {},
          "execution_count": 69
        }
      ]
    },
    {
      "cell_type": "code",
      "metadata": {
        "id": "HdMRxu0VigYg"
      },
      "source": [
        "cv_precision=cross_val_score(clf,\n",
        "                             X,\n",
        "                             y,\n",
        "                             cv=5,\n",
        "                             scoring=\"precision\")"
      ],
      "execution_count": 76,
      "outputs": []
    },
    {
      "cell_type": "code",
      "metadata": {
        "id": "WlnZUwFjiuxy"
      },
      "source": [
        "cv_precision=np.mean(cv_precision)"
      ],
      "execution_count": 78,
      "outputs": []
    },
    {
      "cell_type": "code",
      "metadata": {
        "colab": {
          "base_uri": "https://localhost:8080/"
        },
        "id": "9b9QeoOYi0Z7",
        "outputId": "d5a41e08-2731-4471-b899-ad928d3909fc"
      },
      "source": [
        "cv_precision"
      ],
      "execution_count": 79,
      "outputs": [
        {
          "output_type": "execute_result",
          "data": {
            "text/plain": [
              "0.8072923280558321"
            ]
          },
          "metadata": {},
          "execution_count": 79
        }
      ]
    },
    {
      "cell_type": "code",
      "metadata": {
        "colab": {
          "base_uri": "https://localhost:8080/"
        },
        "id": "YGX4lfBZdQsu",
        "outputId": "01861bb8-f152-445a-c10d-aa9154ecb139"
      },
      "source": [
        "cv_recall=cross_val_score(clf,\n",
        "                             X,\n",
        "                             y,\n",
        "                             cv=5,\n",
        "                             scoring=\"recall\")\n",
        "\n",
        "cv_recall=np.mean(cv_recall)\n",
        "\n",
        "cv_recall"
      ],
      "execution_count": 71,
      "outputs": [
        {
          "output_type": "execute_result",
          "data": {
            "text/plain": [
              "0.6078133783024171"
            ]
          },
          "metadata": {},
          "execution_count": 71
        }
      ]
    },
    {
      "cell_type": "code",
      "metadata": {
        "colab": {
          "base_uri": "https://localhost:8080/"
        },
        "id": "W7KzgDFahqWI",
        "outputId": "9a002a80-d8fa-4c46-e017-4e4638a8318d"
      },
      "source": [
        "cv_recall"
      ],
      "execution_count": 72,
      "outputs": [
        {
          "output_type": "execute_result",
          "data": {
            "text/plain": [
              "0.6078133783024171"
            ]
          },
          "metadata": {},
          "execution_count": 72
        }
      ]
    },
    {
      "cell_type": "code",
      "metadata": {
        "colab": {
          "base_uri": "https://localhost:8080/"
        },
        "id": "0Jn3wCn1d63h",
        "outputId": "605922c4-638c-41d1-e098-9e49764a3df0"
      },
      "source": [
        "cv_f1=cross_val_score(clf,\n",
        "                      X,\n",
        "                      y,\n",
        "                      cv=5,\n",
        "                      scoring=\"f1\")\n",
        "cv_f1=np.mean(cv_f1)\n",
        "\n",
        "cv_f1"
      ],
      "execution_count": 73,
      "outputs": [
        {
          "output_type": "execute_result",
          "data": {
            "text/plain": [
              "0.5824318427785806"
            ]
          },
          "metadata": {},
          "execution_count": 73
        }
      ]
    },
    {
      "cell_type": "code",
      "metadata": {
        "colab": {
          "base_uri": "https://localhost:8080/",
          "height": 334
        },
        "id": "If7skXr3eXOa",
        "outputId": "9cc4f616-9596-4cd1-87f0-887602bef59f"
      },
      "source": [
        "cv_metrics=pd.DataFrame({\"Accuracy\":cv_acc,\n",
        "                         \"Precision\": cv_precision,\n",
        "                         \"Recall\": cv_recall,\n",
        "                         \"F1-Score\": cv_f1},\n",
        "                        index=[0])\n",
        "cv_metrics.T.plot.bar(title=\"Cross Validated Metrics\", legend=False)"
      ],
      "execution_count": 80,
      "outputs": [
        {
          "output_type": "execute_result",
          "data": {
            "text/plain": [
              "<matplotlib.axes._subplots.AxesSubplot at 0x7f257df09e90>"
            ]
          },
          "metadata": {},
          "execution_count": 80
        },
        {
          "output_type": "display_data",
          "data": {
            "image/png": "[encoded data removed]",
            "text/plain": [
              "<Figure size 432x288 with 1 Axes>"
            ]
          },
          "metadata": {
            "needs_background": "light"
          }
        }
      ]
    },
    {
      "cell_type": "markdown",
      "metadata": {
        "id": "gKubk7HGfPE0"
      },
      "source": [
        "# Feature Importance"
      ]
    },
    {
      "cell_type": "code",
      "metadata": {
        "colab": {
          "base_uri": "https://localhost:8080/"
        },
        "id": "j-mnHgSufNKJ",
        "outputId": "fc9367fa-8d51-4f1a-df26-524eccc939e0"
      },
      "source": [
        "clf.fit(X_train, y_train)"
      ],
      "execution_count": 81,
      "outputs": [
        {
          "output_type": "execute_result",
          "data": {
            "text/plain": [
              "LogisticRegression(C=206.913808111479, class_weight=None, dual=False,\n",
              "                   fit_intercept=True, intercept_scaling=1, l1_ratio=None,\n",
              "                   max_iter=100, multi_class='auto', n_jobs=None, penalty='l2',\n",
              "                   random_state=None, solver='liblinear', tol=0.0001, verbose=0,\n",
              "                   warm_start=False)"
            ]
          },
          "metadata": {},
          "execution_count": 81
        }
      ]
    },
    {
      "cell_type": "code",
      "metadata": {
        "colab": {
          "base_uri": "https://localhost:8080/"
        },
        "id": "2UMd6scPfXrb",
        "outputId": "1bd48edf-e79b-47b1-c0f7-fb89b1f13e60"
      },
      "source": [
        "clf.coef_"
      ],
      "execution_count": 82,
      "outputs": [
        {
          "output_type": "execute_result",
          "data": {
            "text/plain": [
              "array([[-4.43510048e-05, -5.17915162e-03,  6.39903634e-03,\n",
              "         6.23644097e-03,  6.32353393e-03, -4.52558138e-03,\n",
              "         6.75440865e-03,  8.56714581e-03,  1.61482902e-02,\n",
              "        -1.06174874e-01,  3.03620635e-02,  4.74006272e-04,\n",
              "        -2.37549394e-03,  3.64852958e-02,  1.13520018e-02,\n",
              "         9.46572724e-03,  3.19425784e-02,  0.00000000e+00,\n",
              "         0.00000000e+00,  0.00000000e+00,  0.00000000e+00,\n",
              "         0.00000000e+00, -9.02720698e-07, -9.02720698e-07]])"
            ]
          },
          "metadata": {},
          "execution_count": 82
        }
      ]
    },
    {
      "cell_type": "code",
      "metadata": {
        "id": "BiJ7WA47fcNu"
      },
      "source": [
        "feature_dict=dict(zip(df.columns, list(clf.coef_[0])))"
      ],
      "execution_count": 83,
      "outputs": []
    },
    {
      "cell_type": "code",
      "metadata": {
        "colab": {
          "base_uri": "https://localhost:8080/"
        },
        "id": "S-GQclDcfr1V",
        "outputId": "d0b3e9c3-35ab-423a-bf55-ae62b5e6c2f0"
      },
      "source": [
        "feature_dict"
      ],
      "execution_count": 84,
      "outputs": [
        {
          "output_type": "execute_result",
          "data": {
            "text/plain": [
              "{'ACCOUNT_TENURE': -0.005179151622218367,\n",
              " 'ACCT_CNT_SERVICES': 0.006399036336293795,\n",
              " 'AGE': 0.006236440974319034,\n",
              " 'AGE_is_missing': 0.0,\n",
              " 'BYO_PLAN_STATUS': 0.008567145813741189,\n",
              " 'BYO_PLAN_STATUS_is_missing': 0.0,\n",
              " 'CFU': 0.00632353393067298,\n",
              " 'CFU_is_missing': 0.0,\n",
              " 'CHURN_IND': 0.011352001752381581,\n",
              " 'CONTRACT_STATUS': 0.0004740062724478319,\n",
              " 'CONTRACT_STATUS_is_missing': 0.0,\n",
              " 'COUNTRY_METRO_REGION': 0.03194257838897954,\n",
              " 'COUNTRY_METRO_REGION_is_missing': -9.027206976680707e-07,\n",
              " 'CUST_ID': -4.435100477524466e-05,\n",
              " 'HANDSET_USED_BRAND': 0.03648529582419254,\n",
              " 'HANDSET_USED_BRAND_is_missing': -9.027206976680707e-07,\n",
              " 'LAST_FX_CONTRACT_DURATION': 0.030362063454137375,\n",
              " 'MONTHLY_SPEND': 0.009465727237244558,\n",
              " 'MONTHS_OF_CONTRACT_REMAINING': -0.10617487415833995,\n",
              " 'PLAN_ACCESS_FEE': 0.006754408650181355,\n",
              " 'PLAN_TENURE': 0.016148290207624254,\n",
              " 'PREV_CONTRACT_DURATION': -0.002375493943371516,\n",
              " 'SERVICE_TENURE': -0.004525581380703145,\n",
              " 'STATE': 0.0}"
            ]
          },
          "metadata": {},
          "execution_count": 84
        }
      ]
    },
    {
      "cell_type": "code",
      "metadata": {
        "colab": {
          "base_uri": "https://localhost:8080/",
          "height": 477
        },
        "id": "5d-7qbn_fvYj",
        "outputId": "071437f9-490d-49ff-d134-97cd8a8564bf"
      },
      "source": [
        "features_df=pd.DataFrame(feature_dict, index=[0])\n",
        "\n",
        "features_df.T.plot.bar(title=\"Feature Importance\", legend=False)"
      ],
      "execution_count": 86,
      "outputs": [
        {
          "output_type": "execute_result",
          "data": {
            "text/plain": [
              "<matplotlib.axes._subplots.AxesSubplot at 0x7f257dea1650>"
            ]
          },
          "metadata": {},
          "execution_count": 86
        },
        {
          "output_type": "display_data",
          "data": {
            "image/png": "[encoded data removed]",
            "text/plain": [
              "<Figure size 432x288 with 1 Axes>"
            ]
          },
          "metadata": {
            "needs_background": "light"
          }
        }
      ]
    },
    {
      "cell_type": "code",
      "metadata": {
        "colab": {
          "base_uri": "https://localhost:8080/",
          "height": 392
        },
        "id": "qlDjJfbmgN-Q",
        "outputId": "6da0f481-6afc-4279-da82-e67085fc1eb7"
      },
      "source": [
        "import matplotlib.pyplot as plt\n",
        "\n",
        "fig,ax=plt.subplots(figsize=(10,6))\n",
        "ax.bar(feature_dict.keys(),feature_dict.values())\n",
        "\n",
        "ax.axhline(features_df[\"CHURN_IND\"].mean(),\n",
        "           linestyle=\"--\")"
      ],
      "execution_count": 92,
      "outputs": [
        {
          "output_type": "execute_result",
          "data": {
            "text/plain": [
              "<matplotlib.lines.Line2D at 0x7f2574cad690>"
            ]
          },
          "metadata": {},
          "execution_count": 92
        },
        {
          "output_type": "display_data",
          "data": {
            "image/png": "[encoded data removed]",
            "text/plain": [
              "<Figure size 720x432 with 1 Axes>"
            ]
          },
          "metadata": {
            "needs_background": "light"
          }
        }
      ]
    }
  ]
}